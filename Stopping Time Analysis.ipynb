{
 "cells": [
  {
   "cell_type": "markdown",
   "id": "ef93da77",
   "metadata": {},
   "source": [
    "# Stopping Time Analysis"
   ]
  },
  {
   "cell_type": "markdown",
   "id": "e455fb1d",
   "metadata": {},
   "source": [
    "Denote the space of suboptimal equilibria as $\\pi_e$ and the globally optimal equilibrium as $\\pi_g$. \\\n",
    "\n",
    "Define:\\\n",
    "$\\tau_e := min(t>0: \\pi_t \\in \\pi_e)$\\\n",
    "$\\tau_{e,i} := E[\\tau_e | \\pi_0 = i, \\tau_e <\\infty ]$\n",
    "\n",
    "and similarly for $\\tau_g, \\tau_{g,i}$, where the indices $i$ denote a joint policy from an enumeration of the policy space. "
   ]
  },
  {
   "cell_type": "markdown",
   "id": "493d8a8a",
   "metadata": {},
   "source": [
    "The below analysis is performed for the prisoner's dilemma problem with $\\lambda^0 = 1/4, \\lambda^1 = 3/4$"
   ]
  },
  {
   "cell_type": "code",
   "execution_count": 1,
   "id": "6b7f4bc1",
   "metadata": {},
   "outputs": [],
   "source": [
    "import numpy as np\n",
    "\n",
    "from sympy import *\n",
    "from sympy.printing.latex import LatexPrinter, print_latex\n",
    "from sympy.interactive import printing\n",
    "from IPython.display import Math, display\n",
    "\n",
    "from tqdm import tqdm"
   ]
  },
  {
   "cell_type": "markdown",
   "id": "ed8ce940",
   "metadata": {},
   "source": [
    "The transition matrix; obtained via the BR graph and $\\lambda$'s"
   ]
  },
  {
   "cell_type": "code",
   "execution_count": 2,
   "id": "64fbc16f",
   "metadata": {},
   "outputs": [
    {
     "data": {
      "text/latex": [
       "$\\displaystyle \\left[\\begin{matrix}1 & 0 & 0 & 0\\\\\\frac{1}{16} & \\frac{3}{16} & \\frac{3}{16} & \\frac{9}{16}\\\\\\frac{9}{16} & \\frac{3}{16} & \\frac{3}{16} & \\frac{1}{16}\\\\0 & 0 & 0 & 1\\end{matrix}\\right]$"
      ],
      "text/plain": [
       "Matrix([\n",
       "[   1,    0,    0,    0],\n",
       "[1/16, 3/16, 3/16, 9/16],\n",
       "[9/16, 3/16, 3/16, 1/16],\n",
       "[   0,    0,    0,    1]])"
      ]
     },
     "execution_count": 2,
     "metadata": {},
     "output_type": "execute_result"
    }
   ],
   "source": [
    "# transition matrix\n",
    "P_ = np.array([[1.    , 0.    , 0.    , 0.    ],\n",
    "       [0.0625, 0.1875, 0.1875, 0.5625],\n",
    "       [0.5625, 0.1875, 0.1875, 0.0625],\n",
    "       [0.    , 0.    , 0.    , 1.    ]])\n",
    "P = Matrix(P_).applyfunc(nsimplify)\n",
    "P"
   ]
  },
  {
   "cell_type": "code",
   "execution_count": 3,
   "id": "7134ef2a",
   "metadata": {},
   "outputs": [],
   "source": [
    "# indices of suboptimal and optimal equilibria\n",
    "pi_e = 0\n",
    "pi_g = 3\n",
    "\n",
    "mask_e = np.array([True if i!=pi_e else False for i in range(P_.shape[0])])\n",
    "mask_g = np.array([True if i!=pi_g else False for i in range(P_.shape[0])])"
   ]
  },
  {
   "cell_type": "code",
   "execution_count": 4,
   "id": "3d8219b1",
   "metadata": {},
   "outputs": [],
   "source": [
    "# transition matrix removing global optimal equilibrium and suboptimal equilibrium respectively \n",
    "P_ng = Matrix(P_[:,mask_g][mask_g, :]/(1-P_[mask_g,pi_g, np.newaxis])).applyfunc(nsimplify)\n",
    "P_ne = Matrix(P_[:,mask_e][mask_e, :]/(1-P_[mask_e,pi_e, np.newaxis])).applyfunc(nsimplify)"
   ]
  },
  {
   "cell_type": "markdown",
   "id": "8b9ed913",
   "metadata": {},
   "source": [
    "## First, calculate $\\tau_e$"
   ]
  },
  {
   "cell_type": "code",
   "execution_count": 5,
   "id": "7939c99e",
   "metadata": {},
   "outputs": [
    {
     "data": {
      "text/latex": [
       "$\\displaystyle \\left[\\begin{matrix}1 & 0 & 0\\\\\\frac{1}{7} & \\frac{3}{7} & \\frac{3}{7}\\\\\\frac{3}{5} & \\frac{1}{5} & \\frac{1}{5}\\end{matrix}\\right]$"
      ],
      "text/plain": [
       "Matrix([\n",
       "[  1,   0,   0],\n",
       "[1/7, 3/7, 3/7],\n",
       "[3/5, 1/5, 1/5]])"
      ]
     },
     "execution_count": 5,
     "metadata": {},
     "output_type": "execute_result"
    }
   ],
   "source": [
    "P_ng # the transition matrix given that global optimum is not visited"
   ]
  },
  {
   "cell_type": "code",
   "execution_count": 6,
   "id": "6b2fefd1",
   "metadata": {},
   "outputs": [],
   "source": [
    "x_end = 0 # end state\n",
    "\n",
    "tau_0, tau_1, tau_2 = symbols('tau0:3')\n",
    "taus = [tau_0, tau_1, tau_2]"
   ]
  },
  {
   "cell_type": "code",
   "execution_count": 7,
   "id": "4b5ecfc4",
   "metadata": {},
   "outputs": [],
   "source": [
    "xs_ng = [0, 1, 2]\n",
    "\n",
    "# define system of equations using conditional transition matrix above\n",
    "eqs = [Eq(tau_0, 0),\n",
    "        Eq(tau_1, 1 + sum([P_ng[1, x_1]*tau_i for x_1, tau_i in zip(xs_ng, taus)])),\n",
    "        Eq(tau_2, 1 + sum(P_ng[2, x_1]*tau_i for x_1, tau_i in zip(xs_ng, taus)))]"
   ]
  },
  {
   "cell_type": "markdown",
   "id": "fcdf6c14",
   "metadata": {},
   "source": [
    "The transition matrix gives us the following system of equations for hitting times corresponding to each initial state (policy):"
   ]
  },
  {
   "cell_type": "code",
   "execution_count": 8,
   "id": "425ead89",
   "metadata": {},
   "outputs": [
    {
     "data": {
      "text/latex": [
       "$\\displaystyle \\tau_{0} = 0$"
      ],
      "text/plain": [
       "<IPython.core.display.Math object>"
      ]
     },
     "metadata": {},
     "output_type": "display_data"
    },
    {
     "data": {
      "text/latex": [
       "$\\displaystyle \\tau_{1} = \\frac{\\tau_{0}}{7} + \\frac{3 \\tau_{1}}{7} + \\frac{3 \\tau_{2}}{7} + 1$"
      ],
      "text/plain": [
       "<IPython.core.display.Math object>"
      ]
     },
     "metadata": {},
     "output_type": "display_data"
    },
    {
     "data": {
      "text/latex": [
       "$\\displaystyle \\tau_{2} = \\frac{3 \\tau_{0}}{5} + \\frac{\\tau_{1}}{5} + \\frac{\\tau_{2}}{5} + 1$"
      ],
      "text/plain": [
       "<IPython.core.display.Math object>"
      ]
     },
     "metadata": {},
     "output_type": "display_data"
    }
   ],
   "source": [
    "# display system of equations\n",
    "for eq in eqs:\n",
    "    display(Math(printing.default_latex(eq)))"
   ]
  },
  {
   "cell_type": "markdown",
   "id": "563faa27",
   "metadata": {},
   "source": [
    "This system of equations admits the following solution:"
   ]
  },
  {
   "cell_type": "code",
   "execution_count": 9,
   "id": "124d3afe",
   "metadata": {},
   "outputs": [
    {
     "data": {
      "text/plain": [
       "{tau0: 0, tau1: 43/13, tau2: 27/13}"
      ]
     },
     "execution_count": 9,
     "metadata": {},
     "output_type": "execute_result"
    }
   ],
   "source": [
    "solve(eqs)"
   ]
  },
  {
   "cell_type": "markdown",
   "id": "f1af0f26",
   "metadata": {},
   "source": [
    "Now, we confirm the solution is correct via simulation"
   ]
  },
  {
   "cell_type": "code",
   "execution_count": 10,
   "id": "58ddbe26",
   "metadata": {},
   "outputs": [],
   "source": [
    "# simulation function to confirm answer\n",
    "def sim_n(P, x_0, n_x, x_end):\n",
    "    x_t = x_0\n",
    "    t = 0\n",
    "    \n",
    "    while True:\n",
    "        \n",
    "        if x_t == x_end:\n",
    "            return t\n",
    "        \n",
    "        while True:\n",
    "            x_t_ = np.random.choice(range(P.shape[0]), p=P[x_t])\n",
    "            if x_t_ != n_x:\n",
    "                x_t = x_t_\n",
    "                break\n",
    "        t+= 1"
   ]
  },
  {
   "cell_type": "code",
   "execution_count": 11,
   "id": "3de38f8e",
   "metadata": {},
   "outputs": [
    {
     "name": "stderr",
     "output_type": "stream",
     "text": [
      "100%|██████████████████████████████████████████████████████████████████████████| 10000/10000 [00:03<00:00, 2519.70it/s]\n"
     ]
    },
    {
     "data": {
      "text/plain": [
       "2.0727"
      ]
     },
     "execution_count": 11,
     "metadata": {},
     "output_type": "execute_result"
    }
   ],
   "source": [
    "# confirm answers above with simulation\n",
    "n_samples = int(1e4)\n",
    "x_0 = 2 # initial state (\\tau_{x_0})\n",
    "n_x = pi_g\n",
    "x_end = pi_e\n",
    "sims = np.array([sim_n(P_, x_0, n_x, x_end) for _ in tqdm(range(n_samples))])\n",
    "sims = sims[sims!=-1]\n",
    "np.average(sims) "
   ]
  },
  {
   "cell_type": "code",
   "execution_count": 12,
   "id": "912c3e93",
   "metadata": {},
   "outputs": [
    {
     "data": {
      "text/plain": [
       "2.076923076923077"
      ]
     },
     "execution_count": 12,
     "metadata": {},
     "output_type": "execute_result"
    }
   ],
   "source": [
    "27/13 # \\tau_2"
   ]
  },
  {
   "cell_type": "markdown",
   "id": "9b3db974",
   "metadata": {},
   "source": [
    "## Now, calculate $\\tau_g$"
   ]
  },
  {
   "cell_type": "code",
   "execution_count": 13,
   "id": "d793e180",
   "metadata": {},
   "outputs": [
    {
     "data": {
      "text/latex": [
       "$\\displaystyle \\left[\\begin{matrix}\\frac{1}{5} & \\frac{1}{5} & \\frac{3}{5}\\\\\\frac{3}{7} & \\frac{3}{7} & \\frac{1}{7}\\\\0 & 0 & 1\\end{matrix}\\right]$"
      ],
      "text/plain": [
       "Matrix([\n",
       "[1/5, 1/5, 3/5],\n",
       "[3/7, 3/7, 1/7],\n",
       "[  0,   0,   1]])"
      ]
     },
     "execution_count": 13,
     "metadata": {},
     "output_type": "execute_result"
    }
   ],
   "source": [
    "P_ne # transition matrix conditioned on suboptimal equilibrium not being visited"
   ]
  },
  {
   "cell_type": "code",
   "execution_count": 14,
   "id": "806f03d3",
   "metadata": {},
   "outputs": [],
   "source": [
    "# here, we calculate stopping time to the optimal equilibrium\n",
    "x_end = 3 # end state\n",
    "\n",
    "tau_1, tau_2, tau_3 = symbols('tau1:4')\n",
    "taus = [tau_1, tau_2, tau_3]"
   ]
  },
  {
   "cell_type": "code",
   "execution_count": 15,
   "id": "3bc764c8",
   "metadata": {},
   "outputs": [],
   "source": [
    "xs_ne = [1, 2, 3]\n",
    "\n",
    "eqs = [\n",
    "        Eq(tau_3, 0),\n",
    "        Eq(tau_2, 1 + sum(P_ne[2-1, x_1 - 1]*tau_i for x_1, tau_i in zip(xs_ne, taus))),\n",
    "        Eq(tau_1, 1 + sum([P_ne[1-1, x_1 - 1]*tau_i for x_1, tau_i in zip(xs_ne, taus)]))\n",
    "      ]"
   ]
  },
  {
   "cell_type": "markdown",
   "id": "821ac4e5",
   "metadata": {},
   "source": [
    "The transition matrix gives us the following system of equations for hitting times corresponding to each initial state (policy)"
   ]
  },
  {
   "cell_type": "code",
   "execution_count": 16,
   "id": "29e6724f",
   "metadata": {},
   "outputs": [
    {
     "data": {
      "text/latex": [
       "$\\displaystyle \\tau_{3} = 0$"
      ],
      "text/plain": [
       "<IPython.core.display.Math object>"
      ]
     },
     "metadata": {},
     "output_type": "display_data"
    },
    {
     "data": {
      "text/latex": [
       "$\\displaystyle \\tau_{2} = \\frac{3 \\tau_{1}}{7} + \\frac{3 \\tau_{2}}{7} + \\frac{\\tau_{3}}{7} + 1$"
      ],
      "text/plain": [
       "<IPython.core.display.Math object>"
      ]
     },
     "metadata": {},
     "output_type": "display_data"
    },
    {
     "data": {
      "text/latex": [
       "$\\displaystyle \\tau_{1} = \\frac{\\tau_{1}}{5} + \\frac{\\tau_{2}}{5} + \\frac{3 \\tau_{3}}{5} + 1$"
      ],
      "text/plain": [
       "<IPython.core.display.Math object>"
      ]
     },
     "metadata": {},
     "output_type": "display_data"
    }
   ],
   "source": [
    "# display system of equations\n",
    "for eq in eqs:\n",
    "    display(Math(printing.default_latex(eq)))"
   ]
  },
  {
   "cell_type": "markdown",
   "id": "9b3dbb74",
   "metadata": {},
   "source": [
    "The system of equations admits the following solution:"
   ]
  },
  {
   "cell_type": "code",
   "execution_count": 17,
   "id": "8b6206dd",
   "metadata": {},
   "outputs": [
    {
     "data": {
      "text/plain": [
       "{tau1: 27/13, tau2: 43/13, tau3: 0}"
      ]
     },
     "execution_count": 17,
     "metadata": {},
     "output_type": "execute_result"
    }
   ],
   "source": [
    "# solve system of equations\n",
    "solve(eqs)"
   ]
  },
  {
   "cell_type": "markdown",
   "id": "de619cb3",
   "metadata": {},
   "source": [
    "Now, we confirm the solution is correct via simulation:"
   ]
  },
  {
   "cell_type": "code",
   "execution_count": 18,
   "id": "279a4f14",
   "metadata": {},
   "outputs": [
    {
     "name": "stderr",
     "output_type": "stream",
     "text": [
      "100%|██████████████████████████████████████████████████████████████████████████| 10000/10000 [00:08<00:00, 1130.44it/s]\n"
     ]
    },
    {
     "data": {
      "text/plain": [
       "3.2921"
      ]
     },
     "execution_count": 18,
     "metadata": {},
     "output_type": "execute_result"
    }
   ],
   "source": [
    "# confirm with simulation\n",
    "n_samples = int(1e4)\n",
    "x_0 = 2\n",
    "n_x = pi_e\n",
    "x_end = pi_g\n",
    "sims = np.array([sim_n(P_, x_0, n_x, x_end) for _ in tqdm(range(n_samples))])\n",
    "sims = sims[sims!=-1]\n",
    "np.average(sims)"
   ]
  },
  {
   "cell_type": "code",
   "execution_count": 19,
   "id": "4cdf110b",
   "metadata": {},
   "outputs": [
    {
     "data": {
      "text/plain": [
       "3.3076923076923075"
      ]
     },
     "execution_count": 19,
     "metadata": {},
     "output_type": "execute_result"
    }
   ],
   "source": [
    "43/13"
   ]
  },
  {
   "cell_type": "markdown",
   "id": "6b7b2d2c",
   "metadata": {},
   "source": [
    "Question: How can hitting time for a particular equilibrium conditioned on it being hit correspond to the probability of converging to one equilibrium vs another?\n",
    "\n",
    "Comparing against results from $\\lim_{t \\to \\infty} P^t$ and simulations, the stopping time analysis in this case gives lower hitting times when the probability of converging to that equilibrium from the initial policy is higher. Will this necessarily be the case? What results state this? There are theorems like Kac's theorem for irreducible markov chains, but our's is not irreducible, and further we are adding a conditional to the hitting time, so its not a pure expectation of stopping time (which would be infinity). "
   ]
  }
 ],
 "metadata": {
  "kernelspec": {
   "display_name": "Python 3",
   "language": "python",
   "name": "python3"
  },
  "language_info": {
   "codemirror_mode": {
    "name": "ipython",
    "version": 3
   },
   "file_extension": ".py",
   "mimetype": "text/x-python",
   "name": "python",
   "nbconvert_exporter": "python",
   "pygments_lexer": "ipython3",
   "version": "3.8.5"
  }
 },
 "nbformat": 4,
 "nbformat_minor": 5
}
