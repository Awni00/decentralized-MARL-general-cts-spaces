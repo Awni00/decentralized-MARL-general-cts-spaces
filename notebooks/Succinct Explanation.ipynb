{
 "cells": [
  {
   "cell_type": "markdown",
   "id": "07080b0a",
   "metadata": {},
   "source": [
    "# Succinct Explanation of Issue"
   ]
  },
  {
   "cell_type": "markdown",
   "id": "9699fe4d",
   "metadata": {},
   "source": [
    "The end goal is to calculate $P(\\tau_{e,i} < \\tau_{g,i})$, where, as before:\n",
    "\n",
    "$\\tau_{e,i} := min(t>0: \\pi_t=\\pi_e, \\pi_0 = i)$\n",
    "\n",
    "The approach Serdar suggested is to use conditional expectations of the hitting times to calculate $Pr(\\tau_{e,i} < \\tau_{g,i})$. Via a different approach (using $\\lim_{t\\to\\infty}P^t$), as well as simulation, fixing $i=1$, we know that $P(\\tau_{e,1} < \\tau_{g,1}) = 1/4$ and $P(\\tau_{e,1} < \\tau_{g,1}) = 3/4$. (if $i=2$ those probabilities are switched, but let's focus on $i=1$ for now). But I am trying to calculate that using Serdar's approach with expected hitting times.\n",
    "\n",
    "This is the calculation to get to $P(\\tau_{e,i} < \\tau_{g,i})$. We have that: \n",
    "$$E[\\min(\\tau_{e,i}, \\tau{g,i})] = P(\\tau_{e,i} < \\tau_{g,i}) E[\\min(\\tau_{e,i},\\tau_{g,i}) | \\tau_{e,i} < \\tau_{g,i}]\n",
    "\t+ P(\\tau_{g,i} < \\tau_{e,i}) E[\\min(\\tau_{e,i},\\tau_{g,i}) | \\tau_{g,i} < \\tau_{e,i}]$$\n",
    "    \n",
    "Using the fact that $P(\\tau_{g,i} < \\tau_{e,i}) = 1 - P(\\tau_{e,i} < \\tau_{g,i})$ and rearranging, we get:\n",
    "\n",
    "$$P(\\tau_{e,i} < \\tau_{g,i}) = \\frac{E[\\min(\\tau_{e,i},\\tau_{g,i})] - E[\\tau_{g,i} | \\tau_{g,i}<\\tau_{e,i}]}{E[\\tau_{e,i} | \\tau_{e,i} < \\tau_{g,i}] - E[\\tau_{g,i} | \\tau_{g,i} < \\tau_{e,i}]}$$"
   ]
  },
  {
   "cell_type": "markdown",
   "id": "fa06af60",
   "metadata": {},
   "source": [
    "So, if we know $E[\\min(\\tau_{e,i},\\tau_{g,i})]$, $E[\\tau_{g,i} | \\tau_{g,i}<\\tau_{e,i}]$, and $E[\\tau_{e,i} | \\tau_{e,i} < \\tau_{g,i}]$, we can calculate $P(\\tau_{e,i} < \\tau_{g,i})$. This is what we want. The idea was that we can compute those expectations by the law of total expectation conditioning on the first transition. "
   ]
  },
  {
   "cell_type": "markdown",
   "id": "ea17f96b",
   "metadata": {},
   "source": [
    "Using this method, you and I got the same answers. $E[\\tau_{e,1} | \\tau_{e,1} < \\tau_{g,1}] = 43/13$ and $E[\\tau_{e,2} | \\tau_{e,2} < \\tau_{g,2}] = 27/13$. By the same method, we get $E[\\tau_{g,1} | \\tau_{g,1} < \\tau_{e,1}] = 27/13$ and $E[\\tau_{g,2} | \\tau_{g,2} < \\tau_{e,2}] = 43/13$ (makes sense by the symmetry of the problem). But my claim is that those answers are somehow \"wrong\". \n",
    "\n",
    "We have that $E[\\min(\\tau_{e,i}, \\tau_{g,i})] = 8/5$ for both $i=1,2$. This calculation is not an issue, I'm pretty confident this is correct.\n",
    "\n",
    "Putting this together, for $i=1$ we get:\n",
    "\n",
    "$$\n",
    "P(\\tau_{e,1} < \\tau_{g,1}) = \\frac{E[\\min(\\tau_{e,1},\\tau_{g,1})] - E[\\tau_{g,1} | \\tau_{g,1}<\\tau_{e,1}]}{E[\\tau_{e,1} | \\tau_{e,1} < \\tau_{g,1}] - E[\\tau_{g,1} | \\tau_{g,1} < \\tau_{e,1}]}\n",
    "= \\frac{(8/5)-(27/13)}{(43/13)-(27/13)} = -\\frac{31}{80}\n",
    "$$\n",
    "\n",
    "Obviously this doesn't make sense. This is why I'm concluding that the expectations we're computing actually correspond to something else (a different condition)."
   ]
  },
  {
   "cell_type": "markdown",
   "id": "2baee7a9",
   "metadata": {},
   "source": [
    "Like you, I also initially confirmed my answers with simulation. But, now I believe that simulation is also \"wrong\" / corresponds to a different condition.\n",
    "\n",
    "The two simulations below both give the answers we get via the iterated expectation calculations.\n",
    "\n",
    "The first one uses the original transition matrix (not reduced) and samples the next state from it. If the next state is the other equilibrium, it samples again until it gets a valid state. It does this until it reaches the correct equilibrium.\n",
    "\n",
    "The second one uses the reduced transition matrix directly (where the other equilibrium is removed and we normalized with respect it) to sample the next state until the equilibrium is reached.\n",
    "\n",
    "At the end, each simulation returns the number of steps it took to reach equilibrium and we average over many simulations."
   ]
  },
  {
   "cell_type": "code",
   "execution_count": null,
   "id": "082edcef",
   "metadata": {},
   "outputs": [],
   "source": [
    "# simulations that give the \"wrong\" answer\n",
    "\n",
    "def sim1(P, x_0, n_x, x_end):\n",
    "    x_t = x_0\n",
    "    t = 0\n",
    "    \n",
    "    while True:\n",
    "        # if equilibrium reached, return hitting time.\n",
    "        if x_t == x_end:\n",
    "            return t\n",
    "        \n",
    "        # sample next state (keep sampling until valid state is given)\n",
    "        while True:\n",
    "            x_t_ = np.random.choice(range(P.shape[0]), p=P[x_t])\n",
    "            if x_t_ != n_x:\n",
    "                x_t = x_t_\n",
    "                break\n",
    "        t+= 1\n",
    "\n",
    "def sim2(P_ng, x_0, x_end):\n",
    "    x_t = x_0\n",
    "    t = 0\n",
    "    \n",
    "    while True:\n",
    "        # if equilibrium reached, return hitting time.\n",
    "        if x_t == x_end:\n",
    "            return t\n",
    "        \n",
    "        #sample next state from reduced transition matrix\n",
    "        x_t = np.random.choice(range(P_ng.shape[0]), p=P_ng[x_t])\n",
    "        \n",
    "        t+=1"
   ]
  },
  {
   "cell_type": "markdown",
   "id": "6e980691",
   "metadata": {},
   "source": [
    "Both of these simualtions give the same answers we got (i.e.: $E[\\tau_{e,1} | \\tau_{e,1} < \\tau_{g,1}] = 43/13$, etc...). But as we saw above, these answers must be wrong."
   ]
  },
  {
   "cell_type": "markdown",
   "id": "04d4db8d",
   "metadata": {},
   "source": [
    "There is a different simulation I found that does give the correct answer. It simulates each episode using the full transition matrix to its completion regardless of which equilibrium is reached. It then returns which equilibrium was reached and the time to get there. Then to compute each expectation, you take only the simulations in which the relevant equilibrium was reached and average hitting times over that."
   ]
  },
  {
   "cell_type": "code",
   "execution_count": null,
   "id": "e3e8564d",
   "metadata": {},
   "outputs": [],
   "source": [
    "def sim_correct(P, x_0, x_end):\n",
    "    x_t = x_0 # start at given initial state\n",
    "    t = 0\n",
    "    \n",
    "    while True:\n",
    "        # if one of equilibriums reached\n",
    "        if x_t in x_end:\n",
    "            return [x_t, t] # return the terminating equilibrium and the stopping time\n",
    "        \n",
    "        # sample next state\n",
    "        x_t = np.random.choice(range(P.shape[0]), p=P[x_t])\n",
    "        t+= 1"
   ]
  },
  {
   "cell_type": "markdown",
   "id": "a19e463f",
   "metadata": {},
   "source": [
    "This simulation gives the following answers (rounded to 1 decimal place):\n",
    "\n",
    "$E[\\tau_{e,1} | \\tau_{e,1} < \\tau_{g,1}] \\approx 2.2$, $E[\\tau_{e,1} | \\tau_{e,1} < \\tau_{g,1}] \\approx 1.4$\n",
    "\n",
    "Together with $E[\\min(\\tau_{e,i}, \\tau_{g,i})] = 8/5$, this gives:\n",
    "\n",
    "$$\n",
    "P(\\tau_{e,1} < \\tau_{g,1}) = \\frac{E[\\min(\\tau_{e,1},\\tau_{g,1})] - E[\\tau_{g,1} | \\tau_{g,1}<\\tau_{e,1}]}{E[\\tau_{e,1} | \\tau_{e,1} < \\tau_{g,1}] - E[\\tau_{g,1} | \\tau_{g,1} < \\tau_{e,1}]}\n",
    "\\approx \\frac{(8/5)-1.4}{2.2-1.4} = \\frac{1}{4}\n",
    "$$\n",
    "\n",
    "Which is the correct answer."
   ]
  }
 ],
 "metadata": {
  "kernelspec": {
   "display_name": "Python 3",
   "language": "python",
   "name": "python3"
  },
  "language_info": {
   "codemirror_mode": {
    "name": "ipython",
    "version": 3
   },
   "file_extension": ".py",
   "mimetype": "text/x-python",
   "name": "python",
   "nbconvert_exporter": "python",
   "pygments_lexer": "ipython3",
   "version": "3.8.5"
  }
 },
 "nbformat": 4,
 "nbformat_minor": 5
}
