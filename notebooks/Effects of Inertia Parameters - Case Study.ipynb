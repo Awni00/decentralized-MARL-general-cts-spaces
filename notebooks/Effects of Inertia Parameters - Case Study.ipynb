{
 "cells": [
  {
   "cell_type": "markdown",
   "id": "2d95139e",
   "metadata": {},
   "source": [
    "# Effects of Inertia Parameters on Absorption - Case Study through Simple Mean-field Team"
   ]
  },
  {
   "cell_type": "code",
   "execution_count": 1,
   "id": "802d5e83",
   "metadata": {},
   "outputs": [],
   "source": [
    "import itertools\n",
    "import numpy as np\n",
    "import networkx as nx\n",
    "from tqdm import tqdm\n",
    "\n",
    "from sympy import *\n",
    "from sympy.interactive import printing\n",
    "from IPython.display import Math, display\n",
    "\n",
    "import matplotlib.pyplot as plt\n",
    "\n",
    "from br_graph_analysis import learn_br_graph, transition_matrix_from_br_graph"
   ]
  },
  {
   "cell_type": "markdown",
   "id": "c85ff702",
   "metadata": {},
   "source": [
    "## Mean-field team problem"
   ]
  },
  {
   "cell_type": "markdown",
   "id": "8788ca83",
   "metadata": {},
   "source": [
    "We study a \"mean-field\" team problem with only a single state (so no state transitions), and 2 actions for each of the $N$ agents. That is, $\\mathcal{X} = \\{0\\}$, $\\mathcal{U}=\\{0,1\\}$. The reward function is simply $r(x, \\mathbf{u}) = -\\bar{u} + 2 \\cdot 1_{\\{\\bar{u}=1\\}}$, where $\\bar{u}$ is the mean action: $\\bar{u} = \\frac{1}{N}\\sum_{i=1}^N{u^i}$. So, the team penalizes taking the action $1$, unless $1$ is the only action being taken, in which case the reward is high. So, for all $N$, there are two equilibria. The joint policy of all agents taking the action $1$ is the team-optimal equilibrium, and the joint policy of all agents taking the action $0$ is a suboptimal equilibrium."
   ]
  },
  {
   "cell_type": "code",
   "execution_count": 2,
   "id": "135891ea",
   "metadata": {},
   "outputs": [],
   "source": [
    "# MEAN-FIELD PARAMETERS\n",
    "n_states = 1 # number of states\n",
    "n_actions_const = 2 # all agents have the same action spaces\n",
    "\n",
    "def get_initial_state():\n",
    "    # initial state distribution\n",
    "    return np.random.choice(range(n_states)) # uniform over states for now \n",
    "\n",
    "init_state = 0\n",
    "\n",
    "def transition_state(x, us):\n",
    "    '''returns next state given current state and action'''\n",
    "    \n",
    "    # there's only one state\n",
    "    return x\n",
    "\n",
    "def mf_reward(x, u_i, mean_u):\n",
    "    return -mean_u + 2*(mean_u == 1) # TEMP**\n",
    "\n",
    "def gen_reward_i(i):\n",
    "    def reward_i(state, actions):\n",
    "        ui = actions[i]\n",
    "        mean_u = np.average(actions)\n",
    "        return mf_reward(state, ui, mean_u)\n",
    "    \n",
    "    return reward_i\n",
    "\n",
    "beta_const = 0.9 # discount rate; constant across agents"
   ]
  },
  {
   "cell_type": "markdown",
   "id": "d27aa0ba",
   "metadata": {},
   "source": [
    "## $N=2$"
   ]
  },
  {
   "cell_type": "markdown",
   "id": "c839ed66",
   "metadata": {},
   "source": [
    "### Learn BR Graph"
   ]
  },
  {
   "cell_type": "markdown",
   "id": "2f150c6f",
   "metadata": {},
   "source": [
    "First, we learn the best-reply graph for $N=2$."
   ]
  },
  {
   "cell_type": "code",
   "execution_count": 3,
   "id": "e1640487",
   "metadata": {},
   "outputs": [
    {
     "name": "stderr",
     "output_type": "stream",
     "text": [
      "100%|████████████████████████████████████████████████████████████| 4/4 [00:09<00:00,  2.37s/it]\n"
     ]
    }
   ],
   "source": [
    "n_agents = 2\n",
    "\n",
    "# GAME PARAMS (adjusted for n-agents)\n",
    "n_Us = [n_actions_const] * n_agents # number of actions per agent (both agents have two actions)\n",
    "reward_funcs = [gen_reward_i(i) for i in range(n_agents)]\n",
    "betas = [beta_const]*n_agents # discount factor\n",
    "\n",
    "# LEARNING PARAMETERS\n",
    "T = 10000 # length of exploration phase\n",
    "experimentation_probs = [0.01]*n_agents # probability of experimentation at each action (\\rho)\n",
    "alpha_func = lambda n: 1/n\n",
    "deltas = [1e-6]*n_agents # tolerance for suboptimality\n",
    "\n",
    "\n",
    "# learn BR graph\n",
    "br_graph2 = learn_br_graph(n_agents, n_states, n_Us, init_state, transition_state, reward_funcs, betas,\n",
    "                  T, experimentation_probs, alpha_func, deltas)"
   ]
  },
  {
   "cell_type": "markdown",
   "id": "5c58cddc",
   "metadata": {},
   "source": [
    "We obtain the following graph."
   ]
  },
  {
   "cell_type": "code",
   "execution_count": 4,
   "id": "2bdade3b",
   "metadata": {},
   "outputs": [
    {
     "data": {
      "image/png": "[encoded data removed]",
      "text/plain": [
       "<Figure size 720x576 with 1 Axes>"
      ]
     },
     "metadata": {},
     "output_type": "display_data"
    }
   ],
   "source": [
    "# draw BR graph (without self-loops)\n",
    "br_graph_ = nx.DiGraph.copy(br_graph2)\n",
    "br_graph_.remove_edges_from(nx.selfloop_edges(br_graph_))\n",
    "fig, ax = plt.subplots(figsize=(10,8))\n",
    "nx.draw_spectral(br_graph_, with_labels=True, ax=ax)"
   ]
  },
  {
   "cell_type": "markdown",
   "id": "88c9ebbd",
   "metadata": {},
   "source": [
    "We confirm that the sinks of the graph are the equilibria we expect."
   ]
  },
  {
   "cell_type": "code",
   "execution_count": 5,
   "id": "3f1eccee",
   "metadata": {},
   "outputs": [
    {
     "data": {
      "text/plain": [
       "[((0,), (0,)), ((1,), (1,))]"
      ]
     },
     "execution_count": 5,
     "metadata": {},
     "output_type": "execute_result"
    }
   ],
   "source": [
    "[node for node in br_graph_.nodes if br_graph_.out_degree(node) == 0]"
   ]
  },
  {
   "cell_type": "markdown",
   "id": "c67c25d0",
   "metadata": {},
   "source": [
    "### Study effect of inertia on absorption probabilities"
   ]
  },
  {
   "cell_type": "markdown",
   "id": "e379ec2b",
   "metadata": {},
   "source": [
    "Now we look at the effect of different inertia values on the probability of convergin to the team optimal equilibrium."
   ]
  },
  {
   "cell_type": "code",
   "execution_count": 6,
   "id": "66c5c1ca",
   "metadata": {},
   "outputs": [],
   "source": [
    "agent_policy_spaces = [list(itertools.product(range(n_Us[i]), repeat=n_states)) for i in range(n_agents)]\n",
    "joint_policy_space = list(itertools.product(*agent_policy_spaces))"
   ]
  },
  {
   "cell_type": "code",
   "execution_count": 7,
   "id": "b572ea5a",
   "metadata": {},
   "outputs": [],
   "source": [
    "# BR Process Inertia PARAMETERS\n",
    "\n",
    "# constant inertia\n",
    "const_inertia = 0.5\n",
    "agent_inertias = [const_inertia]*n_agents\n",
    "\n",
    "# # different inertias\n",
    "# agent_inertias = [0.99, 0.001, 0.001]"
   ]
  },
  {
   "cell_type": "markdown",
   "id": "c8ba7d4e",
   "metadata": {},
   "source": [
    "Compute transition matrix."
   ]
  },
  {
   "cell_type": "code",
   "execution_count": 8,
   "id": "cf513706",
   "metadata": {},
   "outputs": [
    {
     "data": {
      "text/latex": [
       "$\\displaystyle P = \\left[\\begin{matrix}1 & 0 & 0 & 0\\\\\\frac{1}{4} & \\frac{1}{4} & \\frac{1}{4} & \\frac{1}{4}\\\\\\frac{1}{4} & \\frac{1}{4} & \\frac{1}{4} & \\frac{1}{4}\\\\0 & 0 & 0 & 1\\end{matrix}\\right]$"
      ],
      "text/plain": [
       "<IPython.core.display.Math object>"
      ]
     },
     "metadata": {},
     "output_type": "display_data"
    }
   ],
   "source": [
    "P_, jps_dict = transition_matrix_from_br_graph(br_graph2, agent_inertias, joint_policy_space)\n",
    "P_ = P_.astype(float)\n",
    "P = Matrix(P_).applyfunc(nsimplify)\n",
    "display(Math(f'P = {printing.default_latex(P)}')) # too big to display"
   ]
  },
  {
   "cell_type": "code",
   "execution_count": 9,
   "id": "fffc15e5",
   "metadata": {},
   "outputs": [
    {
     "data": {
      "text/latex": [
       "$\\displaystyle P_\\infty = \\left[\\begin{matrix}1 & 0 & 0 & 0\\\\\\frac{1}{2} & 0 & 0 & \\frac{1}{2}\\\\\\frac{1}{2} & 0 & 0 & \\frac{1}{2}\\\\0 & 0 & 0 & 1\\end{matrix}\\right]$"
      ],
      "text/plain": [
       "<IPython.core.display.Math object>"
      ]
     },
     "metadata": {},
     "output_type": "display_data"
    }
   ],
   "source": [
    "P_inf_ = np.round(np.linalg.matrix_power(P_, 1000), 10)\n",
    "P_inf = Matrix(P_inf_).applyfunc(nsimplify)\n",
    "display(Math(f'P_\\infty = {printing.default_latex(P_inf)}'))"
   ]
  },
  {
   "cell_type": "code",
   "execution_count": 10,
   "id": "64057932",
   "metadata": {},
   "outputs": [
    {
     "data": {
      "text/latex": [
       "$\\displaystyle \\left[\\begin{matrix}0.5 & 0 & 0 & 0.5\\end{matrix}\\right]$"
      ],
      "text/plain": [
       "Matrix([[0.5, 0, 0, 0.5]])"
      ]
     },
     "execution_count": 10,
     "metadata": {},
     "output_type": "execute_result"
    }
   ],
   "source": [
    "uniform_dist = [1/len(joint_policy_space)]*len(joint_policy_space)\n",
    "final_dist = Matrix(uniform_dist @ P_inf_).T.applyfunc(nsimplify)\n",
    "final_dist.evalf(3)"
   ]
  },
  {
   "cell_type": "markdown",
   "id": "2d067813",
   "metadata": {},
   "source": [
    "Summary: For $N=2$, absorption probabilities are equal regardless of inertia if the initial state distribution is uniform (if not uniform, inertia does have an effect)."
   ]
  },
  {
   "cell_type": "markdown",
   "id": "6e7061d3",
   "metadata": {},
   "source": [
    "### Symbolic Analysis"
   ]
  },
  {
   "cell_type": "code",
   "execution_count": 11,
   "id": "6c66763b",
   "metadata": {},
   "outputs": [
    {
     "data": {
      "text/latex": [
       "$\\displaystyle P = \\left[\\begin{matrix}1 & 0 & 0 & 0\\\\\\lambda_{0} \\left(1 - \\lambda_{1}\\right) & \\lambda_{0} \\lambda_{1} & \\left(1 - \\lambda_{0}\\right) \\left(1 - \\lambda_{1}\\right) & \\lambda_{1} \\left(1 - \\lambda_{0}\\right)\\\\\\lambda_{1} \\left(1 - \\lambda_{0}\\right) & \\left(1 - \\lambda_{0}\\right) \\left(1 - \\lambda_{1}\\right) & \\lambda_{0} \\lambda_{1} & \\lambda_{0} \\left(1 - \\lambda_{1}\\right)\\\\0 & 0 & 0 & 1\\end{matrix}\\right]$"
      ],
      "text/plain": [
       "<IPython.core.display.Math object>"
      ]
     },
     "metadata": {},
     "output_type": "display_data"
    }
   ],
   "source": [
    "agent_inertias = symbols(f'lambda_0:{n_agents}')\n",
    "\n",
    "P_, jps_dict = transition_matrix_from_br_graph(br_graph2, agent_inertias, joint_policy_space)\n",
    "\n",
    "P = Matrix(P_)\n",
    "display(Math(f'P = {printing.default_latex(P)}'))"
   ]
  },
  {
   "cell_type": "code",
   "execution_count": 12,
   "id": "13cb563e",
   "metadata": {},
   "outputs": [
    {
     "data": {
      "text/latex": [
       "$\\displaystyle Q = \\left[\\begin{matrix}\\lambda_{0} \\lambda_{1} & \\left(1 - \\lambda_{0}\\right) \\left(1 - \\lambda_{1}\\right)\\\\\\left(1 - \\lambda_{0}\\right) \\left(1 - \\lambda_{1}\\right) & \\lambda_{0} \\lambda_{1}\\end{matrix}\\right]$"
      ],
      "text/plain": [
       "<IPython.core.display.Math object>"
      ]
     },
     "metadata": {},
     "output_type": "display_data"
    },
    {
     "data": {
      "text/latex": [
       "$\\displaystyle R = \\left[\\begin{matrix}\\lambda_{0} \\left(1 - \\lambda_{1}\\right) & \\lambda_{1} \\left(1 - \\lambda_{0}\\right)\\\\\\lambda_{1} \\left(1 - \\lambda_{0}\\right) & \\lambda_{0} \\left(1 - \\lambda_{1}\\right)\\end{matrix}\\right]$"
      ],
      "text/plain": [
       "<IPython.core.display.Math object>"
      ]
     },
     "metadata": {},
     "output_type": "display_data"
    },
    {
     "data": {
      "text/latex": [
       "$\\displaystyle \\begin{bmatrix} Q & R\\\\ \\mathbf{0} & I_r \\end{bmatrix} = \\left[\\begin{matrix}\\lambda_{0} \\lambda_{1} & \\left(1 - \\lambda_{0}\\right) \\left(1 - \\lambda_{1}\\right) & \\lambda_{0} \\left(1 - \\lambda_{1}\\right) & \\lambda_{1} \\left(1 - \\lambda_{0}\\right)\\\\\\left(1 - \\lambda_{0}\\right) \\left(1 - \\lambda_{1}\\right) & \\lambda_{0} \\lambda_{1} & \\lambda_{1} \\left(1 - \\lambda_{0}\\right) & \\lambda_{0} \\left(1 - \\lambda_{1}\\right)\\\\0 & 0 & 1 & 0\\\\0 & 0 & 0 & 1\\end{matrix}\\right]$"
      ],
      "text/plain": [
       "<IPython.core.display.Math object>"
      ]
     },
     "metadata": {},
     "output_type": "display_data"
    }
   ],
   "source": [
    "abs_states = [0, len(joint_policy_space)-1]\n",
    "trans_states = [i for i in range(len(joint_policy_space)) if i not in abs_states]\n",
    "\n",
    "Q_ = P_[trans_states][:, trans_states]\n",
    "Q = Matrix(Q_).applyfunc(nsimplify)\n",
    "display(Math(f'Q = {printing.default_latex(Q)}'))\n",
    "\n",
    "R_ = P_[trans_states][:, abs_states]\n",
    "R = Matrix(R_).applyfunc(nsimplify)\n",
    "display(Math(f'R = {printing.default_latex(R)}'))\n",
    "\n",
    "reorder = trans_states + abs_states\n",
    "P_ro_ = P_[reorder][:, reorder]\n",
    "P_ro = Matrix(P_ro_).applyfunc(nsimplify)\n",
    "can_P = '\\\\begin{bmatrix} Q & R\\\\\\\\ \\\\mathbf{0} & I_r \\\\end{bmatrix}'\n",
    "display(Math(f'{can_P} = {printing.default_latex(P_ro)}'))"
   ]
  },
  {
   "cell_type": "code",
   "execution_count": 13,
   "id": "2f55d85b",
   "metadata": {},
   "outputs": [
    {
     "data": {
      "text/latex": [
       "$\\displaystyle N = \\left[\\begin{matrix}\\frac{- \\lambda_{0} \\lambda_{1} + 1}{2 \\lambda_{0}^{2} \\lambda_{1} - \\lambda_{0}^{2} + 2 \\lambda_{0} \\lambda_{1}^{2} - 6 \\lambda_{0} \\lambda_{1} + 2 \\lambda_{0} - \\lambda_{1}^{2} + 2 \\lambda_{1}} & \\frac{\\lambda_{0} \\lambda_{1} - \\lambda_{0} - \\lambda_{1} + 1}{2 \\lambda_{0}^{2} \\lambda_{1} - \\lambda_{0}^{2} + 2 \\lambda_{0} \\lambda_{1}^{2} - 6 \\lambda_{0} \\lambda_{1} + 2 \\lambda_{0} - \\lambda_{1}^{2} + 2 \\lambda_{1}}\\\\\\frac{\\lambda_{0} \\lambda_{1} - \\lambda_{0} - \\lambda_{1} + 1}{2 \\lambda_{0}^{2} \\lambda_{1} - \\lambda_{0}^{2} + 2 \\lambda_{0} \\lambda_{1}^{2} - 6 \\lambda_{0} \\lambda_{1} + 2 \\lambda_{0} - \\lambda_{1}^{2} + 2 \\lambda_{1}} & \\frac{- \\lambda_{0} \\lambda_{1} + 1}{2 \\lambda_{0}^{2} \\lambda_{1} - \\lambda_{0}^{2} + 2 \\lambda_{0} \\lambda_{1}^{2} - 6 \\lambda_{0} \\lambda_{1} + 2 \\lambda_{0} - \\lambda_{1}^{2} + 2 \\lambda_{1}}\\end{matrix}\\right]$"
      ],
      "text/plain": [
       "<IPython.core.display.Math object>"
      ]
     },
     "metadata": {},
     "output_type": "display_data"
    }
   ],
   "source": [
    "Id = Matrix(np.eye(Q.shape[0])).applyfunc(nsimplify)\n",
    "N = simplify((Id - Q).inv())\n",
    "display(Math(f'N = {printing.default_latex(N)}'))"
   ]
  },
  {
   "cell_type": "code",
   "execution_count": 14,
   "id": "3153abb5",
   "metadata": {},
   "outputs": [
    {
     "data": {
      "text/latex": [
       "$\\displaystyle B = \\left[\\begin{matrix}\\frac{\\lambda_{1} - 1}{\\lambda_{0} + \\lambda_{1} - 2} & \\frac{\\lambda_{0} - 1}{\\lambda_{0} + \\lambda_{1} - 2}\\\\\\frac{\\lambda_{0} - 1}{\\lambda_{0} + \\lambda_{1} - 2} & \\frac{\\lambda_{1} - 1}{\\lambda_{0} + \\lambda_{1} - 2}\\end{matrix}\\right]$"
      ],
      "text/plain": [
       "<IPython.core.display.Math object>"
      ]
     },
     "metadata": {},
     "output_type": "display_data"
    }
   ],
   "source": [
    "B = simplify(N@R)\n",
    "display(Math(f'B = {printing.default_latex(B)}'))"
   ]
  },
  {
   "cell_type": "code",
   "execution_count": 15,
   "id": "fd85d423",
   "metadata": {},
   "outputs": [
    {
     "data": {
      "text/latex": [
       "$\\displaystyle \\left[\\begin{matrix}0.5 & 0.5\\end{matrix}\\right]$"
      ],
      "text/plain": [
       "Matrix([[0.5, 0.5]])"
      ]
     },
     "execution_count": 15,
     "metadata": {},
     "output_type": "execute_result"
    }
   ],
   "source": [
    "uniform_dist = Matrix([1/B.shape[0]]*B.shape[0]).T\n",
    "final_dist = simplify(Matrix(uniform_dist @ B))\n",
    "final_dist"
   ]
  },
  {
   "cell_type": "code",
   "execution_count": 16,
   "id": "cd766dbc",
   "metadata": {},
   "outputs": [
    {
     "data": {
      "text/latex": [
       "$\\displaystyle P_\\infty = \\left[\\begin{matrix}0 & 0 & \\frac{\\lambda_{1} - 1}{\\lambda_{0} + \\lambda_{1} - 2} & \\frac{\\lambda_{0} - 1}{\\lambda_{0} + \\lambda_{1} - 2}\\\\0 & 0 & \\frac{\\lambda_{0} - 1}{\\lambda_{0} + \\lambda_{1} - 2} & \\frac{\\lambda_{1} - 1}{\\lambda_{0} + \\lambda_{1} - 2}\\\\0 & 0 & 1 & 0\\\\0 & 0 & 0 & 1\\end{matrix}\\right]$"
      ],
      "text/plain": [
       "<IPython.core.display.Math object>"
      ]
     },
     "metadata": {},
     "output_type": "display_data"
    }
   ],
   "source": [
    "left_side = np.zeros((len(abs_states) + len(trans_states), len(trans_states)))\n",
    "right_side = np.vstack((B, np.eye(len(abs_states))))\n",
    "P_inf_can = Matrix(np.hstack((left_side, right_side))).applyfunc(nsimplify)\n",
    "display(Math(f'P_\\infty = {printing.default_latex(P_inf_can)}')) # canonical form of P_inf"
   ]
  },
  {
   "cell_type": "code",
   "execution_count": 17,
   "id": "02d43fd2",
   "metadata": {},
   "outputs": [
    {
     "data": {
      "text/latex": [
       "$\\displaystyle \\left[\\begin{matrix}0 & 0 & 0.5 & 0.5\\end{matrix}\\right]$"
      ],
      "text/plain": [
       "Matrix([[0, 0, 0.5, 0.5]])"
      ]
     },
     "execution_count": 17,
     "metadata": {},
     "output_type": "execute_result"
    }
   ],
   "source": [
    "uniform_dist = Matrix([1/len(joint_policy_space)]*len(joint_policy_space)).T\n",
    "final_dist = simplify(Matrix(uniform_dist @ P_inf_can))\n",
    "final_dist"
   ]
  },
  {
   "cell_type": "code",
   "execution_count": 18,
   "id": "3769ed58-1811-4fa5-b9a7-07222712856a",
   "metadata": {},
   "outputs": [
    {
     "name": "stdout",
     "output_type": "stream",
     "text": [
      "\\left[\\begin{matrix}0 & 0 & 0.5 & 0.5\\end{matrix}\\right]\n"
     ]
    }
   ],
   "source": [
    "print(printing.default_latex(final_dist))"
   ]
  },
  {
   "cell_type": "markdown",
   "id": "60c526fb",
   "metadata": {},
   "source": [
    "Thus, via symbolic computation, we confirm that the final distribution of states is evenly split, regardless of inertia parameters if the initial distribution is uniform"
   ]
  },
  {
   "cell_type": "markdown",
   "id": "18bce67f",
   "metadata": {},
   "source": [
    "## $N=3$"
   ]
  },
  {
   "cell_type": "markdown",
   "id": "be541826",
   "metadata": {},
   "source": [
    "### Learn BR Graph"
   ]
  },
  {
   "cell_type": "markdown",
   "id": "b2279e5a",
   "metadata": {},
   "source": [
    "Here, we learn the best-reply graph for $N=3$."
   ]
  },
  {
   "cell_type": "code",
   "execution_count": 19,
   "id": "2be96d7c",
   "metadata": {},
   "outputs": [
    {
     "name": "stderr",
     "output_type": "stream",
     "text": [
      "100%|████████████████████████████████████████████████████████████| 8/8 [00:24<00:00,  3.03s/it]\n"
     ]
    }
   ],
   "source": [
    "n_agents = 3\n",
    "\n",
    "# GAME PARAMS (adjusted for n-agents)\n",
    "n_Us = [n_actions_const] * n_agents # number of actions per agent (both agents have two actions)\n",
    "reward_funcs = [gen_reward_i(i) for i in range(n_agents)]\n",
    "betas = [beta_const]*n_agents # discount factor\n",
    "\n",
    "# LEARNING PARAMETERS\n",
    "T = 10000 # length of exploration phase\n",
    "experimentation_probs = [0.01]*n_agents # probability of experimentation at each action (\\rho)\n",
    "alpha_func = lambda n: 1/n\n",
    "deltas = [1e-6]*n_agents # tolerance for suboptimality\n",
    "\n",
    "# learn BR graph\n",
    "br_graph3 = learn_br_graph(n_agents, n_states, n_Us, init_state, transition_state, reward_funcs, betas,\n",
    "                  T, experimentation_probs, alpha_func, deltas)"
   ]
  },
  {
   "cell_type": "markdown",
   "id": "427fdc7c",
   "metadata": {},
   "source": [
    "We obtain the following graph. (it has a nice lattice structure)."
   ]
  },
  {
   "cell_type": "code",
   "execution_count": 20,
   "id": "210c2f24",
   "metadata": {},
   "outputs": [
    {
     "data": {
      "image/png": "[encoded data removed]",
      "text/plain": [
       "<Figure size 720x576 with 1 Axes>"
      ]
     },
     "metadata": {},
     "output_type": "display_data"
    }
   ],
   "source": [
    "# draw BR graph (without self-loops)\n",
    "br_graph_ = nx.DiGraph.copy(br_graph3)\n",
    "br_graph_.remove_edges_from(nx.selfloop_edges(br_graph_))\n",
    "fig, ax = plt.subplots(figsize=(10,8))\n",
    "nx.draw_spectral(br_graph_, with_labels=True, ax=ax)"
   ]
  },
  {
   "cell_type": "markdown",
   "id": "472bb3eb",
   "metadata": {},
   "source": [
    "For $N=3$, the sinks of the BR graph are the equilibria we expect."
   ]
  },
  {
   "cell_type": "code",
   "execution_count": 21,
   "id": "90e7e29d",
   "metadata": {},
   "outputs": [
    {
     "data": {
      "text/plain": [
       "[((0,), (0,), (0,)), ((1,), (1,), (1,))]"
      ]
     },
     "execution_count": 21,
     "metadata": {},
     "output_type": "execute_result"
    }
   ],
   "source": [
    "[node for node in br_graph_.nodes if br_graph_.out_degree(node) == 0] # absorbing states"
   ]
  },
  {
   "cell_type": "markdown",
   "id": "8e42385d",
   "metadata": {},
   "source": [
    "### Study effect of inertia on absorption probabilities"
   ]
  },
  {
   "cell_type": "markdown",
   "id": "8dd0bef8",
   "metadata": {},
   "source": [
    "Now we look at the effect of different inertia values on the probability of convergin to the team optimal equilibrium."
   ]
  },
  {
   "cell_type": "code",
   "execution_count": 22,
   "id": "793a2598",
   "metadata": {},
   "outputs": [],
   "source": [
    "agent_policy_spaces = [list(itertools.product(range(n_Us[i]), repeat=n_states)) for i in range(n_agents)]\n",
    "joint_policy_space = list(itertools.product(*agent_policy_spaces))"
   ]
  },
  {
   "cell_type": "code",
   "execution_count": 23,
   "id": "99571c4c",
   "metadata": {},
   "outputs": [],
   "source": [
    "# BR Process Inertia PARAMETERS\n",
    "\n",
    "# constant inertia\n",
    "const_inertia = 0.99\n",
    "agent_inertias = [const_inertia]*n_agents"
   ]
  },
  {
   "cell_type": "markdown",
   "id": "b6249d39",
   "metadata": {},
   "source": [
    "Compute transition matrix."
   ]
  },
  {
   "cell_type": "code",
   "execution_count": 24,
   "id": "56be01d4",
   "metadata": {},
   "outputs": [
    {
     "data": {
      "text/latex": [
       "$\\displaystyle P = \\left[\\begin{matrix}1 & 0 & 0 & 0 & 0 & 0 & 0 & 0\\\\\\frac{1}{100} & \\frac{99}{100} & 0 & 0 & 0 & 0 & 0 & 0\\\\\\frac{1}{100} & 0 & \\frac{99}{100} & 0 & 0 & 0 & 0 & 0\\\\\\frac{495000000000001}{5000000000000000000} & \\frac{980100000000001}{100000000000000000} & \\frac{980100000000001}{100000000000000000} & \\frac{970299}{1000000} & \\frac{1}{1000000} & \\frac{495000000000001}{5000000000000000000} & \\frac{495000000000001}{5000000000000000000} & \\frac{980100000000001}{100000000000000000}\\\\\\frac{1}{100} & 0 & 0 & 0 & \\frac{99}{100} & 0 & 0 & 0\\\\\\frac{495000000000001}{5000000000000000000} & \\frac{980100000000001}{100000000000000000} & \\frac{1}{1000000} & \\frac{495000000000001}{5000000000000000000} & \\frac{980100000000001}{100000000000000000} & \\frac{970299}{1000000} & \\frac{495000000000001}{5000000000000000000} & \\frac{980100000000001}{100000000000000000}\\\\\\frac{495000000000001}{5000000000000000000} & \\frac{1}{1000000} & \\frac{980100000000001}{100000000000000000} & \\frac{495000000000001}{5000000000000000000} & \\frac{980100000000001}{100000000000000000} & \\frac{495000000000001}{5000000000000000000} & \\frac{970299}{1000000} & \\frac{980100000000001}{100000000000000000}\\\\0 & 0 & 0 & 0 & 0 & 0 & 0 & 1\\end{matrix}\\right]$"
      ],
      "text/plain": [
       "<IPython.core.display.Math object>"
      ]
     },
     "metadata": {},
     "output_type": "display_data"
    }
   ],
   "source": [
    "P_, jps_dict = transition_matrix_from_br_graph(br_graph3, agent_inertias, joint_policy_space)\n",
    "P_ = P_.astype(float)\n",
    "P = Matrix(P_).applyfunc(nsimplify)\n",
    "display(Math(f'P = {printing.default_latex(P)}')) # too big to display"
   ]
  },
  {
   "cell_type": "code",
   "execution_count": 25,
   "id": "00ba0712",
   "metadata": {},
   "outputs": [
    {
     "data": {
      "text/latex": [
       "$\\displaystyle P_\\infty = \\left[\\begin{matrix}1 & 0 & 0 & 0 & 0 & 0 & 0 & 0\\\\1 & 0 & 0 & 0 & 0 & 0 & 0 & 0\\\\1 & 0 & 0 & 0 & 0 & 0 & 0 & 0\\\\\\frac{6677964953}{10000000000} & 0 & 0 & 0 & 0 & 0 & 0 & \\frac{3322035047}{10000000000}\\\\1 & 0 & 0 & 0 & 0 & 0 & 0 & 0\\\\\\frac{6677964953}{10000000000} & 0 & 0 & 0 & 0 & 0 & 0 & \\frac{3322035047}{10000000000}\\\\\\frac{6677964953}{10000000000} & 0 & 0 & 0 & 0 & 0 & 0 & \\frac{3322035047}{10000000000}\\\\0 & 0 & 0 & 0 & 0 & 0 & 0 & 1\\end{matrix}\\right]$"
      ],
      "text/plain": [
       "<IPython.core.display.Math object>"
      ]
     },
     "metadata": {},
     "output_type": "display_data"
    }
   ],
   "source": [
    "P_inf_ = np.round(np.linalg.matrix_power(P_, 100000), 10)\n",
    "P_inf = Matrix(P_inf_).applyfunc(nsimplify)\n",
    "display(Math(f'P_\\infty = {printing.default_latex(P_inf)}'))"
   ]
  },
  {
   "cell_type": "markdown",
   "id": "7557aca2",
   "metadata": {},
   "source": [
    "With a constant inertia of $0.5$, this gives the following distribution over final states. (the suboptimal equilibrium is favored $2:1$)"
   ]
  },
  {
   "cell_type": "code",
   "execution_count": 26,
   "id": "1455f2d2",
   "metadata": {},
   "outputs": [
    {
     "data": {
      "text/latex": [
       "$\\displaystyle \\left[\\begin{matrix}0.75 & 0 & 0 & 0 & 0 & 0 & 0 & 0.25\\end{matrix}\\right]$"
      ],
      "text/plain": [
       "Matrix([[0.75, 0, 0, 0, 0, 0, 0, 0.25]])"
      ]
     },
     "execution_count": 26,
     "metadata": {},
     "output_type": "execute_result"
    }
   ],
   "source": [
    "uniform_dist = [1/len(joint_policy_space)]*len(joint_policy_space)\n",
    "final_dist = Matrix(uniform_dist @ P_inf_).T.applyfunc(nsimplify)\n",
    "final_dist.evalf(3)"
   ]
  },
  {
   "cell_type": "markdown",
   "id": "6274c322",
   "metadata": {},
   "source": [
    "However, unlike $N=2$, for $N=3$ different distributions are achievable for different values for inertia. "
   ]
  },
  {
   "cell_type": "markdown",
   "id": "219c6fc2",
   "metadata": {},
   "source": [
    "Below, we compute the minimum and maximum achievable absorption probabilities by varying the inertia parameters."
   ]
  },
  {
   "cell_type": "code",
   "execution_count": 27,
   "id": "c52fe38f",
   "metadata": {},
   "outputs": [],
   "source": [
    "import scipy.optimize"
   ]
  },
  {
   "cell_type": "code",
   "execution_count": 28,
   "id": "e50d9259",
   "metadata": {},
   "outputs": [],
   "source": [
    "br_graph = br_graph3\n",
    "eq_ind = -1 # index of team optimal equilibrium\n",
    "epsilon = 1e-4"
   ]
  },
  {
   "cell_type": "code",
   "execution_count": 29,
   "id": "f7e3c986",
   "metadata": {},
   "outputs": [],
   "source": [
    "def get_abs_prob_n3(agent_inertias):\n",
    "    P_, jps_dict = transition_matrix_from_br_graph(br_graph, agent_inertias, joint_policy_space)\n",
    "    P_ = P_.astype(float)\n",
    "    \n",
    "    P_inf_ = np.linalg.matrix_power(P_, 100000)\n",
    "    uniform_dist = [1/len(joint_policy_space)]*len(joint_policy_space)\n",
    "    final_dist = uniform_dist @ P_inf_\n",
    "    return final_dist[eq_ind]"
   ]
  },
  {
   "cell_type": "code",
   "execution_count": 30,
   "id": "688c7d01",
   "metadata": {},
   "outputs": [
    {
     "data": {
      "text/plain": [
       "      fun: 0.12500000375037493\n",
       " hess_inv: <3x3 LbfgsInvHessProduct with dtype=float64>\n",
       "      jac: array([2.50022225e-05, 2.50022225e-05, 2.50022225e-05])\n",
       "  message: b'CONVERGENCE: NORM_OF_PROJECTED_GRADIENT_<=_PGTOL'\n",
       "     nfev: 20\n",
       "      nit: 3\n",
       "     njev: 5\n",
       "   status: 0\n",
       "  success: True\n",
       "        x: array([0.0001, 0.0001, 0.0001])"
      ]
     },
     "execution_count": 30,
     "metadata": {},
     "output_type": "execute_result"
    }
   ],
   "source": [
    "# minimizing inertias (achieves prob of ~)\n",
    "scipy.optimize.minimize(get_abs_prob_n3, bounds=[(epsilon,1-epsilon)]*3, x0=[0.5]*n_agents)"
   ]
  },
  {
   "cell_type": "code",
   "execution_count": 31,
   "id": "9cc7a013",
   "metadata": {},
   "outputs": [
    {
     "data": {
      "text/plain": [
       "      fun: -0.2499958326388399\n",
       " hess_inv: <3x3 LbfgsInvHessProduct with dtype=float64>\n",
       "      jac: array([-0.013894  , -0.01389399, -0.01389397])\n",
       "  message: b'CONVERGENCE: NORM_OF_PROJECTED_GRADIENT_<=_PGTOL'\n",
       "     nfev: 12\n",
       "      nit: 2\n",
       "     njev: 3\n",
       "   status: 0\n",
       "  success: True\n",
       "        x: array([0.9999, 0.9999, 0.9999])"
      ]
     },
     "execution_count": 31,
     "metadata": {},
     "output_type": "execute_result"
    }
   ],
   "source": [
    "# maximizing inertias (achieves of prob ~)\n",
    "scipy.optimize.minimize(lambda x: -get_abs_prob_n3(x), bounds=[(epsilon,1-epsilon)]*3, x0=[0.5]*n_agents)"
   ]
  },
  {
   "cell_type": "markdown",
   "id": "175b4359",
   "metadata": {},
   "source": [
    "Thus, depending on the choice of inertias, either equilibrium could be much more likely than the other (approaching an 'interesting' limit).\n",
    "\n",
    "Let $b_U^*(\\lambda^1, ..., \\lambda^N)$ be the probability of converging to the team optimal policy with the given inertias when the initial distribution is uniform. Then, for the mean-field problem above and $N=3$,\n",
    "\n",
    "$\\inf_\\lambda{b_U^*(\\mathbf{\\lambda})} = \\lim_{\\lambda \\to 0}{b_U^*(\\lambda, \\lambda, \\lambda)} = 0.125$ and $\\sup_\\lambda{b_U^*(\\mathbf{\\lambda})} = \\lim_{\\lambda \\to 1}{b_U^*(\\lambda, \\lambda, \\lambda)} = 0.25 $"
   ]
  },
  {
   "cell_type": "code",
   "execution_count": 32,
   "id": "90a610e8",
   "metadata": {},
   "outputs": [
    {
     "data": {
      "text/latex": [
       "$\\displaystyle P = \\left[\\begin{matrix}1 & 0 & 0 & 0 & 0 & 0 & 0 & 0\\\\1 - \\lambda_{2} & \\lambda_{2} & 0 & 0 & 0 & 0 & 0 & 0\\\\1 - \\lambda_{1} & 0 & \\lambda_{1} & 0 & 0 & 0 & 0 & 0\\\\\\lambda_{0} \\left(1 - \\lambda_{1}\\right) \\left(1 - \\lambda_{2}\\right) & \\lambda_{0} \\lambda_{2} \\left(1 - \\lambda_{1}\\right) & \\lambda_{0} \\lambda_{1} \\left(1 - \\lambda_{2}\\right) & \\lambda_{0} \\lambda_{1} \\lambda_{2} & \\left(1 - \\lambda_{0}\\right) \\left(1 - \\lambda_{1}\\right) \\left(1 - \\lambda_{2}\\right) & \\lambda_{2} \\left(1 - \\lambda_{0}\\right) \\left(1 - \\lambda_{1}\\right) & \\lambda_{1} \\left(1 - \\lambda_{0}\\right) \\left(1 - \\lambda_{2}\\right) & \\lambda_{1} \\lambda_{2} \\left(1 - \\lambda_{0}\\right)\\\\1 - \\lambda_{0} & 0 & 0 & 0 & \\lambda_{0} & 0 & 0 & 0\\\\\\lambda_{1} \\left(1 - \\lambda_{0}\\right) \\left(1 - \\lambda_{2}\\right) & \\lambda_{1} \\lambda_{2} \\left(1 - \\lambda_{0}\\right) & \\left(1 - \\lambda_{0}\\right) \\left(1 - \\lambda_{1}\\right) \\left(1 - \\lambda_{2}\\right) & \\lambda_{2} \\left(1 - \\lambda_{0}\\right) \\left(1 - \\lambda_{1}\\right) & \\lambda_{0} \\lambda_{1} \\left(1 - \\lambda_{2}\\right) & \\lambda_{0} \\lambda_{1} \\lambda_{2} & \\lambda_{0} \\left(1 - \\lambda_{1}\\right) \\left(1 - \\lambda_{2}\\right) & \\lambda_{0} \\lambda_{2} \\left(1 - \\lambda_{1}\\right)\\\\\\lambda_{2} \\left(1 - \\lambda_{0}\\right) \\left(1 - \\lambda_{1}\\right) & \\left(1 - \\lambda_{0}\\right) \\left(1 - \\lambda_{1}\\right) \\left(1 - \\lambda_{2}\\right) & \\lambda_{1} \\lambda_{2} \\left(1 - \\lambda_{0}\\right) & \\lambda_{1} \\left(1 - \\lambda_{0}\\right) \\left(1 - \\lambda_{2}\\right) & \\lambda_{0} \\lambda_{2} \\left(1 - \\lambda_{1}\\right) & \\lambda_{0} \\left(1 - \\lambda_{1}\\right) \\left(1 - \\lambda_{2}\\right) & \\lambda_{0} \\lambda_{1} \\lambda_{2} & \\lambda_{0} \\lambda_{1} \\left(1 - \\lambda_{2}\\right)\\\\0 & 0 & 0 & 0 & 0 & 0 & 0 & 1\\end{matrix}\\right]$"
      ],
      "text/plain": [
       "<IPython.core.display.Math object>"
      ]
     },
     "metadata": {},
     "output_type": "display_data"
    }
   ],
   "source": [
    "agent_inertias = symbols(f'lambda_0:{n_agents}')\n",
    "\n",
    "P_, jps_dict = transition_matrix_from_br_graph(br_graph, agent_inertias, joint_policy_space)\n",
    "\n",
    "P = Matrix(P_)\n",
    "display(Math(f'P = {printing.default_latex(P)}'))"
   ]
  },
  {
   "cell_type": "code",
   "execution_count": 33,
   "id": "175eda71",
   "metadata": {},
   "outputs": [
    {
     "data": {
      "text/latex": [
       "$\\displaystyle Q = \\left[\\begin{matrix}\\lambda_{2} & 0 & 0 & 0 & 0 & 0\\\\0 & \\lambda_{1} & 0 & 0 & 0 & 0\\\\\\lambda_{0} \\lambda_{2} \\left(1 - \\lambda_{1}\\right) & \\lambda_{0} \\lambda_{1} \\left(1 - \\lambda_{2}\\right) & \\lambda_{0} \\lambda_{1} \\lambda_{2} & \\left(1 - \\lambda_{0}\\right) \\left(1 - \\lambda_{1}\\right) \\left(1 - \\lambda_{2}\\right) & \\lambda_{2} \\left(1 - \\lambda_{0}\\right) \\left(1 - \\lambda_{1}\\right) & \\lambda_{1} \\left(1 - \\lambda_{0}\\right) \\left(1 - \\lambda_{2}\\right)\\\\0 & 0 & 0 & \\lambda_{0} & 0 & 0\\\\\\lambda_{1} \\lambda_{2} \\left(1 - \\lambda_{0}\\right) & \\left(1 - \\lambda_{0}\\right) \\left(1 - \\lambda_{1}\\right) \\left(1 - \\lambda_{2}\\right) & \\lambda_{2} \\left(1 - \\lambda_{0}\\right) \\left(1 - \\lambda_{1}\\right) & \\lambda_{0} \\lambda_{1} \\left(1 - \\lambda_{2}\\right) & \\lambda_{0} \\lambda_{1} \\lambda_{2} & \\lambda_{0} \\left(1 - \\lambda_{1}\\right) \\left(1 - \\lambda_{2}\\right)\\\\\\left(1 - \\lambda_{0}\\right) \\left(1 - \\lambda_{1}\\right) \\left(1 - \\lambda_{2}\\right) & \\lambda_{1} \\lambda_{2} \\left(1 - \\lambda_{0}\\right) & \\lambda_{1} \\left(1 - \\lambda_{0}\\right) \\left(1 - \\lambda_{2}\\right) & \\lambda_{0} \\lambda_{2} \\left(1 - \\lambda_{1}\\right) & \\lambda_{0} \\left(1 - \\lambda_{1}\\right) \\left(1 - \\lambda_{2}\\right) & \\lambda_{0} \\lambda_{1} \\lambda_{2}\\end{matrix}\\right]$"
      ],
      "text/plain": [
       "<IPython.core.display.Math object>"
      ]
     },
     "metadata": {},
     "output_type": "display_data"
    },
    {
     "data": {
      "text/latex": [
       "$\\displaystyle R = \\left[\\begin{matrix}1 - \\lambda_{2} & 0\\\\1 - \\lambda_{1} & 0\\\\\\lambda_{0} \\left(1 - \\lambda_{1}\\right) \\left(1 - \\lambda_{2}\\right) & \\lambda_{1} \\lambda_{2} \\left(1 - \\lambda_{0}\\right)\\\\1 - \\lambda_{0} & 0\\\\\\lambda_{1} \\left(1 - \\lambda_{0}\\right) \\left(1 - \\lambda_{2}\\right) & \\lambda_{0} \\lambda_{2} \\left(1 - \\lambda_{1}\\right)\\\\\\lambda_{2} \\left(1 - \\lambda_{0}\\right) \\left(1 - \\lambda_{1}\\right) & \\lambda_{0} \\lambda_{1} \\left(1 - \\lambda_{2}\\right)\\end{matrix}\\right]$"
      ],
      "text/plain": [
       "<IPython.core.display.Math object>"
      ]
     },
     "metadata": {},
     "output_type": "display_data"
    },
    {
     "data": {
      "text/latex": [
       "$\\displaystyle \\begin{bmatrix} Q & R\\\\ \\mathbf{0} & I_r \\end{bmatrix} = \\left[\\begin{matrix}\\lambda_{2} & 0 & 0 & 0 & 0 & 0 & 1 - \\lambda_{2} & 0\\\\0 & \\lambda_{1} & 0 & 0 & 0 & 0 & 1 - \\lambda_{1} & 0\\\\\\lambda_{0} \\lambda_{2} \\left(1 - \\lambda_{1}\\right) & \\lambda_{0} \\lambda_{1} \\left(1 - \\lambda_{2}\\right) & \\lambda_{0} \\lambda_{1} \\lambda_{2} & \\left(1 - \\lambda_{0}\\right) \\left(1 - \\lambda_{1}\\right) \\left(1 - \\lambda_{2}\\right) & \\lambda_{2} \\left(1 - \\lambda_{0}\\right) \\left(1 - \\lambda_{1}\\right) & \\lambda_{1} \\left(1 - \\lambda_{0}\\right) \\left(1 - \\lambda_{2}\\right) & \\lambda_{0} \\left(1 - \\lambda_{1}\\right) \\left(1 - \\lambda_{2}\\right) & \\lambda_{1} \\lambda_{2} \\left(1 - \\lambda_{0}\\right)\\\\0 & 0 & 0 & \\lambda_{0} & 0 & 0 & 1 - \\lambda_{0} & 0\\\\\\lambda_{1} \\lambda_{2} \\left(1 - \\lambda_{0}\\right) & \\left(1 - \\lambda_{0}\\right) \\left(1 - \\lambda_{1}\\right) \\left(1 - \\lambda_{2}\\right) & \\lambda_{2} \\left(1 - \\lambda_{0}\\right) \\left(1 - \\lambda_{1}\\right) & \\lambda_{0} \\lambda_{1} \\left(1 - \\lambda_{2}\\right) & \\lambda_{0} \\lambda_{1} \\lambda_{2} & \\lambda_{0} \\left(1 - \\lambda_{1}\\right) \\left(1 - \\lambda_{2}\\right) & \\lambda_{1} \\left(1 - \\lambda_{0}\\right) \\left(1 - \\lambda_{2}\\right) & \\lambda_{0} \\lambda_{2} \\left(1 - \\lambda_{1}\\right)\\\\\\left(1 - \\lambda_{0}\\right) \\left(1 - \\lambda_{1}\\right) \\left(1 - \\lambda_{2}\\right) & \\lambda_{1} \\lambda_{2} \\left(1 - \\lambda_{0}\\right) & \\lambda_{1} \\left(1 - \\lambda_{0}\\right) \\left(1 - \\lambda_{2}\\right) & \\lambda_{0} \\lambda_{2} \\left(1 - \\lambda_{1}\\right) & \\lambda_{0} \\left(1 - \\lambda_{1}\\right) \\left(1 - \\lambda_{2}\\right) & \\lambda_{0} \\lambda_{1} \\lambda_{2} & \\lambda_{2} \\left(1 - \\lambda_{0}\\right) \\left(1 - \\lambda_{1}\\right) & \\lambda_{0} \\lambda_{1} \\left(1 - \\lambda_{2}\\right)\\\\0 & 0 & 0 & 0 & 0 & 0 & 1 & 0\\\\0 & 0 & 0 & 0 & 0 & 0 & 0 & 1\\end{matrix}\\right]$"
      ],
      "text/plain": [
       "<IPython.core.display.Math object>"
      ]
     },
     "metadata": {},
     "output_type": "display_data"
    }
   ],
   "source": [
    "abs_states = [0, len(joint_policy_space)-1]\n",
    "trans_states = [i for i in range(len(joint_policy_space)) if i not in abs_states]\n",
    "\n",
    "Q_ = P_[trans_states][:, trans_states]\n",
    "Q = Matrix(Q_).applyfunc(nsimplify)\n",
    "display(Math(f'Q = {printing.default_latex(Q)}'))\n",
    "\n",
    "R_ = P_[trans_states][:, abs_states]\n",
    "R = Matrix(R_).applyfunc(nsimplify)\n",
    "display(Math(f'R = {printing.default_latex(R)}'))\n",
    "\n",
    "reorder = trans_states + abs_states\n",
    "P_ro_ = P_[reorder][:, reorder]\n",
    "P_ro = Matrix(P_ro_).applyfunc(nsimplify)\n",
    "can_P = '\\\\begin{bmatrix} Q & R\\\\\\\\ \\\\mathbf{0} & I_r \\\\end{bmatrix}'\n",
    "display(Math(f'{can_P} = {printing.default_latex(P_ro)}'))"
   ]
  },
  {
   "cell_type": "markdown",
   "id": "2d413ef3",
   "metadata": {},
   "source": [
    "Note: symbolically computing $N = (I - Q)^{-1}$ takes a really long time, even for a relatively small $6\\times6$ matrix."
   ]
  },
  {
   "cell_type": "code",
   "execution_count": 34,
   "id": "cbd0cb0f",
   "metadata": {},
   "outputs": [],
   "source": [
    "# compute fundamental matrix, N = (I-Q)^-1, using adjugate and determinant identity\n",
    "Id = Matrix(np.eye(Q.shape[0])).applyfunc(nsimplify)\n",
    "N = simplify((Id - Q).adjugate() / (Id - Q).det()) # VERY complicated matrix"
   ]
  },
  {
   "cell_type": "code",
   "execution_count": 35,
   "id": "9f823593",
   "metadata": {},
   "outputs": [],
   "source": [
    "# compute absorption prob matrix \n",
    "B = simplify(N*R)"
   ]
  },
  {
   "cell_type": "code",
   "execution_count": 36,
   "id": "2682b340",
   "metadata": {},
   "outputs": [
    {
     "data": {
      "text/latex": [
       "$\\displaystyle \\left[\\begin{matrix}1 & 0\\\\1 & 0\\\\\\frac{4 \\lambda_{0}^{2} \\lambda_{1}^{3} \\lambda_{2}^{2} - 2 \\lambda_{0}^{2} \\lambda_{1}^{3} \\lambda_{2} + 4 \\lambda_{0}^{2} \\lambda_{1}^{2} \\lambda_{2}^{3} - 12 \\lambda_{0}^{2} \\lambda_{1}^{2} \\lambda_{2}^{2} + 4 \\lambda_{0}^{2} \\lambda_{1}^{2} \\lambda_{2} + \\lambda_{0}^{2} \\lambda_{1}^{2} - 2 \\lambda_{0}^{2} \\lambda_{1} \\lambda_{2}^{3} + 4 \\lambda_{0}^{2} \\lambda_{1} \\lambda_{2}^{2} + \\lambda_{0}^{2} \\lambda_{1} \\lambda_{2} - 2 \\lambda_{0}^{2} \\lambda_{1} + \\lambda_{0}^{2} \\lambda_{2}^{2} - 2 \\lambda_{0}^{2} \\lambda_{2} + \\lambda_{0}^{2} - 2 \\lambda_{0} \\lambda_{1}^{3} \\lambda_{2}^{2} + \\lambda_{0} \\lambda_{1}^{3} \\lambda_{2} - 2 \\lambda_{0} \\lambda_{1}^{2} \\lambda_{2}^{3} + 4 \\lambda_{0} \\lambda_{1}^{2} \\lambda_{2}^{2} - 2 \\lambda_{0} \\lambda_{1}^{2} \\lambda_{2} - \\lambda_{0} \\lambda_{1}^{2} + \\lambda_{0} \\lambda_{1} \\lambda_{2}^{3} - 2 \\lambda_{0} \\lambda_{1} \\lambda_{2}^{2} + 4 \\lambda_{0} \\lambda_{1} \\lambda_{2} - \\lambda_{0} \\lambda_{2}^{2} + 2 \\lambda_{1}^{2} \\lambda_{2}^{2} - 2 \\lambda_{1}^{2} \\lambda_{2} + \\lambda_{1}^{2} - 2 \\lambda_{1} \\lambda_{2}^{2} + \\lambda_{1} \\lambda_{2} + \\lambda_{2}^{2} - 1}{4 \\lambda_{0}^{3} \\lambda_{1}^{2} \\lambda_{2}^{2} - 2 \\lambda_{0}^{3} \\lambda_{1}^{2} \\lambda_{2} - 2 \\lambda_{0}^{3} \\lambda_{1} \\lambda_{2}^{2} + \\lambda_{0}^{3} \\lambda_{1} \\lambda_{2} + 4 \\lambda_{0}^{2} \\lambda_{1}^{3} \\lambda_{2}^{2} - 2 \\lambda_{0}^{2} \\lambda_{1}^{3} \\lambda_{2} + 4 \\lambda_{0}^{2} \\lambda_{1}^{2} \\lambda_{2}^{3} - 16 \\lambda_{0}^{2} \\lambda_{1}^{2} \\lambda_{2}^{2} + 4 \\lambda_{0}^{2} \\lambda_{1}^{2} \\lambda_{2} + 2 \\lambda_{0}^{2} \\lambda_{1}^{2} - 2 \\lambda_{0}^{2} \\lambda_{1} \\lambda_{2}^{3} + 4 \\lambda_{0}^{2} \\lambda_{1} \\lambda_{2}^{2} - 2 \\lambda_{0}^{2} \\lambda_{1} + 2 \\lambda_{0}^{2} \\lambda_{2}^{2} - 2 \\lambda_{0}^{2} \\lambda_{2} + \\lambda_{0}^{2} - 2 \\lambda_{0} \\lambda_{1}^{3} \\lambda_{2}^{2} + \\lambda_{0} \\lambda_{1}^{3} \\lambda_{2} - 2 \\lambda_{0} \\lambda_{1}^{2} \\lambda_{2}^{3} + 4 \\lambda_{0} \\lambda_{1}^{2} \\lambda_{2}^{2} - 2 \\lambda_{0} \\lambda_{1}^{2} + \\lambda_{0} \\lambda_{1} \\lambda_{2}^{3} + 5 \\lambda_{0} \\lambda_{1} \\lambda_{2} - 2 \\lambda_{0} \\lambda_{2}^{2} + 2 \\lambda_{1}^{2} \\lambda_{2}^{2} - 2 \\lambda_{1}^{2} \\lambda_{2} + \\lambda_{1}^{2} - 2 \\lambda_{1} \\lambda_{2}^{2} + \\lambda_{2}^{2} - 1} & \\frac{4 \\lambda_{0}^{3} \\lambda_{1}^{2} \\lambda_{2}^{2} - 2 \\lambda_{0}^{3} \\lambda_{1}^{2} \\lambda_{2} - 2 \\lambda_{0}^{3} \\lambda_{1} \\lambda_{2}^{2} + \\lambda_{0}^{3} \\lambda_{1} \\lambda_{2} - 4 \\lambda_{0}^{2} \\lambda_{1}^{2} \\lambda_{2}^{2} + \\lambda_{0}^{2} \\lambda_{1}^{2} - \\lambda_{0}^{2} \\lambda_{1} \\lambda_{2} + \\lambda_{0}^{2} \\lambda_{2}^{2} + 2 \\lambda_{0} \\lambda_{1}^{2} \\lambda_{2} - \\lambda_{0} \\lambda_{1}^{2} + 2 \\lambda_{0} \\lambda_{1} \\lambda_{2}^{2} + \\lambda_{0} \\lambda_{1} \\lambda_{2} - \\lambda_{0} \\lambda_{2}^{2} - \\lambda_{1} \\lambda_{2}}{4 \\lambda_{0}^{3} \\lambda_{1}^{2} \\lambda_{2}^{2} - 2 \\lambda_{0}^{3} \\lambda_{1}^{2} \\lambda_{2} - 2 \\lambda_{0}^{3} \\lambda_{1} \\lambda_{2}^{2} + \\lambda_{0}^{3} \\lambda_{1} \\lambda_{2} + 4 \\lambda_{0}^{2} \\lambda_{1}^{3} \\lambda_{2}^{2} - 2 \\lambda_{0}^{2} \\lambda_{1}^{3} \\lambda_{2} + 4 \\lambda_{0}^{2} \\lambda_{1}^{2} \\lambda_{2}^{3} - 16 \\lambda_{0}^{2} \\lambda_{1}^{2} \\lambda_{2}^{2} + 4 \\lambda_{0}^{2} \\lambda_{1}^{2} \\lambda_{2} + 2 \\lambda_{0}^{2} \\lambda_{1}^{2} - 2 \\lambda_{0}^{2} \\lambda_{1} \\lambda_{2}^{3} + 4 \\lambda_{0}^{2} \\lambda_{1} \\lambda_{2}^{2} - 2 \\lambda_{0}^{2} \\lambda_{1} + 2 \\lambda_{0}^{2} \\lambda_{2}^{2} - 2 \\lambda_{0}^{2} \\lambda_{2} + \\lambda_{0}^{2} - 2 \\lambda_{0} \\lambda_{1}^{3} \\lambda_{2}^{2} + \\lambda_{0} \\lambda_{1}^{3} \\lambda_{2} - 2 \\lambda_{0} \\lambda_{1}^{2} \\lambda_{2}^{3} + 4 \\lambda_{0} \\lambda_{1}^{2} \\lambda_{2}^{2} - 2 \\lambda_{0} \\lambda_{1}^{2} + \\lambda_{0} \\lambda_{1} \\lambda_{2}^{3} + 5 \\lambda_{0} \\lambda_{1} \\lambda_{2} - 2 \\lambda_{0} \\lambda_{2}^{2} + 2 \\lambda_{1}^{2} \\lambda_{2}^{2} - 2 \\lambda_{1}^{2} \\lambda_{2} + \\lambda_{1}^{2} - 2 \\lambda_{1} \\lambda_{2}^{2} + \\lambda_{2}^{2} - 1}\\\\1 & 0\\\\\\frac{4 \\lambda_{0}^{3} \\lambda_{1}^{2} \\lambda_{2}^{2} - 2 \\lambda_{0}^{3} \\lambda_{1}^{2} \\lambda_{2} - 2 \\lambda_{0}^{3} \\lambda_{1} \\lambda_{2}^{2} + \\lambda_{0}^{3} \\lambda_{1} \\lambda_{2} + 4 \\lambda_{0}^{2} \\lambda_{1}^{2} \\lambda_{2}^{3} - 12 \\lambda_{0}^{2} \\lambda_{1}^{2} \\lambda_{2}^{2} + 4 \\lambda_{0}^{2} \\lambda_{1}^{2} \\lambda_{2} + \\lambda_{0}^{2} \\lambda_{1}^{2} - 2 \\lambda_{0}^{2} \\lambda_{1} \\lambda_{2}^{3} + 4 \\lambda_{0}^{2} \\lambda_{1} \\lambda_{2}^{2} - 2 \\lambda_{0}^{2} \\lambda_{1} \\lambda_{2} - \\lambda_{0}^{2} \\lambda_{1} + 2 \\lambda_{0}^{2} \\lambda_{2}^{2} - 2 \\lambda_{0}^{2} \\lambda_{2} + \\lambda_{0}^{2} - 2 \\lambda_{0} \\lambda_{1}^{2} \\lambda_{2}^{3} + 4 \\lambda_{0} \\lambda_{1}^{2} \\lambda_{2}^{2} + \\lambda_{0} \\lambda_{1}^{2} \\lambda_{2} - 2 \\lambda_{0} \\lambda_{1}^{2} + \\lambda_{0} \\lambda_{1} \\lambda_{2}^{3} - 2 \\lambda_{0} \\lambda_{1} \\lambda_{2}^{2} + 4 \\lambda_{0} \\lambda_{1} \\lambda_{2} - 2 \\lambda_{0} \\lambda_{2}^{2} + \\lambda_{0} \\lambda_{2} + \\lambda_{1}^{2} \\lambda_{2}^{2} - 2 \\lambda_{1}^{2} \\lambda_{2} + \\lambda_{1}^{2} - \\lambda_{1} \\lambda_{2}^{2} + \\lambda_{2}^{2} - 1}{4 \\lambda_{0}^{3} \\lambda_{1}^{2} \\lambda_{2}^{2} - 2 \\lambda_{0}^{3} \\lambda_{1}^{2} \\lambda_{2} - 2 \\lambda_{0}^{3} \\lambda_{1} \\lambda_{2}^{2} + \\lambda_{0}^{3} \\lambda_{1} \\lambda_{2} + 4 \\lambda_{0}^{2} \\lambda_{1}^{3} \\lambda_{2}^{2} - 2 \\lambda_{0}^{2} \\lambda_{1}^{3} \\lambda_{2} + 4 \\lambda_{0}^{2} \\lambda_{1}^{2} \\lambda_{2}^{3} - 16 \\lambda_{0}^{2} \\lambda_{1}^{2} \\lambda_{2}^{2} + 4 \\lambda_{0}^{2} \\lambda_{1}^{2} \\lambda_{2} + 2 \\lambda_{0}^{2} \\lambda_{1}^{2} - 2 \\lambda_{0}^{2} \\lambda_{1} \\lambda_{2}^{3} + 4 \\lambda_{0}^{2} \\lambda_{1} \\lambda_{2}^{2} - 2 \\lambda_{0}^{2} \\lambda_{1} + 2 \\lambda_{0}^{2} \\lambda_{2}^{2} - 2 \\lambda_{0}^{2} \\lambda_{2} + \\lambda_{0}^{2} - 2 \\lambda_{0} \\lambda_{1}^{3} \\lambda_{2}^{2} + \\lambda_{0} \\lambda_{1}^{3} \\lambda_{2} - 2 \\lambda_{0} \\lambda_{1}^{2} \\lambda_{2}^{3} + 4 \\lambda_{0} \\lambda_{1}^{2} \\lambda_{2}^{2} - 2 \\lambda_{0} \\lambda_{1}^{2} + \\lambda_{0} \\lambda_{1} \\lambda_{2}^{3} + 5 \\lambda_{0} \\lambda_{1} \\lambda_{2} - 2 \\lambda_{0} \\lambda_{2}^{2} + 2 \\lambda_{1}^{2} \\lambda_{2}^{2} - 2 \\lambda_{1}^{2} \\lambda_{2} + \\lambda_{1}^{2} - 2 \\lambda_{1} \\lambda_{2}^{2} + \\lambda_{2}^{2} - 1} & \\frac{4 \\lambda_{0}^{2} \\lambda_{1}^{3} \\lambda_{2}^{2} - 2 \\lambda_{0}^{2} \\lambda_{1}^{3} \\lambda_{2} - 4 \\lambda_{0}^{2} \\lambda_{1}^{2} \\lambda_{2}^{2} + \\lambda_{0}^{2} \\lambda_{1}^{2} + 2 \\lambda_{0}^{2} \\lambda_{1} \\lambda_{2} - \\lambda_{0}^{2} \\lambda_{1} - 2 \\lambda_{0} \\lambda_{1}^{3} \\lambda_{2}^{2} + \\lambda_{0} \\lambda_{1}^{3} \\lambda_{2} - \\lambda_{0} \\lambda_{1}^{2} \\lambda_{2} + 2 \\lambda_{0} \\lambda_{1} \\lambda_{2}^{2} + \\lambda_{0} \\lambda_{1} \\lambda_{2} - \\lambda_{0} \\lambda_{2} + \\lambda_{1}^{2} \\lambda_{2}^{2} - \\lambda_{1} \\lambda_{2}^{2}}{4 \\lambda_{0}^{3} \\lambda_{1}^{2} \\lambda_{2}^{2} - 2 \\lambda_{0}^{3} \\lambda_{1}^{2} \\lambda_{2} - 2 \\lambda_{0}^{3} \\lambda_{1} \\lambda_{2}^{2} + \\lambda_{0}^{3} \\lambda_{1} \\lambda_{2} + 4 \\lambda_{0}^{2} \\lambda_{1}^{3} \\lambda_{2}^{2} - 2 \\lambda_{0}^{2} \\lambda_{1}^{3} \\lambda_{2} + 4 \\lambda_{0}^{2} \\lambda_{1}^{2} \\lambda_{2}^{3} - 16 \\lambda_{0}^{2} \\lambda_{1}^{2} \\lambda_{2}^{2} + 4 \\lambda_{0}^{2} \\lambda_{1}^{2} \\lambda_{2} + 2 \\lambda_{0}^{2} \\lambda_{1}^{2} - 2 \\lambda_{0}^{2} \\lambda_{1} \\lambda_{2}^{3} + 4 \\lambda_{0}^{2} \\lambda_{1} \\lambda_{2}^{2} - 2 \\lambda_{0}^{2} \\lambda_{1} + 2 \\lambda_{0}^{2} \\lambda_{2}^{2} - 2 \\lambda_{0}^{2} \\lambda_{2} + \\lambda_{0}^{2} - 2 \\lambda_{0} \\lambda_{1}^{3} \\lambda_{2}^{2} + \\lambda_{0} \\lambda_{1}^{3} \\lambda_{2} - 2 \\lambda_{0} \\lambda_{1}^{2} \\lambda_{2}^{3} + 4 \\lambda_{0} \\lambda_{1}^{2} \\lambda_{2}^{2} - 2 \\lambda_{0} \\lambda_{1}^{2} + \\lambda_{0} \\lambda_{1} \\lambda_{2}^{3} + 5 \\lambda_{0} \\lambda_{1} \\lambda_{2} - 2 \\lambda_{0} \\lambda_{2}^{2} + 2 \\lambda_{1}^{2} \\lambda_{2}^{2} - 2 \\lambda_{1}^{2} \\lambda_{2} + \\lambda_{1}^{2} - 2 \\lambda_{1} \\lambda_{2}^{2} + \\lambda_{2}^{2} - 1}\\\\\\frac{4 \\lambda_{0}^{3} \\lambda_{1}^{2} \\lambda_{2}^{2} - 2 \\lambda_{0}^{3} \\lambda_{1}^{2} \\lambda_{2} - 2 \\lambda_{0}^{3} \\lambda_{1} \\lambda_{2}^{2} + \\lambda_{0}^{3} \\lambda_{1} \\lambda_{2} + 4 \\lambda_{0}^{2} \\lambda_{1}^{3} \\lambda_{2}^{2} - 2 \\lambda_{0}^{2} \\lambda_{1}^{3} \\lambda_{2} - 12 \\lambda_{0}^{2} \\lambda_{1}^{2} \\lambda_{2}^{2} + 4 \\lambda_{0}^{2} \\lambda_{1}^{2} \\lambda_{2} + 2 \\lambda_{0}^{2} \\lambda_{1}^{2} + 4 \\lambda_{0}^{2} \\lambda_{1} \\lambda_{2}^{2} - 2 \\lambda_{0}^{2} \\lambda_{1} \\lambda_{2} - 2 \\lambda_{0}^{2} \\lambda_{1} + \\lambda_{0}^{2} \\lambda_{2}^{2} - \\lambda_{0}^{2} \\lambda_{2} + \\lambda_{0}^{2} - 2 \\lambda_{0} \\lambda_{1}^{3} \\lambda_{2}^{2} + \\lambda_{0} \\lambda_{1}^{3} \\lambda_{2} + 4 \\lambda_{0} \\lambda_{1}^{2} \\lambda_{2}^{2} - 2 \\lambda_{0} \\lambda_{1}^{2} \\lambda_{2} - 2 \\lambda_{0} \\lambda_{1}^{2} + \\lambda_{0} \\lambda_{1} \\lambda_{2}^{2} + 4 \\lambda_{0} \\lambda_{1} \\lambda_{2} + \\lambda_{0} \\lambda_{1} - 2 \\lambda_{0} \\lambda_{2}^{2} + \\lambda_{1}^{2} \\lambda_{2}^{2} - \\lambda_{1}^{2} \\lambda_{2} + \\lambda_{1}^{2} - 2 \\lambda_{1} \\lambda_{2}^{2} + \\lambda_{2}^{2} - 1}{4 \\lambda_{0}^{3} \\lambda_{1}^{2} \\lambda_{2}^{2} - 2 \\lambda_{0}^{3} \\lambda_{1}^{2} \\lambda_{2} - 2 \\lambda_{0}^{3} \\lambda_{1} \\lambda_{2}^{2} + \\lambda_{0}^{3} \\lambda_{1} \\lambda_{2} + 4 \\lambda_{0}^{2} \\lambda_{1}^{3} \\lambda_{2}^{2} - 2 \\lambda_{0}^{2} \\lambda_{1}^{3} \\lambda_{2} + 4 \\lambda_{0}^{2} \\lambda_{1}^{2} \\lambda_{2}^{3} - 16 \\lambda_{0}^{2} \\lambda_{1}^{2} \\lambda_{2}^{2} + 4 \\lambda_{0}^{2} \\lambda_{1}^{2} \\lambda_{2} + 2 \\lambda_{0}^{2} \\lambda_{1}^{2} - 2 \\lambda_{0}^{2} \\lambda_{1} \\lambda_{2}^{3} + 4 \\lambda_{0}^{2} \\lambda_{1} \\lambda_{2}^{2} - 2 \\lambda_{0}^{2} \\lambda_{1} + 2 \\lambda_{0}^{2} \\lambda_{2}^{2} - 2 \\lambda_{0}^{2} \\lambda_{2} + \\lambda_{0}^{2} - 2 \\lambda_{0} \\lambda_{1}^{3} \\lambda_{2}^{2} + \\lambda_{0} \\lambda_{1}^{3} \\lambda_{2} - 2 \\lambda_{0} \\lambda_{1}^{2} \\lambda_{2}^{3} + 4 \\lambda_{0} \\lambda_{1}^{2} \\lambda_{2}^{2} - 2 \\lambda_{0} \\lambda_{1}^{2} + \\lambda_{0} \\lambda_{1} \\lambda_{2}^{3} + 5 \\lambda_{0} \\lambda_{1} \\lambda_{2} - 2 \\lambda_{0} \\lambda_{2}^{2} + 2 \\lambda_{1}^{2} \\lambda_{2}^{2} - 2 \\lambda_{1}^{2} \\lambda_{2} + \\lambda_{1}^{2} - 2 \\lambda_{1} \\lambda_{2}^{2} + \\lambda_{2}^{2} - 1} & \\frac{4 \\lambda_{0}^{2} \\lambda_{1}^{2} \\lambda_{2}^{3} - 4 \\lambda_{0}^{2} \\lambda_{1}^{2} \\lambda_{2}^{2} - 2 \\lambda_{0}^{2} \\lambda_{1} \\lambda_{2}^{3} + 2 \\lambda_{0}^{2} \\lambda_{1} \\lambda_{2} + \\lambda_{0}^{2} \\lambda_{2}^{2} - \\lambda_{0}^{2} \\lambda_{2} - 2 \\lambda_{0} \\lambda_{1}^{2} \\lambda_{2}^{3} + 2 \\lambda_{0} \\lambda_{1}^{2} \\lambda_{2} + \\lambda_{0} \\lambda_{1} \\lambda_{2}^{3} - \\lambda_{0} \\lambda_{1} \\lambda_{2}^{2} + \\lambda_{0} \\lambda_{1} \\lambda_{2} - \\lambda_{0} \\lambda_{1} + \\lambda_{1}^{2} \\lambda_{2}^{2} - \\lambda_{1}^{2} \\lambda_{2}}{4 \\lambda_{0}^{3} \\lambda_{1}^{2} \\lambda_{2}^{2} - 2 \\lambda_{0}^{3} \\lambda_{1}^{2} \\lambda_{2} - 2 \\lambda_{0}^{3} \\lambda_{1} \\lambda_{2}^{2} + \\lambda_{0}^{3} \\lambda_{1} \\lambda_{2} + 4 \\lambda_{0}^{2} \\lambda_{1}^{3} \\lambda_{2}^{2} - 2 \\lambda_{0}^{2} \\lambda_{1}^{3} \\lambda_{2} + 4 \\lambda_{0}^{2} \\lambda_{1}^{2} \\lambda_{2}^{3} - 16 \\lambda_{0}^{2} \\lambda_{1}^{2} \\lambda_{2}^{2} + 4 \\lambda_{0}^{2} \\lambda_{1}^{2} \\lambda_{2} + 2 \\lambda_{0}^{2} \\lambda_{1}^{2} - 2 \\lambda_{0}^{2} \\lambda_{1} \\lambda_{2}^{3} + 4 \\lambda_{0}^{2} \\lambda_{1} \\lambda_{2}^{2} - 2 \\lambda_{0}^{2} \\lambda_{1} + 2 \\lambda_{0}^{2} \\lambda_{2}^{2} - 2 \\lambda_{0}^{2} \\lambda_{2} + \\lambda_{0}^{2} - 2 \\lambda_{0} \\lambda_{1}^{3} \\lambda_{2}^{2} + \\lambda_{0} \\lambda_{1}^{3} \\lambda_{2} - 2 \\lambda_{0} \\lambda_{1}^{2} \\lambda_{2}^{3} + 4 \\lambda_{0} \\lambda_{1}^{2} \\lambda_{2}^{2} - 2 \\lambda_{0} \\lambda_{1}^{2} + \\lambda_{0} \\lambda_{1} \\lambda_{2}^{3} + 5 \\lambda_{0} \\lambda_{1} \\lambda_{2} - 2 \\lambda_{0} \\lambda_{2}^{2} + 2 \\lambda_{1}^{2} \\lambda_{2}^{2} - 2 \\lambda_{1}^{2} \\lambda_{2} + \\lambda_{1}^{2} - 2 \\lambda_{1} \\lambda_{2}^{2} + \\lambda_{2}^{2} - 1}\\end{matrix}\\right]$"
      ],
      "text/plain": [
       "Matrix([\n",
       "[                                                                                                                                                                                                                                                                                                                                                                                                                                                                                                                                                                                                                                                                                                                                                                                                                                                                                                                                                                                                                                                                                                                                                                                                                                                                                                                                                                                                                                                                                                                                                                                                                                                                                                                                                                                                                                      1,                                                                                                                                                                                                                                                                                                                                                                                                                                                                                                                                                                                                                                                                                                                                                                                                                                                                                                                                                                                                                                                                                                                                                                                                                                                                                                                                                                                     0],\n",
       "[                                                                                                                                                                                                                                                                                                                                                                                                                                                                                                                                                                                                                                                                                                                                                                                                                                                                                                                                                                                                                                                                                                                                                                                                                                                                                                                                                                                                                                                                                                                                                                                                                                                                                                                                                                                                                                      1,                                                                                                                                                                                                                                                                                                                                                                                                                                                                                                                                                                                                                                                                                                                                                                                                                                                                                                                                                                                                                                                                                                                                                                                                                                                                                                                                                                                     0],\n",
       "[(4*lambda_0**2*lambda_1**3*lambda_2**2 - 2*lambda_0**2*lambda_1**3*lambda_2 + 4*lambda_0**2*lambda_1**2*lambda_2**3 - 12*lambda_0**2*lambda_1**2*lambda_2**2 + 4*lambda_0**2*lambda_1**2*lambda_2 + lambda_0**2*lambda_1**2 - 2*lambda_0**2*lambda_1*lambda_2**3 + 4*lambda_0**2*lambda_1*lambda_2**2 + lambda_0**2*lambda_1*lambda_2 - 2*lambda_0**2*lambda_1 + lambda_0**2*lambda_2**2 - 2*lambda_0**2*lambda_2 + lambda_0**2 - 2*lambda_0*lambda_1**3*lambda_2**2 + lambda_0*lambda_1**3*lambda_2 - 2*lambda_0*lambda_1**2*lambda_2**3 + 4*lambda_0*lambda_1**2*lambda_2**2 - 2*lambda_0*lambda_1**2*lambda_2 - lambda_0*lambda_1**2 + lambda_0*lambda_1*lambda_2**3 - 2*lambda_0*lambda_1*lambda_2**2 + 4*lambda_0*lambda_1*lambda_2 - lambda_0*lambda_2**2 + 2*lambda_1**2*lambda_2**2 - 2*lambda_1**2*lambda_2 + lambda_1**2 - 2*lambda_1*lambda_2**2 + lambda_1*lambda_2 + lambda_2**2 - 1)/(4*lambda_0**3*lambda_1**2*lambda_2**2 - 2*lambda_0**3*lambda_1**2*lambda_2 - 2*lambda_0**3*lambda_1*lambda_2**2 + lambda_0**3*lambda_1*lambda_2 + 4*lambda_0**2*lambda_1**3*lambda_2**2 - 2*lambda_0**2*lambda_1**3*lambda_2 + 4*lambda_0**2*lambda_1**2*lambda_2**3 - 16*lambda_0**2*lambda_1**2*lambda_2**2 + 4*lambda_0**2*lambda_1**2*lambda_2 + 2*lambda_0**2*lambda_1**2 - 2*lambda_0**2*lambda_1*lambda_2**3 + 4*lambda_0**2*lambda_1*lambda_2**2 - 2*lambda_0**2*lambda_1 + 2*lambda_0**2*lambda_2**2 - 2*lambda_0**2*lambda_2 + lambda_0**2 - 2*lambda_0*lambda_1**3*lambda_2**2 + lambda_0*lambda_1**3*lambda_2 - 2*lambda_0*lambda_1**2*lambda_2**3 + 4*lambda_0*lambda_1**2*lambda_2**2 - 2*lambda_0*lambda_1**2 + lambda_0*lambda_1*lambda_2**3 + 5*lambda_0*lambda_1*lambda_2 - 2*lambda_0*lambda_2**2 + 2*lambda_1**2*lambda_2**2 - 2*lambda_1**2*lambda_2 + lambda_1**2 - 2*lambda_1*lambda_2**2 + lambda_2**2 - 1), (4*lambda_0**3*lambda_1**2*lambda_2**2 - 2*lambda_0**3*lambda_1**2*lambda_2 - 2*lambda_0**3*lambda_1*lambda_2**2 + lambda_0**3*lambda_1*lambda_2 - 4*lambda_0**2*lambda_1**2*lambda_2**2 + lambda_0**2*lambda_1**2 - lambda_0**2*lambda_1*lambda_2 + lambda_0**2*lambda_2**2 + 2*lambda_0*lambda_1**2*lambda_2 - lambda_0*lambda_1**2 + 2*lambda_0*lambda_1*lambda_2**2 + lambda_0*lambda_1*lambda_2 - lambda_0*lambda_2**2 - lambda_1*lambda_2)/(4*lambda_0**3*lambda_1**2*lambda_2**2 - 2*lambda_0**3*lambda_1**2*lambda_2 - 2*lambda_0**3*lambda_1*lambda_2**2 + lambda_0**3*lambda_1*lambda_2 + 4*lambda_0**2*lambda_1**3*lambda_2**2 - 2*lambda_0**2*lambda_1**3*lambda_2 + 4*lambda_0**2*lambda_1**2*lambda_2**3 - 16*lambda_0**2*lambda_1**2*lambda_2**2 + 4*lambda_0**2*lambda_1**2*lambda_2 + 2*lambda_0**2*lambda_1**2 - 2*lambda_0**2*lambda_1*lambda_2**3 + 4*lambda_0**2*lambda_1*lambda_2**2 - 2*lambda_0**2*lambda_1 + 2*lambda_0**2*lambda_2**2 - 2*lambda_0**2*lambda_2 + lambda_0**2 - 2*lambda_0*lambda_1**3*lambda_2**2 + lambda_0*lambda_1**3*lambda_2 - 2*lambda_0*lambda_1**2*lambda_2**3 + 4*lambda_0*lambda_1**2*lambda_2**2 - 2*lambda_0*lambda_1**2 + lambda_0*lambda_1*lambda_2**3 + 5*lambda_0*lambda_1*lambda_2 - 2*lambda_0*lambda_2**2 + 2*lambda_1**2*lambda_2**2 - 2*lambda_1**2*lambda_2 + lambda_1**2 - 2*lambda_1*lambda_2**2 + lambda_2**2 - 1)],\n",
       "[                                                                                                                                                                                                                                                                                                                                                                                                                                                                                                                                                                                                                                                                                                                                                                                                                                                                                                                                                                                                                                                                                                                                                                                                                                                                                                                                                                                                                                                                                                                                                                                                                                                                                                                                                                                                                                      1,                                                                                                                                                                                                                                                                                                                                                                                                                                                                                                                                                                                                                                                                                                                                                                                                                                                                                                                                                                                                                                                                                                                                                                                                                                                                                                                                                                                     0],\n",
       "[(4*lambda_0**3*lambda_1**2*lambda_2**2 - 2*lambda_0**3*lambda_1**2*lambda_2 - 2*lambda_0**3*lambda_1*lambda_2**2 + lambda_0**3*lambda_1*lambda_2 + 4*lambda_0**2*lambda_1**2*lambda_2**3 - 12*lambda_0**2*lambda_1**2*lambda_2**2 + 4*lambda_0**2*lambda_1**2*lambda_2 + lambda_0**2*lambda_1**2 - 2*lambda_0**2*lambda_1*lambda_2**3 + 4*lambda_0**2*lambda_1*lambda_2**2 - 2*lambda_0**2*lambda_1*lambda_2 - lambda_0**2*lambda_1 + 2*lambda_0**2*lambda_2**2 - 2*lambda_0**2*lambda_2 + lambda_0**2 - 2*lambda_0*lambda_1**2*lambda_2**3 + 4*lambda_0*lambda_1**2*lambda_2**2 + lambda_0*lambda_1**2*lambda_2 - 2*lambda_0*lambda_1**2 + lambda_0*lambda_1*lambda_2**3 - 2*lambda_0*lambda_1*lambda_2**2 + 4*lambda_0*lambda_1*lambda_2 - 2*lambda_0*lambda_2**2 + lambda_0*lambda_2 + lambda_1**2*lambda_2**2 - 2*lambda_1**2*lambda_2 + lambda_1**2 - lambda_1*lambda_2**2 + lambda_2**2 - 1)/(4*lambda_0**3*lambda_1**2*lambda_2**2 - 2*lambda_0**3*lambda_1**2*lambda_2 - 2*lambda_0**3*lambda_1*lambda_2**2 + lambda_0**3*lambda_1*lambda_2 + 4*lambda_0**2*lambda_1**3*lambda_2**2 - 2*lambda_0**2*lambda_1**3*lambda_2 + 4*lambda_0**2*lambda_1**2*lambda_2**3 - 16*lambda_0**2*lambda_1**2*lambda_2**2 + 4*lambda_0**2*lambda_1**2*lambda_2 + 2*lambda_0**2*lambda_1**2 - 2*lambda_0**2*lambda_1*lambda_2**3 + 4*lambda_0**2*lambda_1*lambda_2**2 - 2*lambda_0**2*lambda_1 + 2*lambda_0**2*lambda_2**2 - 2*lambda_0**2*lambda_2 + lambda_0**2 - 2*lambda_0*lambda_1**3*lambda_2**2 + lambda_0*lambda_1**3*lambda_2 - 2*lambda_0*lambda_1**2*lambda_2**3 + 4*lambda_0*lambda_1**2*lambda_2**2 - 2*lambda_0*lambda_1**2 + lambda_0*lambda_1*lambda_2**3 + 5*lambda_0*lambda_1*lambda_2 - 2*lambda_0*lambda_2**2 + 2*lambda_1**2*lambda_2**2 - 2*lambda_1**2*lambda_2 + lambda_1**2 - 2*lambda_1*lambda_2**2 + lambda_2**2 - 1), (4*lambda_0**2*lambda_1**3*lambda_2**2 - 2*lambda_0**2*lambda_1**3*lambda_2 - 4*lambda_0**2*lambda_1**2*lambda_2**2 + lambda_0**2*lambda_1**2 + 2*lambda_0**2*lambda_1*lambda_2 - lambda_0**2*lambda_1 - 2*lambda_0*lambda_1**3*lambda_2**2 + lambda_0*lambda_1**3*lambda_2 - lambda_0*lambda_1**2*lambda_2 + 2*lambda_0*lambda_1*lambda_2**2 + lambda_0*lambda_1*lambda_2 - lambda_0*lambda_2 + lambda_1**2*lambda_2**2 - lambda_1*lambda_2**2)/(4*lambda_0**3*lambda_1**2*lambda_2**2 - 2*lambda_0**3*lambda_1**2*lambda_2 - 2*lambda_0**3*lambda_1*lambda_2**2 + lambda_0**3*lambda_1*lambda_2 + 4*lambda_0**2*lambda_1**3*lambda_2**2 - 2*lambda_0**2*lambda_1**3*lambda_2 + 4*lambda_0**2*lambda_1**2*lambda_2**3 - 16*lambda_0**2*lambda_1**2*lambda_2**2 + 4*lambda_0**2*lambda_1**2*lambda_2 + 2*lambda_0**2*lambda_1**2 - 2*lambda_0**2*lambda_1*lambda_2**3 + 4*lambda_0**2*lambda_1*lambda_2**2 - 2*lambda_0**2*lambda_1 + 2*lambda_0**2*lambda_2**2 - 2*lambda_0**2*lambda_2 + lambda_0**2 - 2*lambda_0*lambda_1**3*lambda_2**2 + lambda_0*lambda_1**3*lambda_2 - 2*lambda_0*lambda_1**2*lambda_2**3 + 4*lambda_0*lambda_1**2*lambda_2**2 - 2*lambda_0*lambda_1**2 + lambda_0*lambda_1*lambda_2**3 + 5*lambda_0*lambda_1*lambda_2 - 2*lambda_0*lambda_2**2 + 2*lambda_1**2*lambda_2**2 - 2*lambda_1**2*lambda_2 + lambda_1**2 - 2*lambda_1*lambda_2**2 + lambda_2**2 - 1)],\n",
       "[(4*lambda_0**3*lambda_1**2*lambda_2**2 - 2*lambda_0**3*lambda_1**2*lambda_2 - 2*lambda_0**3*lambda_1*lambda_2**2 + lambda_0**3*lambda_1*lambda_2 + 4*lambda_0**2*lambda_1**3*lambda_2**2 - 2*lambda_0**2*lambda_1**3*lambda_2 - 12*lambda_0**2*lambda_1**2*lambda_2**2 + 4*lambda_0**2*lambda_1**2*lambda_2 + 2*lambda_0**2*lambda_1**2 + 4*lambda_0**2*lambda_1*lambda_2**2 - 2*lambda_0**2*lambda_1*lambda_2 - 2*lambda_0**2*lambda_1 + lambda_0**2*lambda_2**2 - lambda_0**2*lambda_2 + lambda_0**2 - 2*lambda_0*lambda_1**3*lambda_2**2 + lambda_0*lambda_1**3*lambda_2 + 4*lambda_0*lambda_1**2*lambda_2**2 - 2*lambda_0*lambda_1**2*lambda_2 - 2*lambda_0*lambda_1**2 + lambda_0*lambda_1*lambda_2**2 + 4*lambda_0*lambda_1*lambda_2 + lambda_0*lambda_1 - 2*lambda_0*lambda_2**2 + lambda_1**2*lambda_2**2 - lambda_1**2*lambda_2 + lambda_1**2 - 2*lambda_1*lambda_2**2 + lambda_2**2 - 1)/(4*lambda_0**3*lambda_1**2*lambda_2**2 - 2*lambda_0**3*lambda_1**2*lambda_2 - 2*lambda_0**3*lambda_1*lambda_2**2 + lambda_0**3*lambda_1*lambda_2 + 4*lambda_0**2*lambda_1**3*lambda_2**2 - 2*lambda_0**2*lambda_1**3*lambda_2 + 4*lambda_0**2*lambda_1**2*lambda_2**3 - 16*lambda_0**2*lambda_1**2*lambda_2**2 + 4*lambda_0**2*lambda_1**2*lambda_2 + 2*lambda_0**2*lambda_1**2 - 2*lambda_0**2*lambda_1*lambda_2**3 + 4*lambda_0**2*lambda_1*lambda_2**2 - 2*lambda_0**2*lambda_1 + 2*lambda_0**2*lambda_2**2 - 2*lambda_0**2*lambda_2 + lambda_0**2 - 2*lambda_0*lambda_1**3*lambda_2**2 + lambda_0*lambda_1**3*lambda_2 - 2*lambda_0*lambda_1**2*lambda_2**3 + 4*lambda_0*lambda_1**2*lambda_2**2 - 2*lambda_0*lambda_1**2 + lambda_0*lambda_1*lambda_2**3 + 5*lambda_0*lambda_1*lambda_2 - 2*lambda_0*lambda_2**2 + 2*lambda_1**2*lambda_2**2 - 2*lambda_1**2*lambda_2 + lambda_1**2 - 2*lambda_1*lambda_2**2 + lambda_2**2 - 1), (4*lambda_0**2*lambda_1**2*lambda_2**3 - 4*lambda_0**2*lambda_1**2*lambda_2**2 - 2*lambda_0**2*lambda_1*lambda_2**3 + 2*lambda_0**2*lambda_1*lambda_2 + lambda_0**2*lambda_2**2 - lambda_0**2*lambda_2 - 2*lambda_0*lambda_1**2*lambda_2**3 + 2*lambda_0*lambda_1**2*lambda_2 + lambda_0*lambda_1*lambda_2**3 - lambda_0*lambda_1*lambda_2**2 + lambda_0*lambda_1*lambda_2 - lambda_0*lambda_1 + lambda_1**2*lambda_2**2 - lambda_1**2*lambda_2)/(4*lambda_0**3*lambda_1**2*lambda_2**2 - 2*lambda_0**3*lambda_1**2*lambda_2 - 2*lambda_0**3*lambda_1*lambda_2**2 + lambda_0**3*lambda_1*lambda_2 + 4*lambda_0**2*lambda_1**3*lambda_2**2 - 2*lambda_0**2*lambda_1**3*lambda_2 + 4*lambda_0**2*lambda_1**2*lambda_2**3 - 16*lambda_0**2*lambda_1**2*lambda_2**2 + 4*lambda_0**2*lambda_1**2*lambda_2 + 2*lambda_0**2*lambda_1**2 - 2*lambda_0**2*lambda_1*lambda_2**3 + 4*lambda_0**2*lambda_1*lambda_2**2 - 2*lambda_0**2*lambda_1 + 2*lambda_0**2*lambda_2**2 - 2*lambda_0**2*lambda_2 + lambda_0**2 - 2*lambda_0*lambda_1**3*lambda_2**2 + lambda_0*lambda_1**3*lambda_2 - 2*lambda_0*lambda_1**2*lambda_2**3 + 4*lambda_0*lambda_1**2*lambda_2**2 - 2*lambda_0*lambda_1**2 + lambda_0*lambda_1*lambda_2**3 + 5*lambda_0*lambda_1*lambda_2 - 2*lambda_0*lambda_2**2 + 2*lambda_1**2*lambda_2**2 - 2*lambda_1**2*lambda_2 + lambda_1**2 - 2*lambda_1*lambda_2**2 + lambda_2**2 - 1)]])"
      ]
     },
     "execution_count": 36,
     "metadata": {},
     "output_type": "execute_result"
    }
   ],
   "source": [
    "B"
   ]
  },
  {
   "cell_type": "code",
   "execution_count": 37,
   "id": "55801884",
   "metadata": {},
   "outputs": [
    {
     "data": {
      "text/latex": [
       "$\\displaystyle P_\\infty = \\left[\\begin{matrix}0 & 0 & 0 & 0 & 0 & 0 & 1 & 0\\\\0 & 0 & 0 & 0 & 0 & 0 & 1 & 0\\\\0 & 0 & 0 & 0 & 0 & 0 & \\frac{4 \\lambda_{0}^{2} \\lambda_{1}^{3} \\lambda_{2}^{2} - 2 \\lambda_{0}^{2} \\lambda_{1}^{3} \\lambda_{2} + 4 \\lambda_{0}^{2} \\lambda_{1}^{2} \\lambda_{2}^{3} - 12 \\lambda_{0}^{2} \\lambda_{1}^{2} \\lambda_{2}^{2} + 4 \\lambda_{0}^{2} \\lambda_{1}^{2} \\lambda_{2} + \\lambda_{0}^{2} \\lambda_{1}^{2} - 2 \\lambda_{0}^{2} \\lambda_{1} \\lambda_{2}^{3} + 4 \\lambda_{0}^{2} \\lambda_{1} \\lambda_{2}^{2} + \\lambda_{0}^{2} \\lambda_{1} \\lambda_{2} - 2 \\lambda_{0}^{2} \\lambda_{1} + \\lambda_{0}^{2} \\lambda_{2}^{2} - 2 \\lambda_{0}^{2} \\lambda_{2} + \\lambda_{0}^{2} - 2 \\lambda_{0} \\lambda_{1}^{3} \\lambda_{2}^{2} + \\lambda_{0} \\lambda_{1}^{3} \\lambda_{2} - 2 \\lambda_{0} \\lambda_{1}^{2} \\lambda_{2}^{3} + 4 \\lambda_{0} \\lambda_{1}^{2} \\lambda_{2}^{2} - 2 \\lambda_{0} \\lambda_{1}^{2} \\lambda_{2} - \\lambda_{0} \\lambda_{1}^{2} + \\lambda_{0} \\lambda_{1} \\lambda_{2}^{3} - 2 \\lambda_{0} \\lambda_{1} \\lambda_{2}^{2} + 4 \\lambda_{0} \\lambda_{1} \\lambda_{2} - \\lambda_{0} \\lambda_{2}^{2} + 2 \\lambda_{1}^{2} \\lambda_{2}^{2} - 2 \\lambda_{1}^{2} \\lambda_{2} + \\lambda_{1}^{2} - 2 \\lambda_{1} \\lambda_{2}^{2} + \\lambda_{1} \\lambda_{2} + \\lambda_{2}^{2} - 1}{4 \\lambda_{0}^{3} \\lambda_{1}^{2} \\lambda_{2}^{2} - 2 \\lambda_{0}^{3} \\lambda_{1}^{2} \\lambda_{2} - 2 \\lambda_{0}^{3} \\lambda_{1} \\lambda_{2}^{2} + \\lambda_{0}^{3} \\lambda_{1} \\lambda_{2} + 4 \\lambda_{0}^{2} \\lambda_{1}^{3} \\lambda_{2}^{2} - 2 \\lambda_{0}^{2} \\lambda_{1}^{3} \\lambda_{2} + 4 \\lambda_{0}^{2} \\lambda_{1}^{2} \\lambda_{2}^{3} - 16 \\lambda_{0}^{2} \\lambda_{1}^{2} \\lambda_{2}^{2} + 4 \\lambda_{0}^{2} \\lambda_{1}^{2} \\lambda_{2} + 2 \\lambda_{0}^{2} \\lambda_{1}^{2} - 2 \\lambda_{0}^{2} \\lambda_{1} \\lambda_{2}^{3} + 4 \\lambda_{0}^{2} \\lambda_{1} \\lambda_{2}^{2} - 2 \\lambda_{0}^{2} \\lambda_{1} + 2 \\lambda_{0}^{2} \\lambda_{2}^{2} - 2 \\lambda_{0}^{2} \\lambda_{2} + \\lambda_{0}^{2} - 2 \\lambda_{0} \\lambda_{1}^{3} \\lambda_{2}^{2} + \\lambda_{0} \\lambda_{1}^{3} \\lambda_{2} - 2 \\lambda_{0} \\lambda_{1}^{2} \\lambda_{2}^{3} + 4 \\lambda_{0} \\lambda_{1}^{2} \\lambda_{2}^{2} - 2 \\lambda_{0} \\lambda_{1}^{2} + \\lambda_{0} \\lambda_{1} \\lambda_{2}^{3} + 5 \\lambda_{0} \\lambda_{1} \\lambda_{2} - 2 \\lambda_{0} \\lambda_{2}^{2} + 2 \\lambda_{1}^{2} \\lambda_{2}^{2} - 2 \\lambda_{1}^{2} \\lambda_{2} + \\lambda_{1}^{2} - 2 \\lambda_{1} \\lambda_{2}^{2} + \\lambda_{2}^{2} - 1} & \\frac{4 \\lambda_{0}^{3} \\lambda_{1}^{2} \\lambda_{2}^{2} - 2 \\lambda_{0}^{3} \\lambda_{1}^{2} \\lambda_{2} - 2 \\lambda_{0}^{3} \\lambda_{1} \\lambda_{2}^{2} + \\lambda_{0}^{3} \\lambda_{1} \\lambda_{2} - 4 \\lambda_{0}^{2} \\lambda_{1}^{2} \\lambda_{2}^{2} + \\lambda_{0}^{2} \\lambda_{1}^{2} - \\lambda_{0}^{2} \\lambda_{1} \\lambda_{2} + \\lambda_{0}^{2} \\lambda_{2}^{2} + 2 \\lambda_{0} \\lambda_{1}^{2} \\lambda_{2} - \\lambda_{0} \\lambda_{1}^{2} + 2 \\lambda_{0} \\lambda_{1} \\lambda_{2}^{2} + \\lambda_{0} \\lambda_{1} \\lambda_{2} - \\lambda_{0} \\lambda_{2}^{2} - \\lambda_{1} \\lambda_{2}}{4 \\lambda_{0}^{3} \\lambda_{1}^{2} \\lambda_{2}^{2} - 2 \\lambda_{0}^{3} \\lambda_{1}^{2} \\lambda_{2} - 2 \\lambda_{0}^{3} \\lambda_{1} \\lambda_{2}^{2} + \\lambda_{0}^{3} \\lambda_{1} \\lambda_{2} + 4 \\lambda_{0}^{2} \\lambda_{1}^{3} \\lambda_{2}^{2} - 2 \\lambda_{0}^{2} \\lambda_{1}^{3} \\lambda_{2} + 4 \\lambda_{0}^{2} \\lambda_{1}^{2} \\lambda_{2}^{3} - 16 \\lambda_{0}^{2} \\lambda_{1}^{2} \\lambda_{2}^{2} + 4 \\lambda_{0}^{2} \\lambda_{1}^{2} \\lambda_{2} + 2 \\lambda_{0}^{2} \\lambda_{1}^{2} - 2 \\lambda_{0}^{2} \\lambda_{1} \\lambda_{2}^{3} + 4 \\lambda_{0}^{2} \\lambda_{1} \\lambda_{2}^{2} - 2 \\lambda_{0}^{2} \\lambda_{1} + 2 \\lambda_{0}^{2} \\lambda_{2}^{2} - 2 \\lambda_{0}^{2} \\lambda_{2} + \\lambda_{0}^{2} - 2 \\lambda_{0} \\lambda_{1}^{3} \\lambda_{2}^{2} + \\lambda_{0} \\lambda_{1}^{3} \\lambda_{2} - 2 \\lambda_{0} \\lambda_{1}^{2} \\lambda_{2}^{3} + 4 \\lambda_{0} \\lambda_{1}^{2} \\lambda_{2}^{2} - 2 \\lambda_{0} \\lambda_{1}^{2} + \\lambda_{0} \\lambda_{1} \\lambda_{2}^{3} + 5 \\lambda_{0} \\lambda_{1} \\lambda_{2} - 2 \\lambda_{0} \\lambda_{2}^{2} + 2 \\lambda_{1}^{2} \\lambda_{2}^{2} - 2 \\lambda_{1}^{2} \\lambda_{2} + \\lambda_{1}^{2} - 2 \\lambda_{1} \\lambda_{2}^{2} + \\lambda_{2}^{2} - 1}\\\\0 & 0 & 0 & 0 & 0 & 0 & 1 & 0\\\\0 & 0 & 0 & 0 & 0 & 0 & \\frac{4 \\lambda_{0}^{3} \\lambda_{1}^{2} \\lambda_{2}^{2} - 2 \\lambda_{0}^{3} \\lambda_{1}^{2} \\lambda_{2} - 2 \\lambda_{0}^{3} \\lambda_{1} \\lambda_{2}^{2} + \\lambda_{0}^{3} \\lambda_{1} \\lambda_{2} + 4 \\lambda_{0}^{2} \\lambda_{1}^{2} \\lambda_{2}^{3} - 12 \\lambda_{0}^{2} \\lambda_{1}^{2} \\lambda_{2}^{2} + 4 \\lambda_{0}^{2} \\lambda_{1}^{2} \\lambda_{2} + \\lambda_{0}^{2} \\lambda_{1}^{2} - 2 \\lambda_{0}^{2} \\lambda_{1} \\lambda_{2}^{3} + 4 \\lambda_{0}^{2} \\lambda_{1} \\lambda_{2}^{2} - 2 \\lambda_{0}^{2} \\lambda_{1} \\lambda_{2} - \\lambda_{0}^{2} \\lambda_{1} + 2 \\lambda_{0}^{2} \\lambda_{2}^{2} - 2 \\lambda_{0}^{2} \\lambda_{2} + \\lambda_{0}^{2} - 2 \\lambda_{0} \\lambda_{1}^{2} \\lambda_{2}^{3} + 4 \\lambda_{0} \\lambda_{1}^{2} \\lambda_{2}^{2} + \\lambda_{0} \\lambda_{1}^{2} \\lambda_{2} - 2 \\lambda_{0} \\lambda_{1}^{2} + \\lambda_{0} \\lambda_{1} \\lambda_{2}^{3} - 2 \\lambda_{0} \\lambda_{1} \\lambda_{2}^{2} + 4 \\lambda_{0} \\lambda_{1} \\lambda_{2} - 2 \\lambda_{0} \\lambda_{2}^{2} + \\lambda_{0} \\lambda_{2} + \\lambda_{1}^{2} \\lambda_{2}^{2} - 2 \\lambda_{1}^{2} \\lambda_{2} + \\lambda_{1}^{2} - \\lambda_{1} \\lambda_{2}^{2} + \\lambda_{2}^{2} - 1}{4 \\lambda_{0}^{3} \\lambda_{1}^{2} \\lambda_{2}^{2} - 2 \\lambda_{0}^{3} \\lambda_{1}^{2} \\lambda_{2} - 2 \\lambda_{0}^{3} \\lambda_{1} \\lambda_{2}^{2} + \\lambda_{0}^{3} \\lambda_{1} \\lambda_{2} + 4 \\lambda_{0}^{2} \\lambda_{1}^{3} \\lambda_{2}^{2} - 2 \\lambda_{0}^{2} \\lambda_{1}^{3} \\lambda_{2} + 4 \\lambda_{0}^{2} \\lambda_{1}^{2} \\lambda_{2}^{3} - 16 \\lambda_{0}^{2} \\lambda_{1}^{2} \\lambda_{2}^{2} + 4 \\lambda_{0}^{2} \\lambda_{1}^{2} \\lambda_{2} + 2 \\lambda_{0}^{2} \\lambda_{1}^{2} - 2 \\lambda_{0}^{2} \\lambda_{1} \\lambda_{2}^{3} + 4 \\lambda_{0}^{2} \\lambda_{1} \\lambda_{2}^{2} - 2 \\lambda_{0}^{2} \\lambda_{1} + 2 \\lambda_{0}^{2} \\lambda_{2}^{2} - 2 \\lambda_{0}^{2} \\lambda_{2} + \\lambda_{0}^{2} - 2 \\lambda_{0} \\lambda_{1}^{3} \\lambda_{2}^{2} + \\lambda_{0} \\lambda_{1}^{3} \\lambda_{2} - 2 \\lambda_{0} \\lambda_{1}^{2} \\lambda_{2}^{3} + 4 \\lambda_{0} \\lambda_{1}^{2} \\lambda_{2}^{2} - 2 \\lambda_{0} \\lambda_{1}^{2} + \\lambda_{0} \\lambda_{1} \\lambda_{2}^{3} + 5 \\lambda_{0} \\lambda_{1} \\lambda_{2} - 2 \\lambda_{0} \\lambda_{2}^{2} + 2 \\lambda_{1}^{2} \\lambda_{2}^{2} - 2 \\lambda_{1}^{2} \\lambda_{2} + \\lambda_{1}^{2} - 2 \\lambda_{1} \\lambda_{2}^{2} + \\lambda_{2}^{2} - 1} & \\frac{4 \\lambda_{0}^{2} \\lambda_{1}^{3} \\lambda_{2}^{2} - 2 \\lambda_{0}^{2} \\lambda_{1}^{3} \\lambda_{2} - 4 \\lambda_{0}^{2} \\lambda_{1}^{2} \\lambda_{2}^{2} + \\lambda_{0}^{2} \\lambda_{1}^{2} + 2 \\lambda_{0}^{2} \\lambda_{1} \\lambda_{2} - \\lambda_{0}^{2} \\lambda_{1} - 2 \\lambda_{0} \\lambda_{1}^{3} \\lambda_{2}^{2} + \\lambda_{0} \\lambda_{1}^{3} \\lambda_{2} - \\lambda_{0} \\lambda_{1}^{2} \\lambda_{2} + 2 \\lambda_{0} \\lambda_{1} \\lambda_{2}^{2} + \\lambda_{0} \\lambda_{1} \\lambda_{2} - \\lambda_{0} \\lambda_{2} + \\lambda_{1}^{2} \\lambda_{2}^{2} - \\lambda_{1} \\lambda_{2}^{2}}{4 \\lambda_{0}^{3} \\lambda_{1}^{2} \\lambda_{2}^{2} - 2 \\lambda_{0}^{3} \\lambda_{1}^{2} \\lambda_{2} - 2 \\lambda_{0}^{3} \\lambda_{1} \\lambda_{2}^{2} + \\lambda_{0}^{3} \\lambda_{1} \\lambda_{2} + 4 \\lambda_{0}^{2} \\lambda_{1}^{3} \\lambda_{2}^{2} - 2 \\lambda_{0}^{2} \\lambda_{1}^{3} \\lambda_{2} + 4 \\lambda_{0}^{2} \\lambda_{1}^{2} \\lambda_{2}^{3} - 16 \\lambda_{0}^{2} \\lambda_{1}^{2} \\lambda_{2}^{2} + 4 \\lambda_{0}^{2} \\lambda_{1}^{2} \\lambda_{2} + 2 \\lambda_{0}^{2} \\lambda_{1}^{2} - 2 \\lambda_{0}^{2} \\lambda_{1} \\lambda_{2}^{3} + 4 \\lambda_{0}^{2} \\lambda_{1} \\lambda_{2}^{2} - 2 \\lambda_{0}^{2} \\lambda_{1} + 2 \\lambda_{0}^{2} \\lambda_{2}^{2} - 2 \\lambda_{0}^{2} \\lambda_{2} + \\lambda_{0}^{2} - 2 \\lambda_{0} \\lambda_{1}^{3} \\lambda_{2}^{2} + \\lambda_{0} \\lambda_{1}^{3} \\lambda_{2} - 2 \\lambda_{0} \\lambda_{1}^{2} \\lambda_{2}^{3} + 4 \\lambda_{0} \\lambda_{1}^{2} \\lambda_{2}^{2} - 2 \\lambda_{0} \\lambda_{1}^{2} + \\lambda_{0} \\lambda_{1} \\lambda_{2}^{3} + 5 \\lambda_{0} \\lambda_{1} \\lambda_{2} - 2 \\lambda_{0} \\lambda_{2}^{2} + 2 \\lambda_{1}^{2} \\lambda_{2}^{2} - 2 \\lambda_{1}^{2} \\lambda_{2} + \\lambda_{1}^{2} - 2 \\lambda_{1} \\lambda_{2}^{2} + \\lambda_{2}^{2} - 1}\\\\0 & 0 & 0 & 0 & 0 & 0 & \\frac{4 \\lambda_{0}^{3} \\lambda_{1}^{2} \\lambda_{2}^{2} - 2 \\lambda_{0}^{3} \\lambda_{1}^{2} \\lambda_{2} - 2 \\lambda_{0}^{3} \\lambda_{1} \\lambda_{2}^{2} + \\lambda_{0}^{3} \\lambda_{1} \\lambda_{2} + 4 \\lambda_{0}^{2} \\lambda_{1}^{3} \\lambda_{2}^{2} - 2 \\lambda_{0}^{2} \\lambda_{1}^{3} \\lambda_{2} - 12 \\lambda_{0}^{2} \\lambda_{1}^{2} \\lambda_{2}^{2} + 4 \\lambda_{0}^{2} \\lambda_{1}^{2} \\lambda_{2} + 2 \\lambda_{0}^{2} \\lambda_{1}^{2} + 4 \\lambda_{0}^{2} \\lambda_{1} \\lambda_{2}^{2} - 2 \\lambda_{0}^{2} \\lambda_{1} \\lambda_{2} - 2 \\lambda_{0}^{2} \\lambda_{1} + \\lambda_{0}^{2} \\lambda_{2}^{2} - \\lambda_{0}^{2} \\lambda_{2} + \\lambda_{0}^{2} - 2 \\lambda_{0} \\lambda_{1}^{3} \\lambda_{2}^{2} + \\lambda_{0} \\lambda_{1}^{3} \\lambda_{2} + 4 \\lambda_{0} \\lambda_{1}^{2} \\lambda_{2}^{2} - 2 \\lambda_{0} \\lambda_{1}^{2} \\lambda_{2} - 2 \\lambda_{0} \\lambda_{1}^{2} + \\lambda_{0} \\lambda_{1} \\lambda_{2}^{2} + 4 \\lambda_{0} \\lambda_{1} \\lambda_{2} + \\lambda_{0} \\lambda_{1} - 2 \\lambda_{0} \\lambda_{2}^{2} + \\lambda_{1}^{2} \\lambda_{2}^{2} - \\lambda_{1}^{2} \\lambda_{2} + \\lambda_{1}^{2} - 2 \\lambda_{1} \\lambda_{2}^{2} + \\lambda_{2}^{2} - 1}{4 \\lambda_{0}^{3} \\lambda_{1}^{2} \\lambda_{2}^{2} - 2 \\lambda_{0}^{3} \\lambda_{1}^{2} \\lambda_{2} - 2 \\lambda_{0}^{3} \\lambda_{1} \\lambda_{2}^{2} + \\lambda_{0}^{3} \\lambda_{1} \\lambda_{2} + 4 \\lambda_{0}^{2} \\lambda_{1}^{3} \\lambda_{2}^{2} - 2 \\lambda_{0}^{2} \\lambda_{1}^{3} \\lambda_{2} + 4 \\lambda_{0}^{2} \\lambda_{1}^{2} \\lambda_{2}^{3} - 16 \\lambda_{0}^{2} \\lambda_{1}^{2} \\lambda_{2}^{2} + 4 \\lambda_{0}^{2} \\lambda_{1}^{2} \\lambda_{2} + 2 \\lambda_{0}^{2} \\lambda_{1}^{2} - 2 \\lambda_{0}^{2} \\lambda_{1} \\lambda_{2}^{3} + 4 \\lambda_{0}^{2} \\lambda_{1} \\lambda_{2}^{2} - 2 \\lambda_{0}^{2} \\lambda_{1} + 2 \\lambda_{0}^{2} \\lambda_{2}^{2} - 2 \\lambda_{0}^{2} \\lambda_{2} + \\lambda_{0}^{2} - 2 \\lambda_{0} \\lambda_{1}^{3} \\lambda_{2}^{2} + \\lambda_{0} \\lambda_{1}^{3} \\lambda_{2} - 2 \\lambda_{0} \\lambda_{1}^{2} \\lambda_{2}^{3} + 4 \\lambda_{0} \\lambda_{1}^{2} \\lambda_{2}^{2} - 2 \\lambda_{0} \\lambda_{1}^{2} + \\lambda_{0} \\lambda_{1} \\lambda_{2}^{3} + 5 \\lambda_{0} \\lambda_{1} \\lambda_{2} - 2 \\lambda_{0} \\lambda_{2}^{2} + 2 \\lambda_{1}^{2} \\lambda_{2}^{2} - 2 \\lambda_{1}^{2} \\lambda_{2} + \\lambda_{1}^{2} - 2 \\lambda_{1} \\lambda_{2}^{2} + \\lambda_{2}^{2} - 1} & \\frac{4 \\lambda_{0}^{2} \\lambda_{1}^{2} \\lambda_{2}^{3} - 4 \\lambda_{0}^{2} \\lambda_{1}^{2} \\lambda_{2}^{2} - 2 \\lambda_{0}^{2} \\lambda_{1} \\lambda_{2}^{3} + 2 \\lambda_{0}^{2} \\lambda_{1} \\lambda_{2} + \\lambda_{0}^{2} \\lambda_{2}^{2} - \\lambda_{0}^{2} \\lambda_{2} - 2 \\lambda_{0} \\lambda_{1}^{2} \\lambda_{2}^{3} + 2 \\lambda_{0} \\lambda_{1}^{2} \\lambda_{2} + \\lambda_{0} \\lambda_{1} \\lambda_{2}^{3} - \\lambda_{0} \\lambda_{1} \\lambda_{2}^{2} + \\lambda_{0} \\lambda_{1} \\lambda_{2} - \\lambda_{0} \\lambda_{1} + \\lambda_{1}^{2} \\lambda_{2}^{2} - \\lambda_{1}^{2} \\lambda_{2}}{4 \\lambda_{0}^{3} \\lambda_{1}^{2} \\lambda_{2}^{2} - 2 \\lambda_{0}^{3} \\lambda_{1}^{2} \\lambda_{2} - 2 \\lambda_{0}^{3} \\lambda_{1} \\lambda_{2}^{2} + \\lambda_{0}^{3} \\lambda_{1} \\lambda_{2} + 4 \\lambda_{0}^{2} \\lambda_{1}^{3} \\lambda_{2}^{2} - 2 \\lambda_{0}^{2} \\lambda_{1}^{3} \\lambda_{2} + 4 \\lambda_{0}^{2} \\lambda_{1}^{2} \\lambda_{2}^{3} - 16 \\lambda_{0}^{2} \\lambda_{1}^{2} \\lambda_{2}^{2} + 4 \\lambda_{0}^{2} \\lambda_{1}^{2} \\lambda_{2} + 2 \\lambda_{0}^{2} \\lambda_{1}^{2} - 2 \\lambda_{0}^{2} \\lambda_{1} \\lambda_{2}^{3} + 4 \\lambda_{0}^{2} \\lambda_{1} \\lambda_{2}^{2} - 2 \\lambda_{0}^{2} \\lambda_{1} + 2 \\lambda_{0}^{2} \\lambda_{2}^{2} - 2 \\lambda_{0}^{2} \\lambda_{2} + \\lambda_{0}^{2} - 2 \\lambda_{0} \\lambda_{1}^{3} \\lambda_{2}^{2} + \\lambda_{0} \\lambda_{1}^{3} \\lambda_{2} - 2 \\lambda_{0} \\lambda_{1}^{2} \\lambda_{2}^{3} + 4 \\lambda_{0} \\lambda_{1}^{2} \\lambda_{2}^{2} - 2 \\lambda_{0} \\lambda_{1}^{2} + \\lambda_{0} \\lambda_{1} \\lambda_{2}^{3} + 5 \\lambda_{0} \\lambda_{1} \\lambda_{2} - 2 \\lambda_{0} \\lambda_{2}^{2} + 2 \\lambda_{1}^{2} \\lambda_{2}^{2} - 2 \\lambda_{1}^{2} \\lambda_{2} + \\lambda_{1}^{2} - 2 \\lambda_{1} \\lambda_{2}^{2} + \\lambda_{2}^{2} - 1}\\\\0 & 0 & 0 & 0 & 0 & 0 & 1 & 0\\\\0 & 0 & 0 & 0 & 0 & 0 & 0 & 1\\end{matrix}\\right]$"
      ],
      "text/plain": [
       "<IPython.core.display.Math object>"
      ]
     },
     "metadata": {},
     "output_type": "display_data"
    }
   ],
   "source": [
    "# calculate P_inf in canonical form from B\n",
    "left_side = np.zeros((len(abs_states) + len(trans_states), len(trans_states)))\n",
    "right_side = np.vstack((B, np.eye(len(abs_states))))\n",
    "P_inf_can = Matrix(np.hstack((left_side, right_side))).applyfunc(nsimplify)\n",
    "display(Math(f'P_\\infty = {printing.default_latex(P_inf_can)}')) # canonical form of P_inf"
   ]
  },
  {
   "cell_type": "code",
   "execution_count": 38,
   "id": "b48e0dd2",
   "metadata": {},
   "outputs": [
    {
     "data": {
      "text/latex": [
       "$\\displaystyle \\left[\\begin{matrix}0 & 0 & 0 & 0 & 0 & 0 & \\frac{24 \\lambda_{0}^{3} \\lambda_{1}^{2} \\lambda_{2}^{2} - 12 \\lambda_{0}^{3} \\lambda_{1}^{2} \\lambda_{2} - 12 \\lambda_{0}^{3} \\lambda_{1} \\lambda_{2}^{2} + 6 \\lambda_{0}^{3} \\lambda_{1} \\lambda_{2} + 24 \\lambda_{0}^{2} \\lambda_{1}^{3} \\lambda_{2}^{2} - 12 \\lambda_{0}^{2} \\lambda_{1}^{3} \\lambda_{2} + 24 \\lambda_{0}^{2} \\lambda_{1}^{2} \\lambda_{2}^{3} - 100 \\lambda_{0}^{2} \\lambda_{1}^{2} \\lambda_{2}^{2} + 28 \\lambda_{0}^{2} \\lambda_{1}^{2} \\lambda_{2} + 12 \\lambda_{0}^{2} \\lambda_{1}^{2} - 12 \\lambda_{0}^{2} \\lambda_{1} \\lambda_{2}^{3} + 28 \\lambda_{0}^{2} \\lambda_{1} \\lambda_{2}^{2} - 3 \\lambda_{0}^{2} \\lambda_{1} \\lambda_{2} - 13 \\lambda_{0}^{2} \\lambda_{1} + 12 \\lambda_{0}^{2} \\lambda_{2}^{2} - 13 \\lambda_{0}^{2} \\lambda_{2} + 7 \\lambda_{0}^{2} - 12 \\lambda_{0} \\lambda_{1}^{3} \\lambda_{2}^{2} + 6 \\lambda_{0} \\lambda_{1}^{3} \\lambda_{2} - 12 \\lambda_{0} \\lambda_{1}^{2} \\lambda_{2}^{3} + 28 \\lambda_{0} \\lambda_{1}^{2} \\lambda_{2}^{2} - 3 \\lambda_{0} \\lambda_{1}^{2} \\lambda_{2} - 13 \\lambda_{0} \\lambda_{1}^{2} + 6 \\lambda_{0} \\lambda_{1} \\lambda_{2}^{3} - 3 \\lambda_{0} \\lambda_{1} \\lambda_{2}^{2} + 32 \\lambda_{0} \\lambda_{1} \\lambda_{2} + \\lambda_{0} \\lambda_{1} - 13 \\lambda_{0} \\lambda_{2}^{2} + \\lambda_{0} \\lambda_{2} + 12 \\lambda_{1}^{2} \\lambda_{2}^{2} - 13 \\lambda_{1}^{2} \\lambda_{2} + 7 \\lambda_{1}^{2} - 13 \\lambda_{1} \\lambda_{2}^{2} + \\lambda_{1} \\lambda_{2} + 7 \\lambda_{2}^{2} - 7}{8 \\left(4 \\lambda_{0}^{3} \\lambda_{1}^{2} \\lambda_{2}^{2} - 2 \\lambda_{0}^{3} \\lambda_{1}^{2} \\lambda_{2} - 2 \\lambda_{0}^{3} \\lambda_{1} \\lambda_{2}^{2} + \\lambda_{0}^{3} \\lambda_{1} \\lambda_{2} + 4 \\lambda_{0}^{2} \\lambda_{1}^{3} \\lambda_{2}^{2} - 2 \\lambda_{0}^{2} \\lambda_{1}^{3} \\lambda_{2} + 4 \\lambda_{0}^{2} \\lambda_{1}^{2} \\lambda_{2}^{3} - 16 \\lambda_{0}^{2} \\lambda_{1}^{2} \\lambda_{2}^{2} + 4 \\lambda_{0}^{2} \\lambda_{1}^{2} \\lambda_{2} + 2 \\lambda_{0}^{2} \\lambda_{1}^{2} - 2 \\lambda_{0}^{2} \\lambda_{1} \\lambda_{2}^{3} + 4 \\lambda_{0}^{2} \\lambda_{1} \\lambda_{2}^{2} - 2 \\lambda_{0}^{2} \\lambda_{1} + 2 \\lambda_{0}^{2} \\lambda_{2}^{2} - 2 \\lambda_{0}^{2} \\lambda_{2} + \\lambda_{0}^{2} - 2 \\lambda_{0} \\lambda_{1}^{3} \\lambda_{2}^{2} + \\lambda_{0} \\lambda_{1}^{3} \\lambda_{2} - 2 \\lambda_{0} \\lambda_{1}^{2} \\lambda_{2}^{3} + 4 \\lambda_{0} \\lambda_{1}^{2} \\lambda_{2}^{2} - 2 \\lambda_{0} \\lambda_{1}^{2} + \\lambda_{0} \\lambda_{1} \\lambda_{2}^{3} + 5 \\lambda_{0} \\lambda_{1} \\lambda_{2} - 2 \\lambda_{0} \\lambda_{2}^{2} + 2 \\lambda_{1}^{2} \\lambda_{2}^{2} - 2 \\lambda_{1}^{2} \\lambda_{2} + \\lambda_{1}^{2} - 2 \\lambda_{1} \\lambda_{2}^{2} + \\lambda_{2}^{2} - 1\\right)} & \\frac{8 \\lambda_{0}^{3} \\lambda_{1}^{2} \\lambda_{2}^{2} - 4 \\lambda_{0}^{3} \\lambda_{1}^{2} \\lambda_{2} - 4 \\lambda_{0}^{3} \\lambda_{1} \\lambda_{2}^{2} + 2 \\lambda_{0}^{3} \\lambda_{1} \\lambda_{2} + 8 \\lambda_{0}^{2} \\lambda_{1}^{3} \\lambda_{2}^{2} - 4 \\lambda_{0}^{2} \\lambda_{1}^{3} \\lambda_{2} + 8 \\lambda_{0}^{2} \\lambda_{1}^{2} \\lambda_{2}^{3} - 28 \\lambda_{0}^{2} \\lambda_{1}^{2} \\lambda_{2}^{2} + 4 \\lambda_{0}^{2} \\lambda_{1}^{2} \\lambda_{2} + 4 \\lambda_{0}^{2} \\lambda_{1}^{2} - 4 \\lambda_{0}^{2} \\lambda_{1} \\lambda_{2}^{3} + 4 \\lambda_{0}^{2} \\lambda_{1} \\lambda_{2}^{2} + 3 \\lambda_{0}^{2} \\lambda_{1} \\lambda_{2} - 3 \\lambda_{0}^{2} \\lambda_{1} + 4 \\lambda_{0}^{2} \\lambda_{2}^{2} - 3 \\lambda_{0}^{2} \\lambda_{2} + \\lambda_{0}^{2} - 4 \\lambda_{0} \\lambda_{1}^{3} \\lambda_{2}^{2} + 2 \\lambda_{0} \\lambda_{1}^{3} \\lambda_{2} - 4 \\lambda_{0} \\lambda_{1}^{2} \\lambda_{2}^{3} + 4 \\lambda_{0} \\lambda_{1}^{2} \\lambda_{2}^{2} + 3 \\lambda_{0} \\lambda_{1}^{2} \\lambda_{2} - 3 \\lambda_{0} \\lambda_{1}^{2} + 2 \\lambda_{0} \\lambda_{1} \\lambda_{2}^{3} + 3 \\lambda_{0} \\lambda_{1} \\lambda_{2}^{2} + 8 \\lambda_{0} \\lambda_{1} \\lambda_{2} - \\lambda_{0} \\lambda_{1} - 3 \\lambda_{0} \\lambda_{2}^{2} - \\lambda_{0} \\lambda_{2} + 4 \\lambda_{1}^{2} \\lambda_{2}^{2} - 3 \\lambda_{1}^{2} \\lambda_{2} + \\lambda_{1}^{2} - 3 \\lambda_{1} \\lambda_{2}^{2} - \\lambda_{1} \\lambda_{2} + \\lambda_{2}^{2} - 1}{8 \\left(4 \\lambda_{0}^{3} \\lambda_{1}^{2} \\lambda_{2}^{2} - 2 \\lambda_{0}^{3} \\lambda_{1}^{2} \\lambda_{2} - 2 \\lambda_{0}^{3} \\lambda_{1} \\lambda_{2}^{2} + \\lambda_{0}^{3} \\lambda_{1} \\lambda_{2} + 4 \\lambda_{0}^{2} \\lambda_{1}^{3} \\lambda_{2}^{2} - 2 \\lambda_{0}^{2} \\lambda_{1}^{3} \\lambda_{2} + 4 \\lambda_{0}^{2} \\lambda_{1}^{2} \\lambda_{2}^{3} - 16 \\lambda_{0}^{2} \\lambda_{1}^{2} \\lambda_{2}^{2} + 4 \\lambda_{0}^{2} \\lambda_{1}^{2} \\lambda_{2} + 2 \\lambda_{0}^{2} \\lambda_{1}^{2} - 2 \\lambda_{0}^{2} \\lambda_{1} \\lambda_{2}^{3} + 4 \\lambda_{0}^{2} \\lambda_{1} \\lambda_{2}^{2} - 2 \\lambda_{0}^{2} \\lambda_{1} + 2 \\lambda_{0}^{2} \\lambda_{2}^{2} - 2 \\lambda_{0}^{2} \\lambda_{2} + \\lambda_{0}^{2} - 2 \\lambda_{0} \\lambda_{1}^{3} \\lambda_{2}^{2} + \\lambda_{0} \\lambda_{1}^{3} \\lambda_{2} - 2 \\lambda_{0} \\lambda_{1}^{2} \\lambda_{2}^{3} + 4 \\lambda_{0} \\lambda_{1}^{2} \\lambda_{2}^{2} - 2 \\lambda_{0} \\lambda_{1}^{2} + \\lambda_{0} \\lambda_{1} \\lambda_{2}^{3} + 5 \\lambda_{0} \\lambda_{1} \\lambda_{2} - 2 \\lambda_{0} \\lambda_{2}^{2} + 2 \\lambda_{1}^{2} \\lambda_{2}^{2} - 2 \\lambda_{1}^{2} \\lambda_{2} + \\lambda_{1}^{2} - 2 \\lambda_{1} \\lambda_{2}^{2} + \\lambda_{2}^{2} - 1\\right)}\\end{matrix}\\right]$"
      ],
      "text/plain": [
       "Matrix([[0, 0, 0, 0, 0, 0, (24*lambda_0**3*lambda_1**2*lambda_2**2 - 12*lambda_0**3*lambda_1**2*lambda_2 - 12*lambda_0**3*lambda_1*lambda_2**2 + 6*lambda_0**3*lambda_1*lambda_2 + 24*lambda_0**2*lambda_1**3*lambda_2**2 - 12*lambda_0**2*lambda_1**3*lambda_2 + 24*lambda_0**2*lambda_1**2*lambda_2**3 - 100*lambda_0**2*lambda_1**2*lambda_2**2 + 28*lambda_0**2*lambda_1**2*lambda_2 + 12*lambda_0**2*lambda_1**2 - 12*lambda_0**2*lambda_1*lambda_2**3 + 28*lambda_0**2*lambda_1*lambda_2**2 - 3*lambda_0**2*lambda_1*lambda_2 - 13*lambda_0**2*lambda_1 + 12*lambda_0**2*lambda_2**2 - 13*lambda_0**2*lambda_2 + 7*lambda_0**2 - 12*lambda_0*lambda_1**3*lambda_2**2 + 6*lambda_0*lambda_1**3*lambda_2 - 12*lambda_0*lambda_1**2*lambda_2**3 + 28*lambda_0*lambda_1**2*lambda_2**2 - 3*lambda_0*lambda_1**2*lambda_2 - 13*lambda_0*lambda_1**2 + 6*lambda_0*lambda_1*lambda_2**3 - 3*lambda_0*lambda_1*lambda_2**2 + 32*lambda_0*lambda_1*lambda_2 + lambda_0*lambda_1 - 13*lambda_0*lambda_2**2 + lambda_0*lambda_2 + 12*lambda_1**2*lambda_2**2 - 13*lambda_1**2*lambda_2 + 7*lambda_1**2 - 13*lambda_1*lambda_2**2 + lambda_1*lambda_2 + 7*lambda_2**2 - 7)/(8*(4*lambda_0**3*lambda_1**2*lambda_2**2 - 2*lambda_0**3*lambda_1**2*lambda_2 - 2*lambda_0**3*lambda_1*lambda_2**2 + lambda_0**3*lambda_1*lambda_2 + 4*lambda_0**2*lambda_1**3*lambda_2**2 - 2*lambda_0**2*lambda_1**3*lambda_2 + 4*lambda_0**2*lambda_1**2*lambda_2**3 - 16*lambda_0**2*lambda_1**2*lambda_2**2 + 4*lambda_0**2*lambda_1**2*lambda_2 + 2*lambda_0**2*lambda_1**2 - 2*lambda_0**2*lambda_1*lambda_2**3 + 4*lambda_0**2*lambda_1*lambda_2**2 - 2*lambda_0**2*lambda_1 + 2*lambda_0**2*lambda_2**2 - 2*lambda_0**2*lambda_2 + lambda_0**2 - 2*lambda_0*lambda_1**3*lambda_2**2 + lambda_0*lambda_1**3*lambda_2 - 2*lambda_0*lambda_1**2*lambda_2**3 + 4*lambda_0*lambda_1**2*lambda_2**2 - 2*lambda_0*lambda_1**2 + lambda_0*lambda_1*lambda_2**3 + 5*lambda_0*lambda_1*lambda_2 - 2*lambda_0*lambda_2**2 + 2*lambda_1**2*lambda_2**2 - 2*lambda_1**2*lambda_2 + lambda_1**2 - 2*lambda_1*lambda_2**2 + lambda_2**2 - 1)), (8*lambda_0**3*lambda_1**2*lambda_2**2 - 4*lambda_0**3*lambda_1**2*lambda_2 - 4*lambda_0**3*lambda_1*lambda_2**2 + 2*lambda_0**3*lambda_1*lambda_2 + 8*lambda_0**2*lambda_1**3*lambda_2**2 - 4*lambda_0**2*lambda_1**3*lambda_2 + 8*lambda_0**2*lambda_1**2*lambda_2**3 - 28*lambda_0**2*lambda_1**2*lambda_2**2 + 4*lambda_0**2*lambda_1**2*lambda_2 + 4*lambda_0**2*lambda_1**2 - 4*lambda_0**2*lambda_1*lambda_2**3 + 4*lambda_0**2*lambda_1*lambda_2**2 + 3*lambda_0**2*lambda_1*lambda_2 - 3*lambda_0**2*lambda_1 + 4*lambda_0**2*lambda_2**2 - 3*lambda_0**2*lambda_2 + lambda_0**2 - 4*lambda_0*lambda_1**3*lambda_2**2 + 2*lambda_0*lambda_1**3*lambda_2 - 4*lambda_0*lambda_1**2*lambda_2**3 + 4*lambda_0*lambda_1**2*lambda_2**2 + 3*lambda_0*lambda_1**2*lambda_2 - 3*lambda_0*lambda_1**2 + 2*lambda_0*lambda_1*lambda_2**3 + 3*lambda_0*lambda_1*lambda_2**2 + 8*lambda_0*lambda_1*lambda_2 - lambda_0*lambda_1 - 3*lambda_0*lambda_2**2 - lambda_0*lambda_2 + 4*lambda_1**2*lambda_2**2 - 3*lambda_1**2*lambda_2 + lambda_1**2 - 3*lambda_1*lambda_2**2 - lambda_1*lambda_2 + lambda_2**2 - 1)/(8*(4*lambda_0**3*lambda_1**2*lambda_2**2 - 2*lambda_0**3*lambda_1**2*lambda_2 - 2*lambda_0**3*lambda_1*lambda_2**2 + lambda_0**3*lambda_1*lambda_2 + 4*lambda_0**2*lambda_1**3*lambda_2**2 - 2*lambda_0**2*lambda_1**3*lambda_2 + 4*lambda_0**2*lambda_1**2*lambda_2**3 - 16*lambda_0**2*lambda_1**2*lambda_2**2 + 4*lambda_0**2*lambda_1**2*lambda_2 + 2*lambda_0**2*lambda_1**2 - 2*lambda_0**2*lambda_1*lambda_2**3 + 4*lambda_0**2*lambda_1*lambda_2**2 - 2*lambda_0**2*lambda_1 + 2*lambda_0**2*lambda_2**2 - 2*lambda_0**2*lambda_2 + lambda_0**2 - 2*lambda_0*lambda_1**3*lambda_2**2 + lambda_0*lambda_1**3*lambda_2 - 2*lambda_0*lambda_1**2*lambda_2**3 + 4*lambda_0*lambda_1**2*lambda_2**2 - 2*lambda_0*lambda_1**2 + lambda_0*lambda_1*lambda_2**3 + 5*lambda_0*lambda_1*lambda_2 - 2*lambda_0*lambda_2**2 + 2*lambda_1**2*lambda_2**2 - 2*lambda_1**2*lambda_2 + lambda_1**2 - 2*lambda_1*lambda_2**2 + lambda_2**2 - 1))]])"
      ]
     },
     "execution_count": 38,
     "metadata": {},
     "output_type": "execute_result"
    }
   ],
   "source": [
    "uniform_dist = Matrix([1/len(joint_policy_space)]*len(joint_policy_space)).applyfunc(nsimplify).T\n",
    "final_dist = simplify(Matrix(uniform_dist @ P_inf_can))\n",
    "final_dist"
   ]
  },
  {
   "cell_type": "code",
   "execution_count": 39,
   "id": "204622a0",
   "metadata": {
    "scrolled": true
   },
   "outputs": [
    {
     "data": {
      "text/latex": [
       "$\\displaystyle \\frac{8 \\lambda_{0}^{3} \\lambda_{1}^{2} \\lambda_{2}^{2} - 4 \\lambda_{0}^{3} \\lambda_{1}^{2} \\lambda_{2} - 4 \\lambda_{0}^{3} \\lambda_{1} \\lambda_{2}^{2} + 2 \\lambda_{0}^{3} \\lambda_{1} \\lambda_{2} + 8 \\lambda_{0}^{2} \\lambda_{1}^{3} \\lambda_{2}^{2} - 4 \\lambda_{0}^{2} \\lambda_{1}^{3} \\lambda_{2} + 8 \\lambda_{0}^{2} \\lambda_{1}^{2} \\lambda_{2}^{3} - 28 \\lambda_{0}^{2} \\lambda_{1}^{2} \\lambda_{2}^{2} + 4 \\lambda_{0}^{2} \\lambda_{1}^{2} \\lambda_{2} + 4 \\lambda_{0}^{2} \\lambda_{1}^{2} - 4 \\lambda_{0}^{2} \\lambda_{1} \\lambda_{2}^{3} + 4 \\lambda_{0}^{2} \\lambda_{1} \\lambda_{2}^{2} + 3 \\lambda_{0}^{2} \\lambda_{1} \\lambda_{2} - 3 \\lambda_{0}^{2} \\lambda_{1} + 4 \\lambda_{0}^{2} \\lambda_{2}^{2} - 3 \\lambda_{0}^{2} \\lambda_{2} + \\lambda_{0}^{2} - 4 \\lambda_{0} \\lambda_{1}^{3} \\lambda_{2}^{2} + 2 \\lambda_{0} \\lambda_{1}^{3} \\lambda_{2} - 4 \\lambda_{0} \\lambda_{1}^{2} \\lambda_{2}^{3} + 4 \\lambda_{0} \\lambda_{1}^{2} \\lambda_{2}^{2} + 3 \\lambda_{0} \\lambda_{1}^{2} \\lambda_{2} - 3 \\lambda_{0} \\lambda_{1}^{2} + 2 \\lambda_{0} \\lambda_{1} \\lambda_{2}^{3} + 3 \\lambda_{0} \\lambda_{1} \\lambda_{2}^{2} + 8 \\lambda_{0} \\lambda_{1} \\lambda_{2} - \\lambda_{0} \\lambda_{1} - 3 \\lambda_{0} \\lambda_{2}^{2} - \\lambda_{0} \\lambda_{2} + 4 \\lambda_{1}^{2} \\lambda_{2}^{2} - 3 \\lambda_{1}^{2} \\lambda_{2} + \\lambda_{1}^{2} - 3 \\lambda_{1} \\lambda_{2}^{2} - \\lambda_{1} \\lambda_{2} + \\lambda_{2}^{2} - 1}{8 \\left(4 \\lambda_{0}^{3} \\lambda_{1}^{2} \\lambda_{2}^{2} - 2 \\lambda_{0}^{3} \\lambda_{1}^{2} \\lambda_{2} - 2 \\lambda_{0}^{3} \\lambda_{1} \\lambda_{2}^{2} + \\lambda_{0}^{3} \\lambda_{1} \\lambda_{2} + 4 \\lambda_{0}^{2} \\lambda_{1}^{3} \\lambda_{2}^{2} - 2 \\lambda_{0}^{2} \\lambda_{1}^{3} \\lambda_{2} + 4 \\lambda_{0}^{2} \\lambda_{1}^{2} \\lambda_{2}^{3} - 16 \\lambda_{0}^{2} \\lambda_{1}^{2} \\lambda_{2}^{2} + 4 \\lambda_{0}^{2} \\lambda_{1}^{2} \\lambda_{2} + 2 \\lambda_{0}^{2} \\lambda_{1}^{2} - 2 \\lambda_{0}^{2} \\lambda_{1} \\lambda_{2}^{3} + 4 \\lambda_{0}^{2} \\lambda_{1} \\lambda_{2}^{2} - 2 \\lambda_{0}^{2} \\lambda_{1} + 2 \\lambda_{0}^{2} \\lambda_{2}^{2} - 2 \\lambda_{0}^{2} \\lambda_{2} + \\lambda_{0}^{2} - 2 \\lambda_{0} \\lambda_{1}^{3} \\lambda_{2}^{2} + \\lambda_{0} \\lambda_{1}^{3} \\lambda_{2} - 2 \\lambda_{0} \\lambda_{1}^{2} \\lambda_{2}^{3} + 4 \\lambda_{0} \\lambda_{1}^{2} \\lambda_{2}^{2} - 2 \\lambda_{0} \\lambda_{1}^{2} + \\lambda_{0} \\lambda_{1} \\lambda_{2}^{3} + 5 \\lambda_{0} \\lambda_{1} \\lambda_{2} - 2 \\lambda_{0} \\lambda_{2}^{2} + 2 \\lambda_{1}^{2} \\lambda_{2}^{2} - 2 \\lambda_{1}^{2} \\lambda_{2} + \\lambda_{1}^{2} - 2 \\lambda_{1} \\lambda_{2}^{2} + \\lambda_{2}^{2} - 1\\right)}$"
      ],
      "text/plain": [
       "(8*lambda_0**3*lambda_1**2*lambda_2**2 - 4*lambda_0**3*lambda_1**2*lambda_2 - 4*lambda_0**3*lambda_1*lambda_2**2 + 2*lambda_0**3*lambda_1*lambda_2 + 8*lambda_0**2*lambda_1**3*lambda_2**2 - 4*lambda_0**2*lambda_1**3*lambda_2 + 8*lambda_0**2*lambda_1**2*lambda_2**3 - 28*lambda_0**2*lambda_1**2*lambda_2**2 + 4*lambda_0**2*lambda_1**2*lambda_2 + 4*lambda_0**2*lambda_1**2 - 4*lambda_0**2*lambda_1*lambda_2**3 + 4*lambda_0**2*lambda_1*lambda_2**2 + 3*lambda_0**2*lambda_1*lambda_2 - 3*lambda_0**2*lambda_1 + 4*lambda_0**2*lambda_2**2 - 3*lambda_0**2*lambda_2 + lambda_0**2 - 4*lambda_0*lambda_1**3*lambda_2**2 + 2*lambda_0*lambda_1**3*lambda_2 - 4*lambda_0*lambda_1**2*lambda_2**3 + 4*lambda_0*lambda_1**2*lambda_2**2 + 3*lambda_0*lambda_1**2*lambda_2 - 3*lambda_0*lambda_1**2 + 2*lambda_0*lambda_1*lambda_2**3 + 3*lambda_0*lambda_1*lambda_2**2 + 8*lambda_0*lambda_1*lambda_2 - lambda_0*lambda_1 - 3*lambda_0*lambda_2**2 - lambda_0*lambda_2 + 4*lambda_1**2*lambda_2**2 - 3*lambda_1**2*lambda_2 + lambda_1**2 - 3*lambda_1*lambda_2**2 - lambda_1*lambda_2 + lambda_2**2 - 1)/(8*(4*lambda_0**3*lambda_1**2*lambda_2**2 - 2*lambda_0**3*lambda_1**2*lambda_2 - 2*lambda_0**3*lambda_1*lambda_2**2 + lambda_0**3*lambda_1*lambda_2 + 4*lambda_0**2*lambda_1**3*lambda_2**2 - 2*lambda_0**2*lambda_1**3*lambda_2 + 4*lambda_0**2*lambda_1**2*lambda_2**3 - 16*lambda_0**2*lambda_1**2*lambda_2**2 + 4*lambda_0**2*lambda_1**2*lambda_2 + 2*lambda_0**2*lambda_1**2 - 2*lambda_0**2*lambda_1*lambda_2**3 + 4*lambda_0**2*lambda_1*lambda_2**2 - 2*lambda_0**2*lambda_1 + 2*lambda_0**2*lambda_2**2 - 2*lambda_0**2*lambda_2 + lambda_0**2 - 2*lambda_0*lambda_1**3*lambda_2**2 + lambda_0*lambda_1**3*lambda_2 - 2*lambda_0*lambda_1**2*lambda_2**3 + 4*lambda_0*lambda_1**2*lambda_2**2 - 2*lambda_0*lambda_1**2 + lambda_0*lambda_1*lambda_2**3 + 5*lambda_0*lambda_1*lambda_2 - 2*lambda_0*lambda_2**2 + 2*lambda_1**2*lambda_2**2 - 2*lambda_1**2*lambda_2 + lambda_1**2 - 2*lambda_1*lambda_2**2 + lambda_2**2 - 1))"
      ]
     },
     "execution_count": 39,
     "metadata": {},
     "output_type": "execute_result"
    }
   ],
   "source": [
    "optimal_eq_prob = final_dist[-1]\n",
    "optimal_eq_prob # expression for the probability of converging to team optimal policy (again, VERY complicated)"
   ]
  },
  {
   "cell_type": "markdown",
   "id": "3276424c",
   "metadata": {},
   "source": [
    "Testing the optimal values of inertia obtained through numerical methods on the analytical expression above. The results are the same!"
   ]
  },
  {
   "cell_type": "code",
   "execution_count": 40,
   "id": "be2dac15",
   "metadata": {},
   "outputs": [
    {
     "data": {
      "text/latex": [
       "$\\displaystyle 0.125000003750375$"
      ],
      "text/plain": [
       "0.125000003750375"
      ]
     },
     "execution_count": 40,
     "metadata": {},
     "output_type": "execute_result"
    }
   ],
   "source": [
    "optimal_eq_prob.subs(zip(agent_inertias, [0.0001, 0.0001, 0.0001]))"
   ]
  },
  {
   "cell_type": "code",
   "execution_count": 41,
   "id": "3e5c8435",
   "metadata": {},
   "outputs": [
    {
     "data": {
      "text/latex": [
       "$\\displaystyle 0.24998354776085$"
      ],
      "text/plain": [
       "0.249983547760850"
      ]
     },
     "execution_count": 41,
     "metadata": {},
     "output_type": "execute_result"
    }
   ],
   "source": [
    "optimal_eq_prob.subs(zip(agent_inertias, [0.9999, 0.9999, 0.9999]))"
   ]
  },
  {
   "cell_type": "markdown",
   "id": "212d8932",
   "metadata": {},
   "source": [
    "In theory, the critical values of inertia obtained analytically (i.e.: through solving the system of equations corresponding to a gradient of 0) should be the same. However, the expression is so complicated that this takes too long to do."
   ]
  },
  {
   "cell_type": "code",
   "execution_count": 42,
   "id": "bf9ac951",
   "metadata": {},
   "outputs": [],
   "source": [
    "system_eq = [optimal_eq_prob.diff(inertia_i) for inertia_i in agent_inertias]"
   ]
  },
  {
   "cell_type": "code",
   "execution_count": 43,
   "id": "be207edf",
   "metadata": {},
   "outputs": [],
   "source": [
    "# solve(system_eq) # takes too long! expression too complicated. "
   ]
  },
  {
   "cell_type": "code",
   "execution_count": 44,
   "id": "21ad351c-b71c-49e0-b2fc-2f35d40c78f7",
   "metadata": {},
   "outputs": [],
   "source": [
    "prob_const_inertia = np.array([float(optimal_eq_prob.subs(zip(agent_inertias, [lamda]*n_agents)).evalf()) for lamda in np.linspace(0, 1, num=100)])"
   ]
  },
  {
   "cell_type": "code",
   "execution_count": 45,
   "id": "221af945-6dad-43a1-9cc0-d7096039d93c",
   "metadata": {},
   "outputs": [
    {
     "data": {
      "text/plain": [
       "array([0.125     , 0.12503864, 0.12515601, 0.12535411, 0.12563472,\n",
       "       0.12599936, 0.12644928, 0.12698541, 0.12760841, 0.12831858,\n",
       "       0.1291159 , 0.13      , 0.13097015, 0.13202527, 0.13316395,\n",
       "       0.13438438, 0.13568447, 0.13706177, 0.13851351, 0.14003665,\n",
       "       0.14162787, 0.14328358, 0.145     , 0.14677313, 0.14859882,\n",
       "       0.15047277, 0.1523906 , 0.15434783, 0.15633994, 0.15836242,\n",
       "       0.16041076, 0.1624805 , 0.16456723, 0.16666667, 0.16877461,\n",
       "       0.17088702, 0.173     , 0.17510981, 0.1772129 , 0.17930591,\n",
       "       0.18138568, 0.18344924, 0.18549383, 0.18751691, 0.18951613,\n",
       "       0.19148936, 0.19343467, 0.19535032, 0.19723476, 0.19908665,\n",
       "       0.20090479, 0.20268817, 0.20443596, 0.20614745, 0.20782209,\n",
       "       0.20945946, 0.21105928, 0.21262136, 0.21414564, 0.21563216,\n",
       "       0.21708103, 0.21849246, 0.21986673, 0.22120419, 0.22250524,\n",
       "       0.22377034, 0.225     , 0.22619477, 0.22735523, 0.228482  ,\n",
       "       0.22957572, 0.23063705, 0.23166667, 0.23266527, 0.23363355,\n",
       "       0.23457223, 0.23548202, 0.23636364, 0.2372178 , 0.23804521,\n",
       "       0.23884659, 0.23962264, 0.24037406, 0.24110152, 0.24180572,\n",
       "       0.24248732, 0.24314696, 0.24378531, 0.24440299, 0.24500061,\n",
       "       0.24557878, 0.24613809, 0.24667913, 0.24720244, 0.24770859,\n",
       "       0.2481981 , 0.2486715 , 0.24912929, 0.24957196,        nan])"
      ]
     },
     "execution_count": 45,
     "metadata": {},
     "output_type": "execute_result"
    }
   ],
   "source": [
    "prob_const_inertia"
   ]
  }
 ],
 "metadata": {
  "kernelspec": {
   "display_name": "Python 3",
   "language": "python",
   "name": "python3"
  },
  "language_info": {
   "codemirror_mode": {
    "name": "ipython",
    "version": 3
   },
   "file_extension": ".py",
   "mimetype": "text/x-python",
   "name": "python",
   "nbconvert_exporter": "python",
   "pygments_lexer": "ipython3",
   "version": "3.8.5"
  }
 },
 "nbformat": 4,
 "nbformat_minor": 5
}
