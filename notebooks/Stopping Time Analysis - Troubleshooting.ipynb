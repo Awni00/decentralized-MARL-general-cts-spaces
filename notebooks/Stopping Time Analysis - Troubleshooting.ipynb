{
 "cells": [
  {
   "cell_type": "markdown",
   "id": "3e7b9a2a",
   "metadata": {},
   "source": [
    "# Stopping Time Analysis"
   ]
  },
  {
   "cell_type": "markdown",
   "id": "1e94ac32",
   "metadata": {},
   "source": [
    "Denote the space of suboptimal equilibria as $\\pi_e$ and the globally optimal equilibrium as $\\pi_g$. \n",
    "\n",
    "Define:\n",
    "$\\tau_e := min(t>0: \\pi_t \\in \\pi_e)$\\\n",
    "$\\tau_{e,i} := E[\\tau_e | \\pi_0 = i, \\tau_e <\\infty ]$\n",
    "\n",
    "and similarly for $\\tau_g, \\tau_{g,i}$, where the indices $i$ denote a joint policy from an enumeration of the policy space. "
   ]
  },
  {
   "cell_type": "markdown",
   "id": "7d006e17",
   "metadata": {},
   "source": [
    "The below analysis is performed for the prisoner's dilemma problem with $\\lambda^0 = 1/4, \\lambda^1 = 3/4$"
   ]
  },
  {
   "cell_type": "code",
   "execution_count": 1,
   "id": "0fbc6408",
   "metadata": {},
   "outputs": [],
   "source": [
    "import numpy as np\n",
    "\n",
    "from sympy import *\n",
    "from sympy.printing.latex import LatexPrinter, print_latex\n",
    "from sympy.interactive import printing\n",
    "from IPython.display import Math, display\n",
    "\n",
    "from tqdm import tqdm"
   ]
  },
  {
   "cell_type": "markdown",
   "id": "06ba09f7",
   "metadata": {},
   "source": [
    "The transition matrix; obtained via the BR graph and $\\lambda$'s"
   ]
  },
  {
   "cell_type": "code",
   "execution_count": 2,
   "id": "51a4513c",
   "metadata": {},
   "outputs": [
    {
     "data": {
      "text/latex": [
       "$\\displaystyle \\left[\\begin{matrix}1 & 0 & 0 & 0\\\\\\frac{1}{16} & \\frac{3}{16} & \\frac{3}{16} & \\frac{9}{16}\\\\\\frac{9}{16} & \\frac{3}{16} & \\frac{3}{16} & \\frac{1}{16}\\\\0 & 0 & 0 & 1\\end{matrix}\\right]$"
      ],
      "text/plain": [
       "Matrix([\n",
       "[   1,    0,    0,    0],\n",
       "[1/16, 3/16, 3/16, 9/16],\n",
       "[9/16, 3/16, 3/16, 1/16],\n",
       "[   0,    0,    0,    1]])"
      ]
     },
     "execution_count": 2,
     "metadata": {},
     "output_type": "execute_result"
    }
   ],
   "source": [
    "# transition matrix\n",
    "P_ = np.array([[1.    , 0.    , 0.    , 0.    ],\n",
    "       [0.0625, 0.1875, 0.1875, 0.5625],\n",
    "       [0.5625, 0.1875, 0.1875, 0.0625],\n",
    "       [0.    , 0.    , 0.    , 1.    ]])\n",
    "P = Matrix(P_).applyfunc(nsimplify)\n",
    "P"
   ]
  },
  {
   "cell_type": "code",
   "execution_count": 3,
   "id": "6173d60a",
   "metadata": {},
   "outputs": [],
   "source": [
    "# indices of suboptimal and optimal equilibria\n",
    "pi_e = 0\n",
    "pi_g = 3\n",
    "\n",
    "mask_e = np.array([True if i!=pi_e else False for i in range(P_.shape[0])])\n",
    "mask_g = np.array([True if i!=pi_g else False for i in range(P_.shape[0])])"
   ]
  },
  {
   "cell_type": "code",
   "execution_count": 4,
   "id": "8e5e41dd",
   "metadata": {},
   "outputs": [],
   "source": [
    "# transition matrix removing global optimal equilibrium and suboptimal equilibrium respectively \n",
    "# the row and column corresponding to the wrong equilibrium is removed and the transition matrix is normalized by it\n",
    "P_ng = Matrix(P_[:,mask_g][mask_g, :]/(1-P_[mask_g,pi_g, np.newaxis])).applyfunc(nsimplify)\n",
    "P_ne = Matrix(P_[:,mask_e][mask_e, :]/(1-P_[mask_e,pi_e, np.newaxis])).applyfunc(nsimplify)"
   ]
  },
  {
   "cell_type": "markdown",
   "id": "e18734e0",
   "metadata": {},
   "source": [
    "## First, calculate $\\tau_e$"
   ]
  },
  {
   "cell_type": "markdown",
   "id": "4baa317a",
   "metadata": {},
   "source": [
    "this is the transition matrix given that global optimum is not visited. the row and column corresponding to the globally optimal equilibrium is removed and the transition matrix is normalized by it"
   ]
  },
  {
   "cell_type": "code",
   "execution_count": 5,
   "id": "425bb75f",
   "metadata": {},
   "outputs": [
    {
     "data": {
      "text/latex": [
       "$\\displaystyle \\left[\\begin{matrix}1 & 0 & 0\\\\\\frac{1}{7} & \\frac{3}{7} & \\frac{3}{7}\\\\\\frac{3}{5} & \\frac{1}{5} & \\frac{1}{5}\\end{matrix}\\right]$"
      ],
      "text/plain": [
       "Matrix([\n",
       "[  1,   0,   0],\n",
       "[1/7, 3/7, 3/7],\n",
       "[3/5, 1/5, 1/5]])"
      ]
     },
     "execution_count": 5,
     "metadata": {},
     "output_type": "execute_result"
    }
   ],
   "source": [
    "P_ng"
   ]
  },
  {
   "cell_type": "code",
   "execution_count": 6,
   "id": "0e5aeece",
   "metadata": {},
   "outputs": [],
   "source": [
    "x_end = 0 # end state\n",
    "\n",
    "tau_0, tau_1, tau_2 = symbols('tau0:3')\n",
    "taus = [tau_0, tau_1, tau_2]"
   ]
  },
  {
   "cell_type": "code",
   "execution_count": 7,
   "id": "624d39a4",
   "metadata": {},
   "outputs": [],
   "source": [
    "xs_ng = [0, 1, 2]\n",
    "\n",
    "# define system of equations using conditional transition matrix above\n",
    "eqs = [Eq(tau_0, 0),\n",
    "        Eq(tau_1, 1 + sum([P_ng[1, x_1]*tau_i for x_1, tau_i in zip(xs_ng, taus)])),\n",
    "        Eq(tau_2, 1 + sum(P_ng[2, x_1]*tau_i for x_1, tau_i in zip(xs_ng, taus)))]"
   ]
  },
  {
   "cell_type": "markdown",
   "id": "ba669bc2",
   "metadata": {},
   "source": [
    "The transition matrix gives us the following system of equations for hitting times corresponding to each initial state (policy):"
   ]
  },
  {
   "cell_type": "code",
   "execution_count": 8,
   "id": "6b2ff3ca",
   "metadata": {},
   "outputs": [
    {
     "data": {
      "text/latex": [
       "$\\displaystyle \\tau_{0} = 0$"
      ],
      "text/plain": [
       "<IPython.core.display.Math object>"
      ]
     },
     "metadata": {},
     "output_type": "display_data"
    },
    {
     "data": {
      "text/latex": [
       "$\\displaystyle \\tau_{1} = \\frac{\\tau_{0}}{7} + \\frac{3 \\tau_{1}}{7} + \\frac{3 \\tau_{2}}{7} + 1$"
      ],
      "text/plain": [
       "<IPython.core.display.Math object>"
      ]
     },
     "metadata": {},
     "output_type": "display_data"
    },
    {
     "data": {
      "text/latex": [
       "$\\displaystyle \\tau_{2} = \\frac{3 \\tau_{0}}{5} + \\frac{\\tau_{1}}{5} + \\frac{\\tau_{2}}{5} + 1$"
      ],
      "text/plain": [
       "<IPython.core.display.Math object>"
      ]
     },
     "metadata": {},
     "output_type": "display_data"
    }
   ],
   "source": [
    "# display system of equations\n",
    "for eq in eqs:\n",
    "    display(Math(printing.default_latex(eq)))"
   ]
  },
  {
   "cell_type": "markdown",
   "id": "8edf937a",
   "metadata": {},
   "source": [
    "This system of equations admits the following solution:"
   ]
  },
  {
   "cell_type": "code",
   "execution_count": 9,
   "id": "5010c2be",
   "metadata": {},
   "outputs": [
    {
     "data": {
      "text/plain": [
       "{tau0: 0, tau1: 43/13, tau2: 27/13}"
      ]
     },
     "execution_count": 9,
     "metadata": {},
     "output_type": "execute_result"
    }
   ],
   "source": [
    "solve(eqs)"
   ]
  },
  {
   "cell_type": "markdown",
   "id": "d8b763e0",
   "metadata": {},
   "source": [
    "Now, we confirm the solution is correct via simulation. The simulation uses the original transition matrix $P$ and samples from that. If the sample is the wrong equilibrium, it doesn't transition to that and instead samples again until the sample is a point other than the wrong equilibrium."
   ]
  },
  {
   "cell_type": "code",
   "execution_count": 10,
   "id": "74a053f5",
   "metadata": {},
   "outputs": [],
   "source": [
    "# simulation function to confirm answer\n",
    "def sim_n(P, x_0, n_x, x_end):\n",
    "    x_t = x_0\n",
    "    t = 0\n",
    "    \n",
    "    while True:\n",
    "        \n",
    "        if x_t == x_end:\n",
    "            return t\n",
    "        \n",
    "        while True:\n",
    "            x_t_ = np.random.choice(range(P.shape[0]), p=P[x_t])\n",
    "            if x_t_ != n_x:\n",
    "                x_t = x_t_\n",
    "                break\n",
    "        t+= 1"
   ]
  },
  {
   "cell_type": "code",
   "execution_count": 11,
   "id": "b5284ab2",
   "metadata": {},
   "outputs": [],
   "source": [
    "def sim_n_temp(P_ng, x_0, x_end):\n",
    "    x_t = x_0\n",
    "    t = 0\n",
    "    \n",
    "    while True:\n",
    "        if x_t == x_end:\n",
    "            return t\n",
    "        \n",
    "        x_t = np.random.choice(range(P_ng.shape[0]), p=P_ng[x_t])\n",
    "        t+=1"
   ]
  },
  {
   "cell_type": "code",
   "execution_count": 13,
   "id": "77c84570",
   "metadata": {},
   "outputs": [
    {
     "name": "stderr",
     "output_type": "stream",
     "text": [
      "100%|████████████████████████████████████████████████████████████████| 10000/10000 [00:09<00:00, 1086.00it/s]\n"
     ]
    },
    {
     "data": {
      "text/plain": [
       "3.3261"
      ]
     },
     "execution_count": 13,
     "metadata": {},
     "output_type": "execute_result"
    }
   ],
   "source": [
    "# confirm answers above with simulation\n",
    "n_samples = int(1e4)\n",
    "x_0 = 1 # initial state (\\tau_{x_0})\n",
    "x_end = pi_e\n",
    "sims = np.array([sim_n_temp(np.array(P_ng.evalf().tolist(), dtype=float), x_0, x_end) for _ in tqdm(range(n_samples))])\n",
    "np.average(sims)"
   ]
  },
  {
   "cell_type": "code",
   "execution_count": 14,
   "id": "f42ebe8b",
   "metadata": {},
   "outputs": [
    {
     "name": "stderr",
     "output_type": "stream",
     "text": [
      "100%|████████████████████████████████████████████████████████████████| 10000/10000 [00:04<00:00, 2471.58it/s]\n"
     ]
    },
    {
     "data": {
      "text/plain": [
       "2.0544"
      ]
     },
     "execution_count": 14,
     "metadata": {},
     "output_type": "execute_result"
    }
   ],
   "source": [
    "# confirm answers above with simulation\n",
    "n_samples = int(1e4)\n",
    "x_0 = 2 # initial state (\\tau_{x_0})\n",
    "n_x = pi_g\n",
    "x_end = pi_e\n",
    "sims = np.array([sim_n(P_, x_0, n_x, x_end) for _ in tqdm(range(n_samples))])\n",
    "sims = sims[sims!=-1]\n",
    "np.average(sims)"
   ]
  },
  {
   "cell_type": "markdown",
   "id": "9ae1ecbe",
   "metadata": {},
   "source": [
    "this solution matches the analytic solution above. `tau0` $= 27/13 \\approx 2.07$"
   ]
  },
  {
   "cell_type": "markdown",
   "id": "887dcdc6",
   "metadata": {},
   "source": [
    "## Now, calculate $\\tau_g$"
   ]
  },
  {
   "cell_type": "markdown",
   "id": "2b40a6e7",
   "metadata": {},
   "source": [
    "this is the transition matrix given that suboptimal equilibrium is not visited. the row and column corresponding to the suboptimal equilibrium is removed and the transition matrix is normalized by it"
   ]
  },
  {
   "cell_type": "code",
   "execution_count": 15,
   "id": "4d294199",
   "metadata": {},
   "outputs": [
    {
     "data": {
      "text/latex": [
       "$\\displaystyle \\left[\\begin{matrix}\\frac{1}{5} & \\frac{1}{5} & \\frac{3}{5}\\\\\\frac{3}{7} & \\frac{3}{7} & \\frac{1}{7}\\\\0 & 0 & 1\\end{matrix}\\right]$"
      ],
      "text/plain": [
       "Matrix([\n",
       "[1/5, 1/5, 3/5],\n",
       "[3/7, 3/7, 1/7],\n",
       "[  0,   0,   1]])"
      ]
     },
     "execution_count": 15,
     "metadata": {},
     "output_type": "execute_result"
    }
   ],
   "source": [
    "P_ne"
   ]
  },
  {
   "cell_type": "code",
   "execution_count": 16,
   "id": "315c49ae",
   "metadata": {},
   "outputs": [],
   "source": [
    "# here, we calculate stopping time to the optimal equilibrium\n",
    "x_end = 3 # end state\n",
    "\n",
    "tau_1, tau_2, tau_3 = symbols('tau1:4')\n",
    "taus = [tau_1, tau_2, tau_3]"
   ]
  },
  {
   "cell_type": "code",
   "execution_count": 17,
   "id": "c7f04558",
   "metadata": {},
   "outputs": [],
   "source": [
    "xs_ne = [1, 2, 3]\n",
    "\n",
    "eqs = [\n",
    "        Eq(tau_3, 0),\n",
    "        Eq(tau_2, 1 + sum(P_ne[2-1, x_1 - 1]*tau_i for x_1, tau_i in zip(xs_ne, taus))),\n",
    "        Eq(tau_1, 1 + sum([P_ne[1-1, x_1 - 1]*tau_i for x_1, tau_i in zip(xs_ne, taus)]))\n",
    "      ]"
   ]
  },
  {
   "cell_type": "markdown",
   "id": "a5c95fca",
   "metadata": {},
   "source": [
    "The transition matrix gives us the following system of equations for hitting times corresponding to each initial state (policy)"
   ]
  },
  {
   "cell_type": "code",
   "execution_count": 18,
   "id": "960a4f93",
   "metadata": {},
   "outputs": [
    {
     "data": {
      "text/latex": [
       "$\\displaystyle \\tau_{3} = 0$"
      ],
      "text/plain": [
       "<IPython.core.display.Math object>"
      ]
     },
     "metadata": {},
     "output_type": "display_data"
    },
    {
     "data": {
      "text/latex": [
       "$\\displaystyle \\tau_{2} = \\frac{3 \\tau_{1}}{7} + \\frac{3 \\tau_{2}}{7} + \\frac{\\tau_{3}}{7} + 1$"
      ],
      "text/plain": [
       "<IPython.core.display.Math object>"
      ]
     },
     "metadata": {},
     "output_type": "display_data"
    },
    {
     "data": {
      "text/latex": [
       "$\\displaystyle \\tau_{1} = \\frac{\\tau_{1}}{5} + \\frac{\\tau_{2}}{5} + \\frac{3 \\tau_{3}}{5} + 1$"
      ],
      "text/plain": [
       "<IPython.core.display.Math object>"
      ]
     },
     "metadata": {},
     "output_type": "display_data"
    }
   ],
   "source": [
    "# display system of equations\n",
    "for eq in eqs:\n",
    "    display(Math(printing.default_latex(eq)))"
   ]
  },
  {
   "cell_type": "markdown",
   "id": "2879fcd9",
   "metadata": {},
   "source": [
    "The system of equations admits the following solution:"
   ]
  },
  {
   "cell_type": "code",
   "execution_count": 19,
   "id": "081a288b",
   "metadata": {},
   "outputs": [
    {
     "data": {
      "text/plain": [
       "{tau1: 27/13, tau2: 43/13, tau3: 0}"
      ]
     },
     "execution_count": 19,
     "metadata": {},
     "output_type": "execute_result"
    }
   ],
   "source": [
    "# solve system of equations\n",
    "solve(eqs)"
   ]
  },
  {
   "cell_type": "markdown",
   "id": "d5d4abf2",
   "metadata": {},
   "source": [
    "Now, we confirm the solution is correct via simulation:"
   ]
  },
  {
   "cell_type": "code",
   "execution_count": 20,
   "id": "8a0c5a42",
   "metadata": {},
   "outputs": [
    {
     "name": "stderr",
     "output_type": "stream",
     "text": [
      "100%|████████████████████████████████████████████████████████████████| 10000/10000 [00:03<00:00, 2516.68it/s]\n"
     ]
    },
    {
     "data": {
      "text/plain": [
       "2.0548"
      ]
     },
     "execution_count": 20,
     "metadata": {},
     "output_type": "execute_result"
    }
   ],
   "source": [
    "# confirm with simulation\n",
    "n_samples = int(1e4)\n",
    "x_0 = 1\n",
    "n_x = pi_e\n",
    "x_end = pi_g\n",
    "sims = np.array([sim_n(P_, x_0, n_x, x_end) for _ in tqdm(range(n_samples))])\n",
    "sims = sims[sims!=-1]\n",
    "np.average(sims)"
   ]
  },
  {
   "cell_type": "markdown",
   "id": "ac4a0675",
   "metadata": {},
   "source": [
    "this simulation matches the analytic solution above. `tau1` $= 27/13 \\approx 2.07$"
   ]
  },
  {
   "cell_type": "markdown",
   "id": "280e2a11",
   "metadata": {},
   "source": [
    "##  $\\min(\\tau_e, \\tau_g)$"
   ]
  },
  {
   "cell_type": "code",
   "execution_count": 21,
   "id": "8f006bef",
   "metadata": {},
   "outputs": [
    {
     "data": {
      "text/latex": [
       "$\\displaystyle \\left[\\begin{matrix}1 & 0 & 0 & 0\\\\\\frac{1}{16} & \\frac{3}{16} & \\frac{3}{16} & \\frac{9}{16}\\\\\\frac{9}{16} & \\frac{3}{16} & \\frac{3}{16} & \\frac{1}{16}\\\\0 & 0 & 0 & 1\\end{matrix}\\right]$"
      ],
      "text/plain": [
       "Matrix([\n",
       "[   1,    0,    0,    0],\n",
       "[1/16, 3/16, 3/16, 9/16],\n",
       "[9/16, 3/16, 3/16, 1/16],\n",
       "[   0,    0,    0,    1]])"
      ]
     },
     "execution_count": 21,
     "metadata": {},
     "output_type": "execute_result"
    }
   ],
   "source": [
    "P"
   ]
  },
  {
   "cell_type": "code",
   "execution_count": 22,
   "id": "31da697b",
   "metadata": {},
   "outputs": [],
   "source": [
    "# here, we calculate stopping time to the optimal equilibrium\n",
    "x_end = [0, 3] # end state\n",
    "\n",
    "tau_0, tau_1, tau_2, tau_3 = symbols('tau0:4')\n",
    "taus = [tau_0, tau_1, tau_2, tau_3]"
   ]
  },
  {
   "cell_type": "code",
   "execution_count": 23,
   "id": "2ace23d0",
   "metadata": {},
   "outputs": [],
   "source": [
    "xs = [0, 1, 2, 3]\n",
    "\n",
    "eqs = [\n",
    "        Eq(tau_3, 0),\n",
    "        Eq(tau_2, 1 + sum(P[2, x_1]*tau_i for x_1, tau_i in zip(xs, taus))),\n",
    "        Eq(tau_1, 1 + sum([P[1, x_1]*tau_i for x_1, tau_i in zip(xs, taus)])),\n",
    "        Eq(tau_0, 0)\n",
    "      ]"
   ]
  },
  {
   "cell_type": "code",
   "execution_count": 24,
   "id": "b22d6588",
   "metadata": {},
   "outputs": [
    {
     "data": {
      "text/latex": [
       "$\\displaystyle \\tau_{3} = 0$"
      ],
      "text/plain": [
       "<IPython.core.display.Math object>"
      ]
     },
     "metadata": {},
     "output_type": "display_data"
    },
    {
     "data": {
      "text/latex": [
       "$\\displaystyle \\tau_{2} = \\frac{9 \\tau_{0}}{16} + \\frac{3 \\tau_{1}}{16} + \\frac{3 \\tau_{2}}{16} + \\frac{\\tau_{3}}{16} + 1$"
      ],
      "text/plain": [
       "<IPython.core.display.Math object>"
      ]
     },
     "metadata": {},
     "output_type": "display_data"
    },
    {
     "data": {
      "text/latex": [
       "$\\displaystyle \\tau_{1} = \\frac{\\tau_{0}}{16} + \\frac{3 \\tau_{1}}{16} + \\frac{3 \\tau_{2}}{16} + \\frac{9 \\tau_{3}}{16} + 1$"
      ],
      "text/plain": [
       "<IPython.core.display.Math object>"
      ]
     },
     "metadata": {},
     "output_type": "display_data"
    },
    {
     "data": {
      "text/latex": [
       "$\\displaystyle \\tau_{0} = 0$"
      ],
      "text/plain": [
       "<IPython.core.display.Math object>"
      ]
     },
     "metadata": {},
     "output_type": "display_data"
    }
   ],
   "source": [
    "# display system of equations\n",
    "for eq in eqs:\n",
    "    display(Math(printing.default_latex(eq)))"
   ]
  },
  {
   "cell_type": "code",
   "execution_count": 25,
   "id": "4c2aa0b4",
   "metadata": {},
   "outputs": [
    {
     "data": {
      "text/plain": [
       "{tau0: 0, tau1: 8/5, tau2: 8/5, tau3: 0}"
      ]
     },
     "execution_count": 25,
     "metadata": {},
     "output_type": "execute_result"
    }
   ],
   "source": [
    "solve(eqs)"
   ]
  },
  {
   "cell_type": "code",
   "execution_count": 26,
   "id": "3bc6488e",
   "metadata": {},
   "outputs": [],
   "source": [
    "# simulation function to confirm answer\n",
    "def sim_n2(P, x_0, x_end):\n",
    "    x_t = x_0\n",
    "    t = 0\n",
    "    \n",
    "    while True:\n",
    "        if x_t in x_end:\n",
    "            return [x_t, t]\n",
    "        \n",
    "        x_t = np.random.choice(range(P.shape[0]), p=P[x_t])\n",
    "        t+= 1"
   ]
  },
  {
   "cell_type": "code",
   "execution_count": 27,
   "id": "c3233f58",
   "metadata": {},
   "outputs": [
    {
     "name": "stderr",
     "output_type": "stream",
     "text": [
      "100%|████████████████████████████████████████████████████████████████| 10000/10000 [00:02<00:00, 4253.79it/s]\n"
     ]
    },
    {
     "data": {
      "text/plain": [
       "1.6139"
      ]
     },
     "execution_count": 27,
     "metadata": {},
     "output_type": "execute_result"
    }
   ],
   "source": [
    "# confirm with simulation\n",
    "n_samples = int(1e4)\n",
    "x_0 = 1\n",
    "sims = np.array([sim_n2(P_, x_0, x_end) for _ in tqdm(range(n_samples))])\n",
    "np.average(sims[:,1]) # confirmed to be correct: 8/5 = 1.6"
   ]
  },
  {
   "cell_type": "markdown",
   "id": "0132d4fa",
   "metadata": {},
   "source": [
    "this simulation matches the analytic solution above. `tau1` $= 8/5 = 1.6$"
   ]
  },
  {
   "cell_type": "markdown",
   "id": "16a2b88d",
   "metadata": {},
   "source": [
    "## Now, Calculate the probability of ending at each equilibrium: $P(\\tau_e < \\tau_g)$\n",
    "\n",
    "\n",
    "$P(\\tau_e < \\tau_g) = \\frac{E[\\min(\\tau_e,\\tau_g)] - E[\\tau_g | \\tau_g<\\tau_e]}{E[\\tau_e | \\tau_e < \\tau_g] - E[\\tau_g | \\tau_g < \\tau_e]}$"
   ]
  },
  {
   "cell_type": "code",
   "execution_count": 28,
   "id": "597ca78a",
   "metadata": {},
   "outputs": [],
   "source": [
    "x_0 = 1\n",
    "tau_min = 8/5\n",
    "tau_e1 = 43/13\n",
    "tau_g1 = 27/13"
   ]
  },
  {
   "cell_type": "code",
   "execution_count": 29,
   "id": "fdf1c02b",
   "metadata": {},
   "outputs": [
    {
     "data": {
      "text/plain": [
       "-0.3875000000000002"
      ]
     },
     "execution_count": 29,
     "metadata": {},
     "output_type": "execute_result"
    }
   ],
   "source": [
    "(tau_min - tau_g1) / (tau_e1 - tau_g1) # this is incorrect"
   ]
  },
  {
   "cell_type": "markdown",
   "id": "f46adcd8",
   "metadata": {},
   "source": [
    "This should be $1/4$. The issue is that $\\tau_{e,i}$ and $\\tau_{g,i}$ are incorrect as computed here. They match the simulation `sim_n` above, but evidently this isn't equivalent to their definition (the simulation and computations above correspond to something else). If we apply a different simulation, `sim_n2`, the values seem to be correct and give the correct answer for $P(\\tau_e < \\tau_g)$"
   ]
  },
  {
   "cell_type": "markdown",
   "id": "ddc7d6aa",
   "metadata": {},
   "source": [
    "`sim_n2` is repeated for clarity. here, the simulation is allowed to terminate at either equilibrium. We only filter out the wrong equilibrium afterwards at the end."
   ]
  },
  {
   "cell_type": "code",
   "execution_count": 30,
   "id": "6e59fe73",
   "metadata": {},
   "outputs": [],
   "source": [
    "def sim_n2(P, x_0, x_end):\n",
    "    x_t = x_0\n",
    "    t = 0\n",
    "    \n",
    "    while True:\n",
    "        if x_t in x_end:\n",
    "            return [x_t, t] # return the terminating equilibrium and the stopping time\n",
    "        \n",
    "        x_t = np.random.choice(range(P.shape[0]), p=P[x_t])\n",
    "        t+= 1"
   ]
  },
  {
   "cell_type": "code",
   "execution_count": 31,
   "id": "53c50a8f",
   "metadata": {},
   "outputs": [
    {
     "name": "stderr",
     "output_type": "stream",
     "text": [
      "100%|██████████████████████████████████████████████████████████████| 100000/100000 [00:22<00:00, 4473.63it/s]\n"
     ]
    },
    {
     "name": "stdout",
     "output_type": "stream",
     "text": [
      "tau_g1:  1.3991809490885398\n",
      "tau_e1:  2.198378443790085\n"
     ]
    }
   ],
   "source": [
    "# apply sim_n2\n",
    "n_samples = int(1e5)\n",
    "x_0 = 1\n",
    "sims = np.array([sim_n2(P_, x_0, x_end) for _ in tqdm(range(n_samples))])\n",
    "np.average(sims[:,1]) # confirmed to be correct\n",
    "\n",
    "filt_g = sims[:, 0] == pi_g\n",
    "sims_g = sims[filt_g][:,1] # only consider simulations in which the global optimum is reached\n",
    "print('tau_g1: ', np.average(sims_g))\n",
    "\n",
    "filt_e = sims[:,0] == pi_e\n",
    "sims_e = sims[filt_e][:,1] # only consider simulations in which the suboptimal equilibrium is reached\n",
    "print('tau_e1: ', np.average(sims_e))"
   ]
  },
  {
   "cell_type": "code",
   "execution_count": 32,
   "id": "e24e4b0f",
   "metadata": {},
   "outputs": [],
   "source": [
    "x_0 = 1\n",
    "tau_min = 8/5\n",
    "tau_e1 = np.average(sims_e)\n",
    "tau_g1 = np.average(sims_g)"
   ]
  },
  {
   "cell_type": "code",
   "execution_count": 33,
   "id": "c4b2d0ef",
   "metadata": {},
   "outputs": [
    {
     "data": {
      "text/plain": [
       "0.2512758764170735"
      ]
     },
     "execution_count": 33,
     "metadata": {},
     "output_type": "execute_result"
    }
   ],
   "source": [
    "(tau_min - tau_g1) / (tau_e1 - tau_g1) # this is correct"
   ]
  },
  {
   "cell_type": "markdown",
   "id": "c78298e0",
   "metadata": {},
   "source": [
    "This gives the correct probability."
   ]
  },
  {
   "cell_type": "markdown",
   "id": "afc0bea5",
   "metadata": {},
   "source": [
    "Why is this not equivalent to `sim_n` and the computation with the systems of equations above? How would we compute the correct values matching `sim_n2` analytically? "
   ]
  }
 ],
 "metadata": {
  "kernelspec": {
   "display_name": "Python 3",
   "language": "python",
   "name": "python3"
  },
  "language_info": {
   "codemirror_mode": {
    "name": "ipython",
    "version": 3
   },
   "file_extension": ".py",
   "mimetype": "text/x-python",
   "name": "python",
   "nbconvert_exporter": "python",
   "pygments_lexer": "ipython3",
   "version": "3.8.5"
  }
 },
 "nbformat": 4,
 "nbformat_minor": 5
}
