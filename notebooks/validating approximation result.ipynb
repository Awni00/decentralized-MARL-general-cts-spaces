{
 "cells": [
  {
   "cell_type": "markdown",
   "id": "f46b572d",
   "metadata": {},
   "source": [
    "# Validating the Approximation Result"
   ]
  },
  {
   "cell_type": "markdown",
   "id": "8cd6be12",
   "metadata": {},
   "source": [
    "This notebook validates the approximation result below by comparing $P_\\infty$ obtained through our idealized framework of absorbing Markov chains with $P_{0:K}$ obtained via simulation."
   ]
  },
  {
   "cell_type": "markdown",
   "id": "6d74f990",
   "metadata": {},
   "source": [
    "**Theroem:** For a fixed game (with associated best-reply graph) and inertia parameters $\\lambda^1, ..., \\lambda^N$, consider the idealized best-reply process with inertia and the decentralized Q-learning algorithm. The idealized best-reply process has a constant transition kernel $P(G, \\boldsymbol{\\lambda})$ and absorption matrix $P_\\infty$ (as defined above).\n",
    "    \n",
    "Suppose that Assumption 1 and Assumption 2 hold. In particular, $\\delta^i \\in (0, \\bar{\\delta}), \\rho^i \\in (0, \\bar{\\rho})$, for all $i$.\n",
    "    \n",
    "For any $\\epsilon > 0$, there exists $\\bar{K}$, such that for any given $K > \\bar{K}, K < \\infty$, there exists $\\bar{T}_K$ such that if $T_k > \\bar{T}_K$ for $k=0,...,K$, then\n",
    "    \\begin{equation*}\n",
    "        Pr \\Big[ \\left|P_{0:K} - P_\\infty \\right|_\\infty < \\epsilon \\Big] \\geq 1 - \\epsilon\n",
    "    \\end{equation*}"
   ]
  },
  {
   "cell_type": "code",
   "execution_count": 1,
   "id": "30b5beed",
   "metadata": {},
   "outputs": [],
   "source": [
    "import itertools\n",
    "import numpy as np\n",
    "import networkx as nx\n",
    "\n",
    "from tqdm import tqdm\n",
    "from functools import partialmethod\n",
    "\n",
    "from sympy import *\n",
    "from sympy.interactive import printing\n",
    "from IPython.display import Math, display\n",
    "\n",
    "import matplotlib.pyplot as plt\n",
    "\n",
    "import sys\n",
    "sys.path\n",
    "sys.path.append('..')\n",
    "from multi_agent_learning import q_learning_alg1\n",
    "from br_graph_analysis import learn_br_graph, transition_matrix_from_br_graph\n",
    "import sim_utils"
   ]
  },
  {
   "cell_type": "markdown",
   "id": "afaca0d9",
   "metadata": {},
   "source": [
    "## Team 1: A 2-agent 2-action repeated team with 2 equilibria "
   ]
  },
  {
   "cell_type": "code",
   "execution_count": 2,
   "id": "2c95c87d",
   "metadata": {},
   "outputs": [],
   "source": [
    "# define initial state distribution\n",
    "def get_initial_state():\n",
    "    return 0 # (there is only one state)\n",
    "\n",
    "\n",
    "# defined reward_funcs\n",
    "reward_matrix = np.array([[0, -1], [-1, 1]])\n",
    "\n",
    "def reward(state, actions):\n",
    "    u0, u1 = actions\n",
    "    return reward_matrix[u0, u1]\n",
    "    \n",
    "reward_funcs = [reward, reward]\n",
    "\n",
    "\n",
    "# define transition function\n",
    "def transition_state(x, us):\n",
    "    '''returns next state given current state and action'''\n",
    "    return x\n",
    "\n",
    "\n",
    "# define learning rate\n",
    "r = 0.751 # 0.51\n",
    "def alpha_func(n):\n",
    "    return 1/(n**r)\n",
    "\n",
    "\n",
    "# everyhting else\n",
    "n_states = 1 # number of states\n",
    "n_agents = 2 # number of agents\n",
    "\n",
    "n_Us = [2] * n_agents # number of actions per agent (both agents have two actions)\n",
    "\n",
    "experimentation_probs = [0.1]*n_agents # probability of experimentation at each action (\\rho)\n",
    "betas = [0]*n_agents # discount factor\n",
    "deltas = [0]*n_agents # tolerance for suboptimality\n",
    "\n",
    "agent_policy_spaces = [list(itertools.product(range(n_Us[i]), repeat=n_states)) for i in range(n_agents)]\n",
    "joint_policy_space = list(itertools.product(*agent_policy_spaces))\n",
    "jp_dict = {i: jp for i,jp in enumerate(joint_policy_space)}\n",
    "inv_jp_dict = {jp: i for i,jp in jp_dict.items()}"
   ]
  },
  {
   "cell_type": "markdown",
   "id": "e0808e96",
   "metadata": {},
   "source": [
    "Here, we have a repeated team with two agents, each having two actions to choose from. They have the following reward matrix:"
   ]
  },
  {
   "cell_type": "code",
   "execution_count": 3,
   "id": "b96d6537",
   "metadata": {},
   "outputs": [
    {
     "data": {
      "text/latex": [
       "$\\displaystyle \\left[\\begin{matrix}0 & -1\\\\-1 & 1\\end{matrix}\\right]$"
      ],
      "text/plain": [
       "Matrix([\n",
       "[ 0, -1],\n",
       "[-1,  1]])"
      ]
     },
     "execution_count": 3,
     "metadata": {},
     "output_type": "execute_result"
    }
   ],
   "source": [
    "Matrix(reward_matrix)"
   ]
  },
  {
   "cell_type": "code",
   "execution_count": 4,
   "id": "183860f6",
   "metadata": {},
   "outputs": [],
   "source": [
    "game_problem = n_Us, n_states, n_agents, reward_funcs, betas, get_initial_state, \\\n",
    "                 transition_state, experimentation_probs, alpha_func, deltas "
   ]
  },
  {
   "cell_type": "markdown",
   "id": "a9d12024",
   "metadata": {},
   "source": [
    "We choose the agents to have inertia parameter $\\mathbf{\\lambda} = (1/4, 3/4)$"
   ]
  },
  {
   "cell_type": "code",
   "execution_count": 5,
   "id": "3b9fa0a6",
   "metadata": {},
   "outputs": [],
   "source": [
    "agent_inertias = [0.25, 0.75]"
   ]
  },
  {
   "cell_type": "code",
   "execution_count": 6,
   "id": "99d03856",
   "metadata": {},
   "outputs": [],
   "source": [
    "# # learn BR-graph\n",
    "# T = 1000\n",
    "# init_state = 0\n",
    "# br_graph = learn_br_graph(n_agents, n_states, n_Us, init_state, transition_state, reward_funcs, betas,\n",
    "#                   T, experimentation_probs, alpha_func, deltas)\n",
    "# nx.draw_spectral(br_graph, with_labels=True, arrowsize=40, edge_color='tab:grey')"
   ]
  },
  {
   "cell_type": "markdown",
   "id": "e92ac66c",
   "metadata": {},
   "source": [
    "This repeated team has the following best-reply graph"
   ]
  },
  {
   "cell_type": "code",
   "execution_count": 7,
   "id": "c2cd5ef4",
   "metadata": {},
   "outputs": [],
   "source": [
    "jp_order_ind = np.argsort(reward_matrix.flatten())[::-1]\n",
    "jp_order = [joint_policy_space[i] for i in jp_order_ind]\n",
    "\n",
    "br_graph = sim_utils.gen_br_graph_from_order(jp_order, jp_dict)"
   ]
  },
  {
   "cell_type": "code",
   "execution_count": 8,
   "id": "6015cf0c",
   "metadata": {},
   "outputs": [
    {
     "data": {
      "image/png": "[encoded data removed]",
      "text/plain": [
       "<Figure size 432x288 with 1 Axes>"
      ]
     },
     "metadata": {},
     "output_type": "display_data"
    }
   ],
   "source": [
    "node_colors = ['tab:blue']*len(jp_order)\n",
    "team_optimal_policy_ind = inv_jp_dict[jp_order[0]]\n",
    "node_colors[team_optimal_policy_ind] = 'tab:green'\n",
    "nx.draw_spectral(br_graph, with_labels=True, arrowsize=40, edge_color='tab:grey', node_color=node_colors)"
   ]
  },
  {
   "cell_type": "code",
   "execution_count": 9,
   "id": "73bd6b2d",
   "metadata": {},
   "outputs": [],
   "source": [
    "team_opt_policy = jp_order[0]\n",
    "inertias_syms, team_opt_prob, (P_ro, Q, R, N, B, P_inf_can) = \\\n",
    "        sim_utils.get_team_opt_prob(team_opt_policy, br_graph, jp_dict, return_all=True)"
   ]
  },
  {
   "cell_type": "markdown",
   "id": "244792c3",
   "metadata": {},
   "source": [
    "Via our results studying the idealized best-reply process through absorbing Markov chains, we get the following theoretical/idealized estimate for $P_\\infty$"
   ]
  },
  {
   "cell_type": "code",
   "execution_count": 10,
   "id": "3f1ebb7e",
   "metadata": {},
   "outputs": [
    {
     "data": {
      "text/latex": [
       "$\\displaystyle \\left[\\begin{matrix}0 & 0 & 0.25 & 0.75\\\\0 & 0 & 0.75 & 0.25\\\\0 & 0 & 1 & 0\\\\0 & 0 & 0 & 1\\end{matrix}\\right]$"
      ],
      "text/plain": [
       "Matrix([\n",
       "[0, 0, 0.25, 0.75],\n",
       "[0, 0, 0.75, 0.25],\n",
       "[0, 0,    1,    0],\n",
       "[0, 0,    0,    1]])"
      ]
     },
     "execution_count": 10,
     "metadata": {},
     "output_type": "execute_result"
    }
   ],
   "source": [
    "P_inf_can.subs(dict(zip(inertias_syms, agent_inertias)))"
   ]
  },
  {
   "cell_type": "markdown",
   "id": "36847849",
   "metadata": {},
   "source": [
    "And, through 10,000 simulation runs, we emperically estimate $P_{0:K} \\approx P_\\infty$. We find that it is very close to the theoretical values."
   ]
  },
  {
   "cell_type": "code",
   "execution_count": 11,
   "id": "e134029a",
   "metadata": {},
   "outputs": [
    {
     "name": "stderr",
     "output_type": "stream",
     "text": [
      "100%|██████████████| 10000/10000 [36:54<00:00,  4.52it/s]\n"
     ]
    }
   ],
   "source": [
    "(markov_transition_prob, emperical_transition_matrix), (markov_end_prob, emperical_end_probs) = \\\n",
    "            sim_utils.get_emperical_abs_probs(game_problem, agent_inertias, n_trials=10_000)"
   ]
  },
  {
   "cell_type": "code",
   "execution_count": 12,
   "id": "536c8874",
   "metadata": {},
   "outputs": [
    {
     "data": {
      "text/latex": [
       "$\\displaystyle \\left[\\begin{matrix}0 & 0 & 0.2537 & 0.7463\\\\0 & 0 & 0.7542 & 0.2458\\\\0 & 0 & 1.0 & 0\\\\0 & 0 & 0 & 1.0\\end{matrix}\\right]$"
      ],
      "text/plain": [
       "Matrix([\n",
       "[0, 0, 0.2537, 0.7463],\n",
       "[0, 0, 0.7542, 0.2458],\n",
       "[0, 0,    1.0,      0],\n",
       "[0, 0,      0,    1.0]])"
      ]
     },
     "execution_count": 12,
     "metadata": {},
     "output_type": "execute_result"
    }
   ],
   "source": [
    "Matrix(sim_utils.reorder_matrix_by_states(emperical_end_probs,jp_order_ind[::-1])).evalf(4)"
   ]
  },
  {
   "cell_type": "markdown",
   "id": "7682bc8a",
   "metadata": {},
   "source": [
    "# Team 2: a 2-agent 3-action repeated team with 2 equilibria"
   ]
  },
  {
   "cell_type": "code",
   "execution_count": 13,
   "id": "a5f64635",
   "metadata": {},
   "outputs": [],
   "source": [
    "# define initial state distribution\n",
    "def get_initial_state():\n",
    "    return 0 # (there is only one state)\n",
    "\n",
    "\n",
    "# defined reward_funcs\n",
    "reward_matrix = np.array([[7., 2., 1.],\n",
    "                           [3., 5., 6.],\n",
    "                           [0., 8., 4.]])\n",
    "\n",
    "def reward(state, actions):\n",
    "    u0, u1 = actions\n",
    "    return reward_matrix[u0, u1]\n",
    "    \n",
    "reward_funcs = [reward, reward]\n",
    "\n",
    "\n",
    "# define transition function\n",
    "def transition_state(x, us):\n",
    "    '''returns next state given current state and action'''\n",
    "    return x\n",
    "\n",
    "\n",
    "# define learning rate\n",
    "r = 0.751 # 0.51\n",
    "def alpha_func(n):\n",
    "    return 1/(n**r)\n",
    "\n",
    "\n",
    "# everyhting else\n",
    "n_states = 1 # number of states\n",
    "n_agents = 2 # number of agents\n",
    "\n",
    "n_Us = [3] * n_agents # number of actions per agent (both agents have two actions)\n",
    "\n",
    "experimentation_probs = [0.1]*n_agents # probability of experimentation at each action (\\rho)\n",
    "betas = [0]*n_agents # discount factor\n",
    "deltas = [0]*n_agents # tolerance for suboptimality\n",
    "\n",
    "agent_policy_spaces = [list(itertools.product(range(n_Us[i]), repeat=n_states)) for i in range(n_agents)]\n",
    "joint_policy_space = list(itertools.product(*agent_policy_spaces))\n",
    "jp_dict = {i: jp for i,jp in enumerate(joint_policy_space)}\n",
    "inv_jp_dict = {jp: i for i,jp in jp_dict.items()}"
   ]
  },
  {
   "cell_type": "markdown",
   "id": "5518a482",
   "metadata": {},
   "source": [
    "Here, we have a repeated team with two agents, each having two actions to choose from. They have the following reward matrix:"
   ]
  },
  {
   "cell_type": "code",
   "execution_count": 14,
   "id": "20a9870f",
   "metadata": {},
   "outputs": [
    {
     "data": {
      "text/latex": [
       "$\\displaystyle \\left[\\begin{matrix}7.0 & 2.0 & 1.0\\\\3.0 & 5.0 & 6.0\\\\0.0 & 8.0 & 4.0\\end{matrix}\\right]$"
      ],
      "text/plain": [
       "Matrix([\n",
       "[7.0, 2.0, 1.0],\n",
       "[3.0, 5.0, 6.0],\n",
       "[0.0, 8.0, 4.0]])"
      ]
     },
     "execution_count": 14,
     "metadata": {},
     "output_type": "execute_result"
    }
   ],
   "source": [
    "Matrix(reward_matrix)"
   ]
  },
  {
   "cell_type": "markdown",
   "id": "21d93ec8",
   "metadata": {},
   "source": [
    "We choose the agents to have inertia parameter $\\mathbf{\\lambda} = (1/4, 3/4)$"
   ]
  },
  {
   "cell_type": "code",
   "execution_count": 15,
   "id": "53355474",
   "metadata": {},
   "outputs": [],
   "source": [
    "game_problem = n_Us, n_states, n_agents, reward_funcs, betas, get_initial_state, \\\n",
    "                 transition_state, experimentation_probs, alpha_func, deltas "
   ]
  },
  {
   "cell_type": "code",
   "execution_count": 16,
   "id": "f4dfbf2b",
   "metadata": {},
   "outputs": [],
   "source": [
    "jp_order_ind = reward_matrix.flatten().argsort()[::-1]\n",
    "jp_order = [jp_dict[i] for i in jp_order_ind]"
   ]
  },
  {
   "cell_type": "markdown",
   "id": "7c01b993",
   "metadata": {},
   "source": [
    "This repeated team has the following best-reply graph"
   ]
  },
  {
   "cell_type": "code",
   "execution_count": 17,
   "id": "eb5c7e41",
   "metadata": {},
   "outputs": [],
   "source": [
    "# learn BR-graph\n",
    "T = 10000\n",
    "init_state = 0\n",
    "br_graph = learn_br_graph(n_agents, n_states, n_Us, init_state, transition_state, reward_funcs, betas,\n",
    "                  T, experimentation_probs, alpha_func, deltas)\n",
    "\n",
    "br_graph_ = nx.DiGraph.copy(br_graph)\n",
    "br_graph_.remove_edges_from(nx.selfloop_edges(br_graph_))"
   ]
  },
  {
   "cell_type": "code",
   "execution_count": 18,
   "id": "c465de28",
   "metadata": {},
   "outputs": [
    {
     "data": {
      "image/png": "[encoded data removed]",
      "text/plain": [
       "<Figure size 432x288 with 1 Axes>"
      ]
     },
     "metadata": {},
     "output_type": "display_data"
    }
   ],
   "source": [
    "node_colors = ['tab:blue']*len(jp_order)\n",
    "team_optimal_policy_ind = inv_jp_dict[jp_order[0]]\n",
    "node_colors[team_optimal_policy_ind] = 'tab:green'\n",
    "nx.draw_circular(br_graph_, with_labels=True, arrowsize=40, edge_color='tab:grey', node_color=node_colors)\n",
    "# nx.draw_circular(br_graph_, with_labels=True, arrowsize=40, edge_color='tab:grey')"
   ]
  },
  {
   "cell_type": "code",
   "execution_count": 19,
   "id": "165f3e6c",
   "metadata": {},
   "outputs": [],
   "source": [
    "team_opt_policy = jp_order[0]\n",
    "inertias_syms, team_opt_prob, (P_ro, Q, R, N, B, P_inf_can) = \\\n",
    "        sim_utils.get_team_opt_prob(team_opt_policy, br_graph_, jp_dict, return_all=True)"
   ]
  },
  {
   "cell_type": "markdown",
   "id": "0721e846",
   "metadata": {},
   "source": [
    "Via our results studying the idealized best-reply process through absorbing Markov chains, we get the following theoretical/idealized estimate for $P_\\infty$ and the final distribution"
   ]
  },
  {
   "cell_type": "code",
   "execution_count": 20,
   "id": "462bffd6",
   "metadata": {},
   "outputs": [
    {
     "data": {
      "text/latex": [
       "$\\displaystyle \\left[\\begin{matrix}0 & 0 & 0 & 0 & 0 & 0 & 0.25 & 0 & 0.75\\\\0 & 0 & 0 & 0 & 0 & 0 & 0.25 & 0.75 & 0\\\\0 & 0 & 0 & 0 & 0 & 0 & 0.75 & 0.25 & 0\\\\0 & 0 & 0 & 0 & 0 & 0 & 0 & 0.25 & 0.75\\\\0 & 0 & 0 & 0 & 0 & 0 & 0.75 & 0 & 0.25\\\\0 & 0 & 0 & 0 & 0 & 0 & 0 & 0.75 & 0.25\\\\0 & 0 & 0 & 0 & 0 & 0 & 1 & 0 & 0\\\\0 & 0 & 0 & 0 & 0 & 0 & 0 & 1 & 0\\\\0 & 0 & 0 & 0 & 0 & 0 & 0 & 0 & 1\\end{matrix}\\right]$"
      ],
      "text/plain": [
       "Matrix([\n",
       "[0, 0, 0, 0, 0, 0, 0.25,    0, 0.75],\n",
       "[0, 0, 0, 0, 0, 0, 0.25, 0.75,    0],\n",
       "[0, 0, 0, 0, 0, 0, 0.75, 0.25,    0],\n",
       "[0, 0, 0, 0, 0, 0,    0, 0.25, 0.75],\n",
       "[0, 0, 0, 0, 0, 0, 0.75,    0, 0.25],\n",
       "[0, 0, 0, 0, 0, 0,    0, 0.75, 0.25],\n",
       "[0, 0, 0, 0, 0, 0,    1,    0,    0],\n",
       "[0, 0, 0, 0, 0, 0,    0,    1,    0],\n",
       "[0, 0, 0, 0, 0, 0,    0,    0,    1]])"
      ]
     },
     "execution_count": 20,
     "metadata": {},
     "output_type": "execute_result"
    }
   ],
   "source": [
    "P_inf_can.subs(dict(zip(inertias_syms, agent_inertias)))"
   ]
  },
  {
   "cell_type": "code",
   "execution_count": 21,
   "id": "6076b00a",
   "metadata": {},
   "outputs": [
    {
     "data": {
      "text/latex": [
       "$\\displaystyle \\left[\\begin{matrix}0 & 0 & 0 & 0 & 0 & 0 & 0.333333333333333 & 0.333333333333333 & 0.333333333333333\\end{matrix}\\right]$"
      ],
      "text/plain": [
       "Matrix([[0, 0, 0, 0, 0, 0, 0.333333333333333, 0.333333333333333, 0.333333333333333]])"
      ]
     },
     "execution_count": 21,
     "metadata": {},
     "output_type": "execute_result"
    }
   ],
   "source": [
    "uniform_dist = Matrix([1/len(joint_policy_space)]*len(joint_policy_space)).T\n",
    "final_dist = simplify(Matrix(uniform_dist @ P_inf_can))\n",
    "final_dist"
   ]
  },
  {
   "cell_type": "markdown",
   "id": "fc2bb733",
   "metadata": {},
   "source": [
    "And, through 10,000 simulation runs, we emperically estimate $P_{0:K} \\approx P_\\infty$. We find that it is very close to the theoretical values."
   ]
  },
  {
   "cell_type": "code",
   "execution_count": 22,
   "id": "57447bf6",
   "metadata": {},
   "outputs": [
    {
     "name": "stderr",
     "output_type": "stream",
     "text": [
      "100%|██████████████| 10000/10000 [34:53<00:00,  4.78it/s]\n"
     ]
    }
   ],
   "source": [
    "(markov_transition_prob, emperical_transition_matrix), (markov_end_prob, emperical_end_probs) = \\\n",
    "            sim_utils.get_emperical_abs_probs(game_problem, agent_inertias, n_trials=10_000)"
   ]
  },
  {
   "cell_type": "code",
   "execution_count": 23,
   "id": "1977bfb6",
   "metadata": {},
   "outputs": [],
   "source": [
    "abs_states = [inv_jp_dict[node] for node in br_graph_.nodes if br_graph_.out_degree(node) == 0]\n",
    "trans_states = [i for i in range(len(joint_policy_space)) if i not in abs_states]\n",
    "team_opt = inv_jp_dict[team_opt_policy]\n",
    "\n",
    "# reorder abs_states so that team-optimal state is at the end\n",
    "abs_states.remove(team_opt)\n",
    "abs_states.append(team_opt)\n",
    "\n",
    "reorder = trans_states + abs_states"
   ]
  },
  {
   "cell_type": "code",
   "execution_count": 24,
   "id": "848bb732",
   "metadata": {},
   "outputs": [
    {
     "data": {
      "text/latex": [
       "$\\displaystyle \\left[\\begin{matrix}0 & 0 & 0 & 0 & 0 & 0 & 0.2517 & 0 & 0.7483\\\\0 & 0 & 0 & 0 & 0 & 0 & 0.2491 & 0.7509 & 0\\\\0 & 0 & 0 & 0 & 0 & 0 & 0.7456 & 0.2518 & 0.002641\\\\0 & 0 & 0 & 0 & 0 & 0 & 0 & 0.2606 & 0.7394\\\\0 & 0 & 0 & 0 & 0 & 0 & 0.753 & 0 & 0.247\\\\0 & 0 & 0 & 0 & 0 & 0 & 0 & 0.7561 & 0.2439\\\\0 & 0 & 0 & 0 & 0 & 0 & 1.0 & 0 & 0\\\\0 & 0 & 0 & 0 & 0 & 0 & 0 & 1.0 & 0\\\\0 & 0 & 0 & 0 & 0 & 0 & 0 & 0 & 1.0\\end{matrix}\\right]$"
      ],
      "text/plain": [
       "Matrix([\n",
       "[0, 0, 0, 0, 0, 0, 0.2517,      0,   0.7483],\n",
       "[0, 0, 0, 0, 0, 0, 0.2491, 0.7509,        0],\n",
       "[0, 0, 0, 0, 0, 0, 0.7456, 0.2518, 0.002641],\n",
       "[0, 0, 0, 0, 0, 0,      0, 0.2606,   0.7394],\n",
       "[0, 0, 0, 0, 0, 0,  0.753,      0,    0.247],\n",
       "[0, 0, 0, 0, 0, 0,      0, 0.7561,   0.2439],\n",
       "[0, 0, 0, 0, 0, 0,    1.0,      0,        0],\n",
       "[0, 0, 0, 0, 0, 0,      0,    1.0,        0],\n",
       "[0, 0, 0, 0, 0, 0,      0,      0,      1.0]])"
      ]
     },
     "execution_count": 24,
     "metadata": {},
     "output_type": "execute_result"
    }
   ],
   "source": [
    "Matrix(sim_utils.reorder_matrix_by_states(emperical_end_probs,reorder)).evalf(4)"
   ]
  },
  {
   "cell_type": "code",
   "execution_count": 25,
   "id": "3427779c",
   "metadata": {},
   "outputs": [
    {
     "data": {
      "text/latex": [
       "$\\displaystyle \\left[\\begin{matrix}0 & 0 & 0 & 0 & 0 & 0 & 0.333269966973199 & 0.335482703314887 & 0.3312466012107\\end{matrix}\\right]$"
      ],
      "text/plain": [
       "Matrix([[0, 0, 0, 0, 0, 0, 0.333269966973199, 0.335482703314887, 0.3312466012107]])"
      ]
     },
     "execution_count": 25,
     "metadata": {},
     "output_type": "execute_result"
    }
   ],
   "source": [
    "uniform_dist = Matrix([1/len(joint_policy_space)]*len(joint_policy_space)).T\n",
    "final_dist = simplify(Matrix(uniform_dist @ Matrix(sim_utils.reorder_matrix_by_states(emperical_end_probs,reorder)).evalf(4)))\n",
    "final_dist"
   ]
  }
 ],
 "metadata": {
  "kernelspec": {
   "display_name": "Python 3",
   "language": "python",
   "name": "python3"
  },
  "language_info": {
   "codemirror_mode": {
    "name": "ipython",
    "version": 3
   },
   "file_extension": ".py",
   "mimetype": "text/x-python",
   "name": "python",
   "nbconvert_exporter": "python",
   "pygments_lexer": "ipython3",
   "version": "3.8.5"
  }
 },
 "nbformat": 4,
 "nbformat_minor": 5
}
