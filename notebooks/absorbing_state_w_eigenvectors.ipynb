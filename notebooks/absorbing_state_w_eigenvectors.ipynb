{
 "cells": [
  {
   "cell_type": "markdown",
   "id": "68a1d880",
   "metadata": {},
   "source": [
    "# Studying Convergence to Absorbing States Via EigenDecomposition"
   ]
  },
  {
   "cell_type": "markdown",
   "id": "0219f37a",
   "metadata": {},
   "source": [
    "## Method"
   ]
  },
  {
   "cell_type": "markdown",
   "id": "b982d1f7",
   "metadata": {},
   "source": [
    "Consider the Markov chain corresponding to the best-reply process with inertia. Suppose there are $n_s$ joint policies (states in the Markov chain), $n_e$ of them are equilibria or absorbing states. Suppose further that we know the transition matrix of this Markov chain (determined by the best-reply graph and the inertia parameters $\\lambda^i$). Enumerate the joint policy space by the indices $0, 1, ..., n_s -1$ so that $(P)_{i,j}$ is the probability of transitioning from state $i$ to state $j$\n",
    "\n",
    "We wish to compute the probability of terminating at each absorbing state/policy given the initial state.\n",
    "\n",
    "These probabilities are given by the matrix:\n",
    "\n",
    "$$P_\\infty := \\lim_{t\\to\\infty}{P^t}$$\n",
    "\n",
    "Then, we have that $(P_\\infty)_{i,j}$ gives the probability of terminating at state $j$ given that the initial state is state $i$. There is some structure that we know about $(P_\\infty)_{i,j}$ immediately from the BR process. First, $(P_\\infty)_{i,j} > 0$ only if $j$ is one of the $n_e$ equilibria. Also, $(P_\\infty)_{i,i} = 1$ if $i$ is an equilibrium. Finally, of course, $\\sum_j{(P_\\infty)_{i,j}} = 1$ for all $i$. While $P_\\infty$ is an $n_s \\times n_s$ matrix, there are only $(n_s - n_e)\\times n_e$ unknown/relevant entries. \n",
    "\n",
    "Let's assume that the transition matrix $P$ is diagonalizable. \n",
    "\n",
    "\\[Q: Is this guaranteed if the inertias of each agent are different? (For the simple example studied here, $P$ is not diagonalizable when $\\lambda^0 = \\lambda^1 = 0.5$, but is when $\\lambda^0 = 0.25, \\lambda^1 = 0.75$)\\]\n",
    "\n",
    "Then:\n",
    "\n",
    "$$P = V \\Lambda V^{-1}$$\n",
    "\n",
    "Where $\\Lambda$ is the diagonal matrix of eigenvalues: $\\lambda_0, ..., \\lambda_{n_s}$. We know that $|\\lambda_i| \\le 1$ for all $i$ (confirm and justify). All eigenvalues $|\\lambda| < 1$ will vanish in the limit, and the eigenvectors with an eigenvalue $\\lambda = 1$ will correspond to the equilibria or absorbing states.\n",
    "\n",
    "Studying $(P_\\infty)_{i,j}$ in terms of its eigendecomposition, we have that:\n",
    "\n",
    "$$P_\\infty := \\lim_{t\\to\\infty}{P^t} = V (\\lim_{t\\to\\infty}{\\Lambda^t}) V^{-1}$$\n",
    "\n",
    "But, $\\lim_{t\\to\\infty}{\\Lambda^t}$ is simply the diagonal matrix of indicator functions for the condition $\\lambda_i = 1$.\n",
    "\n",
    "$$\n",
    "\\Lambda_\\infty := \\lim_{t\\to\\infty}{\\Lambda^t} = \n",
    "\\begin{bmatrix}\n",
    "1_{\\{\\lambda_0=1\\}} &  &  \\\\ \n",
    " &  \\ddots& \\\\ \n",
    " &  & 1_{\\{\\lambda_{n_s}=1\\}}\n",
    "\\end{bmatrix}\n",
    "$$\n",
    "\n",
    "Since $\\Lambda_\\infty$ is a diagonal matrix $0$ or $1$, $\\Lambda_\\infty = \\Lambda_\\infty^2$. So, \n",
    "\n",
    "$$P_\\infty = (V \\Lambda_\\infty) (\\Lambda_\\infty V^{-1})$$\n",
    "\n",
    "Let $A:= V \\Lambda_\\infty$ and $B:= \\Lambda_\\infty V^{-1}$, such that $P\\infty = AB$.\n",
    "\n",
    "Thus, $A$ is the matrix of eigenvectors corresponding to absorbing states with the rest of the eigenvectors (columns) zeroed out. Similarly, $B$ is the inverse eigenvector matrix with the rows corresponding to non-absorbing states zeroed out.\n",
    "\n",
    "So, only the eigenvectors corresponding to $\\lambda = 1$ are relevant to $A$.\n",
    "\n",
    "\\[note: more thought needed to interpret $B$ and the possible effect of non-absorbing eigenvectors\\].\n",
    "\n",
    "\n",
    "Then, to compute $(P_\\infty)_{i,j}$, we have the equation:\n",
    "\n",
    "$$(P_\\infty)_{i,j} = \\sum_{k=0}^{n_s-1}{(A)_{i,k} (B)_{k,j}}$$\n",
    "\n",
    "But, as noted above, only columns corresponding to the absorbing states are non-zero in $A$, and similarly only rows corresponding to absorbing states are non-zero in $B$. Thus, let the set of indices corresponding to absorbing states be $E:= \\{i : \\lambda_i = 1\\}$. Then $(P_\\infty)_{i,j}$ reduces to:\n",
    "\n",
    "$$(P_\\infty)_{i,j} = \\sum_{k \\in E}{(A)_{i,k} (B)_{k,j}}$$\n",
    "\n",
    "\\[Q: is $|E| = n_e$ necessarily?]\n"
   ]
  },
  {
   "cell_type": "markdown",
   "id": "f724acc8",
   "metadata": {},
   "source": [
    "## Applying to simple problem"
   ]
  },
  {
   "cell_type": "markdown",
   "id": "2c437cc9",
   "metadata": {},
   "source": [
    "Let us use this to compute $P_\\infty$ for the simple problem we studied earlier with the following best-reply graph.\n",
    "\n",
    "![brgraph](https://i.imgur.com/iDXX9n0.png)"
   ]
  },
  {
   "cell_type": "code",
   "execution_count": 1,
   "id": "7b31daa5",
   "metadata": {},
   "outputs": [],
   "source": [
    "import numpy as np\n",
    "from sympy import *\n",
    "\n",
    "from sympy.interactive import printing\n",
    "from IPython.display import Math, display"
   ]
  },
  {
   "cell_type": "markdown",
   "id": "6baa8143",
   "metadata": {},
   "source": [
    "This problem has the following transition matrix for its best-reply process with inertia. \n",
    "\n",
    "Note: states are enumerated according to the binary representation of the joint policy (i.e.: joint policy ((1,), (0,)) is state 2). State 0 and state 3 are the two equilibria (3 being the globally optimal one)."
   ]
  },
  {
   "cell_type": "code",
   "execution_count": 2,
   "id": "f57314de",
   "metadata": {},
   "outputs": [
    {
     "data": {
      "text/latex": [
       "$\\displaystyle P = \\left[\\begin{matrix}1 & 0 & 0 & 0\\\\\\frac{1}{16} & \\frac{3}{16} & \\frac{3}{16} & \\frac{9}{16}\\\\\\frac{9}{16} & \\frac{3}{16} & \\frac{3}{16} & \\frac{1}{16}\\\\0 & 0 & 0 & 1\\end{matrix}\\right]$"
      ],
      "text/plain": [
       "<IPython.core.display.Math object>"
      ]
     },
     "metadata": {},
     "output_type": "display_data"
    }
   ],
   "source": [
    "# define the transition matrix\n",
    "P_ = np.array([[1.    , 0.    , 0.    , 0.    ],\n",
    "               [0.0625, 0.1875, 0.1875, 0.5625],\n",
    "               [0.5625, 0.1875, 0.1875, 0.0625],\n",
    "               [0.    , 0.    , 0.    , 1.    ]])\n",
    "P = Matrix(P_).applyfunc(nsimplify)\n",
    "display(Math(f'P = {printing.default_latex(P)}'))"
   ]
  },
  {
   "cell_type": "markdown",
   "id": "6e1beba1",
   "metadata": {},
   "source": [
    "This matrix is diagonalizable, and admits the following eigendecomposition,"
   ]
  },
  {
   "cell_type": "code",
   "execution_count": 3,
   "id": "d056e910",
   "metadata": {},
   "outputs": [],
   "source": [
    "eigenvalues, V_ = np.linalg.eig(P_)"
   ]
  },
  {
   "cell_type": "markdown",
   "id": "4c822159",
   "metadata": {},
   "source": [
    "with eigenvector matrix $V$"
   ]
  },
  {
   "cell_type": "code",
   "execution_count": 4,
   "id": "f44e515e",
   "metadata": {},
   "outputs": [
    {
     "data": {
      "text/latex": [
       "$\\displaystyle V = \\left[\\begin{matrix}0 & 0 & \\frac{2 \\sqrt{26}}{13} & 0\\\\\\frac{\\sqrt{2}}{2} & \\frac{\\sqrt{2}}{2} & \\frac{\\sqrt{26}}{26} & \\frac{3 \\sqrt{26}}{26}\\\\\\frac{\\sqrt{2}}{2} & - \\frac{\\sqrt{2}}{2} & \\frac{3 \\sqrt{26}}{26} & \\frac{\\sqrt{26}}{26}\\\\0 & 0 & 0 & \\frac{2 \\sqrt{26}}{13}\\end{matrix}\\right]$"
      ],
      "text/plain": [
       "<IPython.core.display.Math object>"
      ]
     },
     "metadata": {},
     "output_type": "display_data"
    }
   ],
   "source": [
    "V = Matrix(V_).applyfunc(nsimplify)\n",
    "display(Math(f'V = {printing.default_latex(V)}'))"
   ]
  },
  {
   "cell_type": "markdown",
   "id": "d0c6a38b",
   "metadata": {},
   "source": [
    "and diagonal eigenvalue matrix $\\Lambda$"
   ]
  },
  {
   "cell_type": "code",
   "execution_count": 5,
   "id": "983df12f",
   "metadata": {},
   "outputs": [
    {
     "data": {
      "text/latex": [
       "$\\displaystyle \\Lambda = \\left[\\begin{matrix}0.375 & 0.0 & 0.0 & 0.0\\\\0.0 & -5.55111512312578 \\cdot 10^{-17} & 0.0 & 0.0\\\\0.0 & 0.0 & 1.0 & 0.0\\\\0.0 & 0.0 & 0.0 & 1.0\\end{matrix}\\right]$"
      ],
      "text/plain": [
       "<IPython.core.display.Math object>"
      ]
     },
     "metadata": {},
     "output_type": "display_data"
    }
   ],
   "source": [
    "L = Matrix(np.diag(eigenvalues))\n",
    "display(Math(f'\\Lambda = {printing.default_latex(L)}'))"
   ]
  },
  {
   "cell_type": "markdown",
   "id": "a41176eb",
   "metadata": {},
   "source": [
    "(One of the eigenvalues appears to be 0)"
   ]
  },
  {
   "cell_type": "markdown",
   "id": "b884436a",
   "metadata": {},
   "source": [
    "Thus, $\\Lambda_\\infty$ is the indicator for the eigenvectors corresponding to equilibrium states."
   ]
  },
  {
   "cell_type": "code",
   "execution_count": 6,
   "id": "ec91017a",
   "metadata": {},
   "outputs": [
    {
     "data": {
      "text/latex": [
       "$\\displaystyle \\Lambda_\\infty = \\left[\\begin{matrix}0 & 0 & 0 & 0\\\\0 & 0 & 0 & 0\\\\0 & 0 & 1 & 0\\\\0 & 0 & 0 & 1\\end{matrix}\\right]$"
      ],
      "text/plain": [
       "<IPython.core.display.Math object>"
      ]
     },
     "metadata": {},
     "output_type": "display_data"
    }
   ],
   "source": [
    "L_inf = Matrix(np.diag(eigenvalues >= 1).astype(int))\n",
    "display(Math(f'\\Lambda_\\infty = {printing.default_latex(L_inf)}'))"
   ]
  },
  {
   "cell_type": "markdown",
   "id": "bb96b55b",
   "metadata": {},
   "source": [
    "Thus, in calculating $A$, only the eigenvectors corresponding to the two equilibria are relevant. This gives $A$"
   ]
  },
  {
   "cell_type": "code",
   "execution_count": 7,
   "id": "d228546a",
   "metadata": {},
   "outputs": [
    {
     "data": {
      "text/latex": [
       "$\\displaystyle A = \\left[\\begin{matrix}0 & 0 & \\frac{2 \\sqrt{26}}{13} & 0\\\\0 & 0 & \\frac{\\sqrt{26}}{26} & \\frac{3 \\sqrt{26}}{26}\\\\0 & 0 & \\frac{3 \\sqrt{26}}{26} & \\frac{\\sqrt{26}}{26}\\\\0 & 0 & 0 & \\frac{2 \\sqrt{26}}{13}\\end{matrix}\\right]$"
      ],
      "text/plain": [
       "<IPython.core.display.Math object>"
      ]
     },
     "metadata": {},
     "output_type": "display_data"
    }
   ],
   "source": [
    "A = V * L_inf\n",
    "display(Math(f'A = {printing.default_latex(A)}'))"
   ]
  },
  {
   "cell_type": "markdown",
   "id": "7ffd054e",
   "metadata": {},
   "source": [
    "similarly, B is"
   ]
  },
  {
   "cell_type": "code",
   "execution_count": 8,
   "id": "1654e40a",
   "metadata": {},
   "outputs": [
    {
     "data": {
      "text/latex": [
       "$\\displaystyle B = \\left[\\begin{matrix}0 & 0 & 0 & 0\\\\0 & 0 & 0 & 0\\\\\\frac{\\sqrt{26}}{4} & 0 & 0 & 0\\\\0 & 0 & 0 & \\frac{\\sqrt{26}}{4}\\end{matrix}\\right]$"
      ],
      "text/plain": [
       "<IPython.core.display.Math object>"
      ]
     },
     "metadata": {},
     "output_type": "display_data"
    }
   ],
   "source": [
    "B = L_inf * V.inv()\n",
    "display(Math(f'B = {printing.default_latex(B)}'))"
   ]
  },
  {
   "cell_type": "markdown",
   "id": "c07ab579",
   "metadata": {},
   "source": [
    "Finally, now we can easily compute $P_\\infty$ from $P_\\infty = AB$"
   ]
  },
  {
   "cell_type": "code",
   "execution_count": 9,
   "id": "d6ce01ec",
   "metadata": {},
   "outputs": [
    {
     "data": {
      "text/latex": [
       "$\\displaystyle P_\\infty = \\left[\\begin{matrix}1 & 0 & 0 & 0\\\\\\frac{1}{4} & 0 & 0 & \\frac{3}{4}\\\\\\frac{3}{4} & 0 & 0 & \\frac{1}{4}\\\\0 & 0 & 0 & 1\\end{matrix}\\right]$"
      ],
      "text/plain": [
       "<IPython.core.display.Math object>"
      ]
     },
     "metadata": {},
     "output_type": "display_data"
    }
   ],
   "source": [
    "P_inf = A * B\n",
    "display(Math(f'P_\\infty = {printing.default_latex(P_inf)}'))"
   ]
  },
  {
   "cell_type": "markdown",
   "id": "da57d81e",
   "metadata": {},
   "source": [
    "This exactly gives us the probability of terminating at each equilibrium given an initial state. For example, this tells us that if we begin the process at state 1, corresponding to joint policy ((0,), (1,)), we will terminate at the suboptimal equilibrium with probability $1/4$ and the globally optimal equilibrium with probability $3/4$. This has been confirmed with simulation for all initial states."
   ]
  },
  {
   "cell_type": "markdown",
   "id": "4b622aac",
   "metadata": {},
   "source": [
    "Furthermore, we can compute the probability of ending at each equilibrium given any initial distribution over states. For example, suppose the initial state is uniformly distributed. This corresponds to the row vector $\\begin{bmatrix} 1/4 & 1/4 & 1/4 & 1/4 \\end{bmatrix}$. Then, we have:\n",
    "\n",
    "$$\\begin{bmatrix} 1/4 & 1/4 & 1/4 & 1/4 \\end{bmatrix} P_\\infty = \\begin{bmatrix} 1/2 & 0 & 0 & 1/2 \\end{bmatrix}$$\n",
    "\n",
    "So, there is an equal probability of terminating at either equilibrium."
   ]
  }
 ],
 "metadata": {
  "kernelspec": {
   "display_name": "Python 3",
   "language": "python",
   "name": "python3"
  },
  "language_info": {
   "codemirror_mode": {
    "name": "ipython",
    "version": 3
   },
   "file_extension": ".py",
   "mimetype": "text/x-python",
   "name": "python",
   "nbconvert_exporter": "python",
   "pygments_lexer": "ipython3",
   "version": "3.8.5"
  }
 },
 "nbformat": 4,
 "nbformat_minor": 5
}
