{
 "cells": [
  {
   "cell_type": "markdown",
   "id": "2bb72814",
   "metadata": {},
   "source": [
    "# The Best-Reply Graph of the Multi-stage Prisoner's Dilemma (Problem from AY'17 Paper)"
   ]
  },
  {
   "cell_type": "code",
   "execution_count": 1,
   "id": "e55e0a18",
   "metadata": {},
   "outputs": [],
   "source": [
    "import itertools\n",
    "import numpy as np\n",
    "from tqdm import tqdm"
   ]
  },
  {
   "cell_type": "markdown",
   "id": "4f5450ca",
   "metadata": {},
   "source": [
    "## Game parameters"
   ]
  },
  {
   "cell_type": "code",
   "execution_count": 2,
   "id": "125eeafb",
   "metadata": {},
   "outputs": [],
   "source": [
    "def get_initial_state():\n",
    "    # initial state distribution\n",
    "    return np.random.choice(range(n_states)) # uniform over states for now "
   ]
  },
  {
   "cell_type": "code",
   "execution_count": 3,
   "id": "3c9f72a8",
   "metadata": {},
   "outputs": [],
   "source": [
    "def create_cost_func(cost_matrix, i):\n",
    "    '''create a cost function : X, U -> cost from `cost_matrix`'''\n",
    "    # TODO: fix. cost depends only on \n",
    "    \n",
    "    def cost_func(x, us):\n",
    "        u = us[i]\n",
    "        return cost_matrix[x,u]\n",
    "\n",
    "    return cost_func"
   ]
  },
  {
   "cell_type": "code",
   "execution_count": 4,
   "id": "3413e1be",
   "metadata": {},
   "outputs": [],
   "source": [
    "a, b, c = -1, 2, 1\n",
    "reward_matrix = np.array([[c, a],[b, 0]])\n",
    "\n",
    "def reward0(state, actions):\n",
    "    ui, u_i = actions\n",
    "    return reward_matrix[ui, u_i]\n",
    "def reward1(state, actions):\n",
    "    u_i, ui = actions\n",
    "    return reward_matrix[ui, u_i]\n",
    "\n",
    "reward_funcs = [reward0, reward1]"
   ]
  },
  {
   "cell_type": "code",
   "execution_count": 5,
   "id": "90d49e63",
   "metadata": {},
   "outputs": [],
   "source": [
    "def transition_state(x, us):\n",
    "    '''returns next state given current state and action'''\n",
    "    gamma = 0.3\n",
    "\n",
    "    if us == [0,0]:\n",
    "        if np.random.random() < 1 - gamma:\n",
    "            return 0\n",
    "        else:\n",
    "            return 1\n",
    "    else:\n",
    "        if np.random.random() < 1 - gamma:\n",
    "            return 1\n",
    "        else:\n",
    "            return 0"
   ]
  },
  {
   "cell_type": "code",
   "execution_count": 6,
   "id": "ccda0273",
   "metadata": {},
   "outputs": [],
   "source": [
    "r = 0.751 # 0.51\n",
    "def calc_alpha(n):\n",
    "    return 1/(n**r)"
   ]
  },
  {
   "cell_type": "code",
   "execution_count": 7,
   "id": "f900a9eb",
   "metadata": {},
   "outputs": [],
   "source": [
    "n_states = 2 # number of states\n",
    "n_agents = 2 # number of agents\n",
    "\n",
    "n_Us = [2] * n_agents # number of actions per agent (both agents have two actions)\n",
    "\n",
    "experimentation_probs = [0.1]*n_agents # probability of experimentation at each action (\\rho)\n",
    "inertias = [0.5] * n_agents # inertias of each agent (\\lambda)\n",
    "betas = [0.9]*n_agents # discount factor\n",
    "deltas = [0]*n_agents # (in paper it's 0) [this is critical; does T depend on this?]\n",
    "n_exploration_phases = 100 # number of exploration phases\n",
    "T = 1000 # length of exploration phase"
   ]
  },
  {
   "cell_type": "markdown",
   "id": "3350ff7f",
   "metadata": {},
   "source": [
    "### Run Simulation"
   ]
  },
  {
   "cell_type": "code",
   "execution_count": 8,
   "id": "9ce502f3",
   "metadata": {},
   "outputs": [],
   "source": [
    "from multi_agent_learning import q_learning_alg1"
   ]
  },
  {
   "cell_type": "code",
   "execution_count": 9,
   "id": "83f30972",
   "metadata": {},
   "outputs": [
    {
     "name": "stderr",
     "output_type": "stream",
     "text": [
      "100%|█████████████████████████████████████████████████████████| 100/100 [00:10<00:00,  9.95it/s]\n"
     ]
    }
   ],
   "source": [
    "Qs, agent_policies, (policy_history, Qs_history, is_BR_history) = q_learning_alg1(n_Us, n_states, reward_funcs, betas,\n",
    "                                                                    get_initial_state, transition_state, \n",
    "                                                                    n_exploration_phases, T, experimentation_probs,\n",
    "                                                                    calc_alpha, deltas, inertias)"
   ]
  },
  {
   "cell_type": "code",
   "execution_count": 10,
   "id": "c553f139",
   "metadata": {},
   "outputs": [
    {
     "data": {
      "text/plain": [
       "[array([[-0.49012455,  0.62030387],\n",
       "        [-0.28299234,  0.64540712]]),\n",
       " array([[-0.37323041,  0.78524788],\n",
       "        [-0.14299502,  0.79073082]])]"
      ]
     },
     "execution_count": 10,
     "metadata": {},
     "output_type": "execute_result"
    }
   ],
   "source": [
    "Qs"
   ]
  },
  {
   "cell_type": "code",
   "execution_count": 11,
   "id": "cf4a7091",
   "metadata": {},
   "outputs": [
    {
     "data": {
      "text/plain": [
       "[(1, 1), (1, 1)]"
      ]
     },
     "execution_count": 11,
     "metadata": {},
     "output_type": "execute_result"
    }
   ],
   "source": [
    "agent_policies"
   ]
  },
  {
   "cell_type": "markdown",
   "id": "cd30681b",
   "metadata": {},
   "source": [
    "## Learn BR Graph"
   ]
  },
  {
   "cell_type": "code",
   "execution_count": 12,
   "id": "9019d969",
   "metadata": {},
   "outputs": [],
   "source": [
    "from br_graph_analysis import learn_br_graph"
   ]
  },
  {
   "cell_type": "code",
   "execution_count": 13,
   "id": "f841d6ec",
   "metadata": {},
   "outputs": [],
   "source": [
    "init_state = 0\n",
    "T = 10000 # length of exploration phase\n",
    "experimentation_probs = [0.01]*n_agents # probability of experimentation at each action (\\rho)\n",
    "deltas = [1e-5]*n_agents # (in paper it's 0) [this is critical; does T depend on this?]"
   ]
  },
  {
   "cell_type": "code",
   "execution_count": 14,
   "id": "e735f841",
   "metadata": {},
   "outputs": [
    {
     "name": "stderr",
     "output_type": "stream",
     "text": [
      "100%|███████████████████████████████████████████████████████████| 16/16 [00:18<00:00,  1.13s/it]\n"
     ]
    }
   ],
   "source": [
    "br_graph = learn_br_graph(n_agents, n_states, n_Us, init_state, transition_state, reward_funcs, betas,\n",
    "                  T, experimentation_probs, calc_alpha, deltas)"
   ]
  },
  {
   "cell_type": "code",
   "execution_count": 15,
   "id": "cf97a84b",
   "metadata": {},
   "outputs": [],
   "source": [
    "import networkx as nx\n",
    "import matplotlib.pyplot as plt"
   ]
  },
  {
   "cell_type": "code",
   "execution_count": 16,
   "id": "39ee507c",
   "metadata": {},
   "outputs": [
    {
     "data": {
      "image/png": "[encoded data removed]",
      "text/plain": [
       "<Figure size 720x576 with 1 Axes>"
      ]
     },
     "metadata": {},
     "output_type": "display_data"
    }
   ],
   "source": [
    "# draw BR graph (without self-loops)\n",
    "br_graph_ = nx.DiGraph.copy(br_graph)\n",
    "br_graph_.remove_edges_from(nx.selfloop_edges(br_graph_))\n",
    "fig, ax = plt.subplots(figsize=(10,8))\n",
    "nx.draw_spectral(br_graph_, with_labels=True, ax=ax)"
   ]
  },
  {
   "cell_type": "code",
   "execution_count": 17,
   "id": "35a76812",
   "metadata": {},
   "outputs": [
    {
     "data": {
      "text/plain": [
       "[((1, 1), (1, 1))]"
      ]
     },
     "execution_count": 17,
     "metadata": {},
     "output_type": "execute_result"
    }
   ],
   "source": [
    "[node for node in br_graph_.nodes if br_graph_.out_degree(node) == 0]"
   ]
  },
  {
   "cell_type": "markdown",
   "id": "7d000282",
   "metadata": {},
   "source": [
    "interesting. only one equilibrium found. supposed to be two? is there a mistake in the algorithm? or is it a numerical mistake due to the high sensitivity of the game set up?"
   ]
  }
 ],
 "metadata": {
  "kernelspec": {
   "display_name": "Python 3",
   "language": "python",
   "name": "python3"
  },
  "language_info": {
   "codemirror_mode": {
    "name": "ipython",
    "version": 3
   },
   "file_extension": ".py",
   "mimetype": "text/x-python",
   "name": "python",
   "nbconvert_exporter": "python",
   "pygments_lexer": "ipython3",
   "version": "3.8.5"
  }
 },
 "nbformat": 4,
 "nbformat_minor": 5
}
