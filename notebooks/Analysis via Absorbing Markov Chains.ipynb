{
 "cells": [
  {
   "cell_type": "markdown",
   "id": "4d4fe9ce",
   "metadata": {},
   "source": [
    "# An Analysis of Absorbing States in the BR Process with Inertia"
   ]
  },
  {
   "cell_type": "markdown",
   "id": "c778358c",
   "metadata": {},
   "source": [
    "## Introduction and Background"
   ]
  },
  {
   "cell_type": "markdown",
   "id": "0c745019",
   "metadata": {},
   "source": [
    "This is an approach to calculating the probability of being absorbed to any absorbing state given the initial state. It is a very nice approach that doesn't require computing limits or eigenvectors etc...\n",
    "\n",
    "The goal to keep in mind is that we want to compute $P_\\infty = \\lim_{t\\to\\infty}{P^t}$, which gives us the probability of the BR process terminating at state $j$ given that it started at state $i$. \n",
    "\n",
    "This method is based on Chapter 3 of \"Finite Markov Chains\" by Kemeney and Snell.\n",
    "\n",
    "**Def:** A markov chain is _absorbing_ if there is at least one absorbing state, and it is possible to transition in a finite number of steps from any state to at least one of the absorbing states.\n",
    "\n",
    "This is very reminiscint of the definition of weakly acyclic games. This is exactly the type of Markov chain we wish to study. The best-reply process with inertia is an absorbing Markov chain. \n",
    "\n",
    "Suppose our weakly acyclic game has $r$ absorbing states (equilibrium policies) and $t$ transient states (non-equilibrium policies).\n",
    "\n",
    "### Canonical Form:\n",
    "We can represent the transition matrix for the BR process of such game in \"canonical form\" by grouping the absorbing states and transient states. This takes the form:\n",
    "$$\n",
    "\\begin{bmatrix}\n",
    "Q & R\\\\ \n",
    "\\mathbf{0} & I_r\n",
    "\\end{bmatrix}\n",
    "$$\n",
    "\n",
    "Where Q is a $t \\times t$ matrix giving the transition probabilities between transient states, R is a $t \\times r$ matrix giving the transition probabilities from transient states to absorbing states, and $I_r$ is the $r \\times r$ identity matrix (since once you reach an absorbing state you stay there).\n",
    "\n",
    "We have the following theorem.\n",
    "\n",
    "**Theorem [3.1.1; Chapter 3]:** *In any finite Markov chain, the probability that the process is at an ergodic state after $n$ steps tends to 1 as $n \\to \\infty$*\n",
    "\n",
    "By this theorem, in $\\lim_{t \\to \\infty}{P^t}$, the $Q$ submatrix of $P$ will tend to $0$ as we raise $P$ to higher and higher powers. So, the first $t$ columns of $P_\\infty$ (in canonical form) will be $0$.\n",
    "\n",
    "\n",
    "### The Fundamental Matrix:\n",
    "\n",
    "Recalling the fact that $Q^t$ tends to $0$, we have the following theorem.\n",
    "\n",
    "**Theorem [3.2.1; Chapter 3]:** *For any absorbing Markov chain $(I_t - Q)$ has an inverse, and it is given by*\n",
    "$$\n",
    "(I_t - Q)^{-1} = \\sum_{k=0}^{\\infty}{Q^k}\n",
    "$$\n",
    "\n",
    "**Def:** Let the \"fundamental matrix\" be $N = (I_t - Q)^{-1}$\n",
    "\n",
    "**Theorem [3.2.4; Chapter 3]**: *$(N)_{i,j}$ is the expected number of times the process hits state $j$ given that it starts in $i$.*\n",
    "\n",
    "This is very useful. Apart from establishing that the number of times the matrix is in any non-absorbing state is finite, it also allows us to compute other useful things about the process (including what we ultimately want for our research).\n",
    "\n",
    "\n",
    "### Probability of being absorbed by each equilibrium\n",
    "\n",
    "Finally, we can compute the probability of being absorbed by each equilibrium.\n",
    "\n",
    "Define the $t \\times r$ matrix $B = NR$.\n",
    "\n",
    "**Theorem [3.2.7; Chapter 3]:** *$(B)_{i,j}$ is the probability that process is absorbed by absorbing state $j$ given that it started at transient state $i$.*\n",
    "\n",
    "This is exactly what we wanted. $B$ is the only part of $P_\\infty$ that is unknown; the rest is either $0$ or $1$ depending on whether the states are absorbing/transient.\n",
    "\n",
    "With this method, we didn't have to compute any eigenvalues or eigenvectors, and we didn't have to come up with and solve a system of equations. We also didn't need to compute a limit (theorem 3.2.1 saved us from that). We did need to compute an inverse, but otherwise all we needed was just submatrices of the transition matrix."
   ]
  },
  {
   "cell_type": "markdown",
   "id": "fa91b107",
   "metadata": {},
   "source": [
    "## Applying to our simple problem"
   ]
  },
  {
   "cell_type": "markdown",
   "id": "61586e93",
   "metadata": {},
   "source": [
    "Let us use this method to compute $B$ for the simple problem we studied earlier with the following best-reply graph.\n",
    "\n",
    "![brgraph](https://i.imgur.com/iDXX9n0.png)"
   ]
  },
  {
   "cell_type": "code",
   "execution_count": 1,
   "id": "036ad656",
   "metadata": {},
   "outputs": [],
   "source": [
    "import numpy as np\n",
    "from sympy import *\n",
    "\n",
    "from sympy.interactive import printing\n",
    "from IPython.display import Math, display"
   ]
  },
  {
   "cell_type": "markdown",
   "id": "ead63d1e",
   "metadata": {},
   "source": [
    "This team problem has the following transition matrix for its best-reply process with inertia. \n",
    "\n",
    "Note: states are enumerated according to the binary representation of the joint policy (i.e.: joint policy ((1,), (0,)) is state 2). State 0 and state 3 are the two equilibria/absorbing states (3 being the globally optimal one). States 1 and 2 are transient states."
   ]
  },
  {
   "cell_type": "code",
   "execution_count": 2,
   "id": "eadfd66d",
   "metadata": {},
   "outputs": [
    {
     "data": {
      "text/latex": [
       "$\\displaystyle P = \\left[\\begin{matrix}1 & 0 & 0 & 0\\\\\\frac{1}{16} & \\frac{3}{16} & \\frac{3}{16} & \\frac{9}{16}\\\\\\frac{9}{16} & \\frac{3}{16} & \\frac{3}{16} & \\frac{1}{16}\\\\0 & 0 & 0 & 1\\end{matrix}\\right]$"
      ],
      "text/plain": [
       "<IPython.core.display.Math object>"
      ]
     },
     "metadata": {},
     "output_type": "display_data"
    }
   ],
   "source": [
    "# define the transition matrix\n",
    "P_ = np.array([[1.    , 0.    , 0.    , 0.    ],\n",
    "               [0.0625, 0.1875, 0.1875, 0.5625],\n",
    "               [0.5625, 0.1875, 0.1875, 0.0625],\n",
    "               [0.    , 0.    , 0.    , 1.    ]])\n",
    "P = Matrix(P_).applyfunc(nsimplify)\n",
    "display(Math(f'P = {printing.default_latex(P)}'))"
   ]
  },
  {
   "cell_type": "markdown",
   "id": "9b5f1d27",
   "metadata": {},
   "source": [
    "We now put this in Canonical form. First, find the $Q$ and $R$ submatrices."
   ]
  },
  {
   "cell_type": "code",
   "execution_count": 3,
   "id": "e2d75322",
   "metadata": {},
   "outputs": [],
   "source": [
    "abs_states = [0, 3]\n",
    "trans_states = [1, 2]"
   ]
  },
  {
   "cell_type": "code",
   "execution_count": 4,
   "id": "10f16416",
   "metadata": {},
   "outputs": [
    {
     "data": {
      "text/latex": [
       "$\\displaystyle Q = \\left[\\begin{matrix}\\frac{3}{16} & \\frac{3}{16}\\\\\\frac{3}{16} & \\frac{3}{16}\\end{matrix}\\right]$"
      ],
      "text/plain": [
       "<IPython.core.display.Math object>"
      ]
     },
     "metadata": {},
     "output_type": "display_data"
    }
   ],
   "source": [
    "Q_ = P_[trans_states][:, trans_states]\n",
    "Q = Matrix(Q_).applyfunc(nsimplify)\n",
    "display(Math(f'Q = {printing.default_latex(Q)}'))"
   ]
  },
  {
   "cell_type": "code",
   "execution_count": 5,
   "id": "2b1ce1f0",
   "metadata": {},
   "outputs": [
    {
     "data": {
      "text/latex": [
       "$\\displaystyle R = \\left[\\begin{matrix}\\frac{1}{16} & \\frac{9}{16}\\\\\\frac{9}{16} & \\frac{1}{16}\\end{matrix}\\right]$"
      ],
      "text/plain": [
       "<IPython.core.display.Math object>"
      ]
     },
     "metadata": {},
     "output_type": "display_data"
    }
   ],
   "source": [
    "R_ = P_[trans_states][:, abs_states]\n",
    "R = Matrix(R_).applyfunc(nsimplify)\n",
    "display(Math(f'R = {printing.default_latex(R)}'))"
   ]
  },
  {
   "cell_type": "markdown",
   "id": "8ca3abf6",
   "metadata": {},
   "source": [
    "Now we get the transition matrix in canonical form by simply reordering the indices of the states."
   ]
  },
  {
   "cell_type": "code",
   "execution_count": 6,
   "id": "d6f3e08a",
   "metadata": {},
   "outputs": [
    {
     "data": {
      "text/latex": [
       "$\\displaystyle \\begin{bmatrix} Q & R\\\\ \\mathbf{0} & I_r \\end{bmatrix} = \\left[\\begin{matrix}\\frac{3}{16} & \\frac{3}{16} & \\frac{1}{16} & \\frac{9}{16}\\\\\\frac{3}{16} & \\frac{3}{16} & \\frac{9}{16} & \\frac{1}{16}\\\\0 & 0 & 1 & 0\\\\0 & 0 & 0 & 1\\end{matrix}\\right]$"
      ],
      "text/plain": [
       "<IPython.core.display.Math object>"
      ]
     },
     "metadata": {},
     "output_type": "display_data"
    }
   ],
   "source": [
    "reorder = [1, 2, 0, 3]\n",
    "P_ro_ = P_[reorder][:, reorder]\n",
    "P_ro = Matrix(P_ro_).applyfunc(nsimplify)\n",
    "can_P = '\\\\begin{bmatrix} Q & R\\\\\\\\ \\\\mathbf{0} & I_r \\\\end{bmatrix}'\n",
    "display(Math(f'{can_P} = {printing.default_latex(P_ro)}'))"
   ]
  },
  {
   "cell_type": "markdown",
   "id": "c67083c9",
   "metadata": {},
   "source": [
    "Now, we compute the fundamental matrix $N = (I_t - Q)^{-1}$"
   ]
  },
  {
   "cell_type": "code",
   "execution_count": 7,
   "id": "09ac374e",
   "metadata": {},
   "outputs": [
    {
     "data": {
      "text/latex": [
       "$\\displaystyle N = \\left[\\begin{matrix}\\frac{13}{10} & \\frac{3}{10}\\\\\\frac{3}{10} & \\frac{13}{10}\\end{matrix}\\right]$"
      ],
      "text/plain": [
       "<IPython.core.display.Math object>"
      ]
     },
     "metadata": {},
     "output_type": "display_data"
    }
   ],
   "source": [
    "I_t_ = np.eye(len(trans_states))\n",
    "N_ = np.linalg.inv(I_t_ - Q_)\n",
    "N = Matrix(N_).applyfunc(nsimplify)\n",
    "display(Math(f'N = {printing.default_latex(N)}'))"
   ]
  },
  {
   "cell_type": "markdown",
   "id": "46e46468",
   "metadata": {},
   "source": [
    "Finally, we can compute the absorbing probability vector $B = NR$. This gives the probability of ending at each of the $r$ absorbing state, given that we start at any of the $t$ transient states."
   ]
  },
  {
   "cell_type": "code",
   "execution_count": 8,
   "id": "1439335f",
   "metadata": {},
   "outputs": [
    {
     "data": {
      "text/latex": [
       "$\\displaystyle B = \\left[\\begin{matrix}\\frac{1}{4} & \\frac{3}{4}\\\\\\frac{3}{4} & \\frac{1}{4}\\end{matrix}\\right]$"
      ],
      "text/plain": [
       "<IPython.core.display.Math object>"
      ]
     },
     "metadata": {},
     "output_type": "display_data"
    }
   ],
   "source": [
    "B_ = N_ @ R_\n",
    "B = Matrix(B_).applyfunc(nsimplify)\n",
    "display(Math(f'B = {printing.default_latex(B)}'))"
   ]
  },
  {
   "cell_type": "markdown",
   "id": "5acc1d64",
   "metadata": {},
   "source": [
    "This of course matches the results from our earlier analysis via eigendecomposition which were confirmed via simulation.\n",
    "\n",
    "It tells us, for example, that the probability of converging to the globally optimal equilibrium (2nd absorbing state) given that we started at the policy ((0,), (1,)) (the 1st transient state) is $3/4$."
   ]
  }
 ],
 "metadata": {
  "kernelspec": {
   "display_name": "Python 3",
   "language": "python",
   "name": "python3"
  },
  "language_info": {
   "codemirror_mode": {
    "name": "ipython",
    "version": 3
   },
   "file_extension": ".py",
   "mimetype": "text/x-python",
   "name": "python",
   "nbconvert_exporter": "python",
   "pygments_lexer": "ipython3",
   "version": "3.8.5"
  }
 },
 "nbformat": 4,
 "nbformat_minor": 5
}
