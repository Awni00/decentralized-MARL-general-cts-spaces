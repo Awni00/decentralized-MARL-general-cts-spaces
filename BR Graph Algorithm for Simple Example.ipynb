{
 "cells": [
  {
   "cell_type": "code",
   "execution_count": 1,
   "id": "fd8a64c4",
   "metadata": {},
   "outputs": [],
   "source": [
    "import itertools\n",
    "import numpy as np\n",
    "import networkx as nx\n",
    "from tqdm import tqdm\n",
    "\n",
    "from br_graph_analysis import learn_br_graph, transition_matrix_from_br_graph"
   ]
  },
  {
   "cell_type": "markdown",
   "id": "00434f82",
   "metadata": {},
   "source": [
    "## Learning Best-Reply Graph Structure"
   ]
  },
  {
   "cell_type": "markdown",
   "id": "268eced6",
   "metadata": {},
   "source": [
    "Define a simple team problem, and the learning parameters for the algorithm."
   ]
  },
  {
   "cell_type": "code",
   "execution_count": 2,
   "id": "c00ac160",
   "metadata": {},
   "outputs": [],
   "source": [
    "# PARAMETERS\n",
    "\n",
    "# GAME PARAMETERS\n",
    "n_states = 1 # number of states\n",
    "n_agents = 2 # number of agents\n",
    "n_Us = [2] * n_agents # number of actions per agent (both agents have two actions)\n",
    "init_state = 0\n",
    "\n",
    "betas = [0.9]*n_agents # discount factor\n",
    "def transition_state(x, us): # transition function\n",
    "    '''returns next state given current state and action'''\n",
    "    return x\n",
    "\n",
    "reward_matrix = np.array([[0, -1], [-1, 1]])\n",
    "def reward(state, actions):\n",
    "    u0, u1 = actions\n",
    "    return reward_matrix[u0, u1]\n",
    "reward_funcs = [reward, reward] # reward functions\n",
    "\n",
    "\n",
    "# learning parameters\n",
    "T = 10000 # length of exploration phaseinit_state\n",
    "experimentation_probs = [0.05]*n_agents # probability of experimentation at each action (\\rho)\n",
    "alpha_func = lambda n: 1/n\n",
    "deltas = [1e-6]*n_agents # tolerance for suboptimality"
   ]
  },
  {
   "cell_type": "markdown",
   "id": "ffc737e3",
   "metadata": {},
   "source": [
    "Run the algorithm to find the best-reply graph for the prisoner's dilemma game above."
   ]
  },
  {
   "cell_type": "code",
   "execution_count": 3,
   "id": "c44fd29a",
   "metadata": {},
   "outputs": [
    {
     "name": "stderr",
     "output_type": "stream",
     "text": [
      "100%|█████████████████████████████████████████████████████████████| 4/4 [00:04<00:00,  1.08s/it]\n"
     ]
    }
   ],
   "source": [
    "br_graph = learn_br_graph(n_agents, n_states, n_Us, init_state, transition_state, reward_funcs, betas,\n",
    "                  T, experimentation_probs, alpha_func, deltas)"
   ]
  },
  {
   "cell_type": "markdown",
   "id": "ed4db3ac",
   "metadata": {},
   "source": [
    "Draw the returned best-reply graph."
   ]
  },
  {
   "cell_type": "code",
   "execution_count": 4,
   "id": "d2bd8c28",
   "metadata": {},
   "outputs": [
    {
     "data": {
      "image/png": "[encoded data removed]",
      "text/plain": [
       "<Figure size 432x288 with 1 Axes>"
      ]
     },
     "metadata": {},
     "output_type": "display_data"
    }
   ],
   "source": [
    "# draw BR graph\n",
    "nx.draw_spectral(br_graph, with_labels=True)"
   ]
  },
  {
   "cell_type": "code",
   "execution_count": 5,
   "id": "c8b058de",
   "metadata": {},
   "outputs": [],
   "source": [
    "# save BR graph\n",
    "nx.write_gpickle(br_graph, \"simple_br_graph.gpickle\")"
   ]
  },
  {
   "cell_type": "markdown",
   "id": "a5cf9514",
   "metadata": {},
   "source": [
    "## Compute Transition Matrix from Best-Reply Graph"
   ]
  },
  {
   "cell_type": "code",
   "execution_count": 6,
   "id": "a4e07d00",
   "metadata": {},
   "outputs": [],
   "source": [
    "import sympy"
   ]
  },
  {
   "cell_type": "code",
   "execution_count": 7,
   "id": "9175669e",
   "metadata": {},
   "outputs": [],
   "source": [
    "# BR Process PARAMETERS\n",
    "agent_inertias = [0.25, 0.75]\n",
    "\n",
    "agent_policy_spaces = [list(itertools.product(range(n_Us[i]), repeat=n_states)) for i in range(n_agents)]\n",
    "joint_policy_space = list(itertools.product(*agent_policy_spaces))"
   ]
  },
  {
   "cell_type": "markdown",
   "id": "dcd4b290",
   "metadata": {},
   "source": [
    "Run code to compute the transition matrix from the best-reply graph according to the agents' inertias. This was confirmed via simulation."
   ]
  },
  {
   "cell_type": "code",
   "execution_count": 8,
   "id": "238ad9a9",
   "metadata": {},
   "outputs": [
    {
     "data": {
      "text/latex": [
       "$\\displaystyle \\left[\\begin{matrix}1 & 0 & 0 & 0\\\\\\frac{1}{16} & \\frac{3}{16} & \\frac{3}{16} & \\frac{9}{16}\\\\\\frac{9}{16} & \\frac{3}{16} & \\frac{3}{16} & \\frac{1}{16}\\\\0 & 0 & 0 & 1\\end{matrix}\\right]$"
      ],
      "text/plain": [
       "Matrix([\n",
       "[   1,    0,    0,    0],\n",
       "[1/16, 3/16, 3/16, 9/16],\n",
       "[9/16, 3/16, 3/16, 1/16],\n",
       "[   0,    0,    0,    1]])"
      ]
     },
     "execution_count": 8,
     "metadata": {},
     "output_type": "execute_result"
    }
   ],
   "source": [
    "transition_matrix, jps_dict = transition_matrix_from_br_graph(br_graph, agent_inertias, joint_policy_space)\n",
    "sympy.Matrix(transition_matrix).applyfunc(sympy.nsimplify) # confirmed with simulation of q-learning algorithm"
   ]
  },
  {
   "cell_type": "markdown",
   "id": "41f477e3",
   "metadata": {},
   "source": [
    "Compute the probability of the process converging/ending at each policy given each \n",
    "starting policy via $\\lim_{t\\to\\infty}P^t$. This was also confirmed via simulation.\\\\\n",
    "\n",
    "For example, if starting at policy $2$, there is a $3/4$ probability of converging to policy $0$ (the suboptimal equilibrium) and a $1/4$ probability of converging to policy $3$ (the globally optimal equilibrium)."
   ]
  },
  {
   "cell_type": "code",
   "execution_count": 9,
   "id": "2d27e2ea",
   "metadata": {},
   "outputs": [
    {
     "data": {
      "text/latex": [
       "$\\displaystyle \\left[\\begin{matrix}1 & 0 & 0 & 0\\\\\\frac{1}{4} & 0 & 0 & \\frac{3}{4}\\\\\\frac{3}{4} & 0 & 0 & \\frac{1}{4}\\\\0 & 0 & 0 & 1\\end{matrix}\\right]$"
      ],
      "text/plain": [
       "Matrix([\n",
       "[  1, 0, 0,   0],\n",
       "[1/4, 0, 0, 3/4],\n",
       "[3/4, 0, 0, 1/4],\n",
       "[  0, 0, 0,   1]])"
      ]
     },
     "execution_count": 9,
     "metadata": {},
     "output_type": "execute_result"
    }
   ],
   "source": [
    "end_probs_matrix = np.round(np.linalg.matrix_power(transition_matrix, 100), 4)\n",
    "sympy.Matrix(end_probs_matrix).applyfunc(sympy.nsimplify)"
   ]
  }
 ],
 "metadata": {
  "kernelspec": {
   "display_name": "Python 3",
   "language": "python",
   "name": "python3"
  },
  "language_info": {
   "codemirror_mode": {
    "name": "ipython",
    "version": 3
   },
   "file_extension": ".py",
   "mimetype": "text/x-python",
   "name": "python",
   "nbconvert_exporter": "python",
   "pygments_lexer": "ipython3",
   "version": "3.8.5"
  }
 },
 "nbformat": 4,
 "nbformat_minor": 5
}
