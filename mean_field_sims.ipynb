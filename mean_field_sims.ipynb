{
 "cells": [
  {
   "cell_type": "markdown",
   "id": "efc40cd2",
   "metadata": {},
   "source": [
    "## Mean-field Simulations"
   ]
  },
  {
   "cell_type": "code",
   "execution_count": 1,
   "id": "c1309a44",
   "metadata": {},
   "outputs": [],
   "source": [
    "import itertools\n",
    "import numpy as np\n",
    "from tqdm import tqdm"
   ]
  },
  {
   "cell_type": "markdown",
   "id": "fe0fd2c9",
   "metadata": {},
   "source": [
    "### Constant Parameters"
   ]
  },
  {
   "cell_type": "code",
   "execution_count": 2,
   "id": "541b1eed",
   "metadata": {},
   "outputs": [],
   "source": [
    "n_states = 2 # number of states\n",
    "n_actions_const = 2 # all agents have the same action spaces"
   ]
  },
  {
   "cell_type": "code",
   "execution_count": 3,
   "id": "afdd61d9",
   "metadata": {},
   "outputs": [],
   "source": [
    "def get_initial_state():\n",
    "    # initial state distribution\n",
    "    return np.random.choice(range(n_states)) # uniform over states for now "
   ]
  },
  {
   "cell_type": "code",
   "execution_count": 4,
   "id": "3214f206",
   "metadata": {},
   "outputs": [],
   "source": [
    "def transition_state(x, us):\n",
    "    '''returns next state given current state and action'''\n",
    "    \n",
    "    # switches state if majority of agents \"affirm\"\n",
    "    mean_u = np.average(us)\n",
    "    if mean_u > 0.5:\n",
    "        return (x+1)%2\n",
    "    else:\n",
    "        return x"
   ]
  },
  {
   "cell_type": "code",
   "execution_count": 5,
   "id": "cad3c8ec",
   "metadata": {},
   "outputs": [],
   "source": [
    "r = 1\n",
    "def calc_alpha(n):\n",
    "    return 1/(n**r)"
   ]
  },
  {
   "cell_type": "code",
   "execution_count": 6,
   "id": "0dce921d",
   "metadata": {},
   "outputs": [],
   "source": [
    "def mf_reward(x, u_i, mean_u):\n",
    "    return float(x==1) # state 1 is desirable\n",
    "\n",
    "def gen_reward_i(i):\n",
    "    def reward_i(state, actions):\n",
    "        ui = actions[i]\n",
    "        mean_u = np.average(actions)\n",
    "        return mf_reward(state, ui, mean_u)\n",
    "    \n",
    "    return reward_i"
   ]
  },
  {
   "cell_type": "code",
   "execution_count": 7,
   "id": "0e3141dc",
   "metadata": {},
   "outputs": [],
   "source": [
    "# # temp problem: this one didn't converge to correct sln... (is it weakly acyclic)\n",
    "# def tmp_reward(x, us):\n",
    "#     return float(x==1)\n",
    "\n",
    "\n",
    "# def tmp_transition_state(x, us):\n",
    "#     # switch to other state if u0 = 0, u1 = 1\n",
    "#     if us[0]==0 and us[1]==1:\n",
    "#         return (x+1)%2\n",
    "#     else: return x"
   ]
  },
  {
   "cell_type": "markdown",
   "id": "19e35228",
   "metadata": {},
   "source": [
    "### N-Agent Simulations"
   ]
  },
  {
   "cell_type": "code",
   "execution_count": 8,
   "id": "d51df066",
   "metadata": {},
   "outputs": [],
   "source": [
    "def is_solution(agent_policies):\n",
    "    state_0_correct = np.average(np.array(agent_policies)[:,0]) > 0.5\n",
    "    state_1_correct = np.average(np.array(agent_policies)[:, 1]) <= 0.5\n",
    "    return state_0_correct and state_1_correct"
   ]
  },
  {
   "cell_type": "code",
   "execution_count": 9,
   "id": "9b15a6f2",
   "metadata": {},
   "outputs": [],
   "source": [
    "n_exploration_phases = 100 # number of exploration phases\n",
    "T = 1000 # length of exploration phase"
   ]
  },
  {
   "cell_type": "code",
   "execution_count": 10,
   "id": "38eaa0e3",
   "metadata": {},
   "outputs": [],
   "source": [
    "# works (i.e.: finds optimal set of policies) for 1, 2, 3, 4, 5 agents \n",
    "# optimal policy not found for 6 or 7 within K=100; T=1000\n",
    "n_agents = 5 # number of agents\n",
    "\n",
    "n_Us = [n_actions_const] * n_agents # number of actions per agent (both agents have two actions)\n",
    "\n",
    "experimentation_probs = [0.01]*n_agents # probability of experimentation at each action (\\rho)\n",
    "inertias = [0.5] * n_agents # inertias of each agent (\\lambda)\n",
    "betas = [0.9]*n_agents # discount factor\n",
    "deltas = [1e-6]*n_agents # (in paper it's 0) [this is critical; does T depend on this?]"
   ]
  },
  {
   "cell_type": "code",
   "execution_count": 11,
   "id": "c4ad6614",
   "metadata": {},
   "outputs": [],
   "source": [
    "reward_funcs = [gen_reward_i(i) for i in range(n_agents)]\n",
    "# reward_funcs = [tmp_reward]*n_agents"
   ]
  },
  {
   "cell_type": "code",
   "execution_count": 12,
   "id": "615d478b",
   "metadata": {},
   "outputs": [],
   "source": [
    "from multi_agent_learning import q_learning_alg1"
   ]
  },
  {
   "cell_type": "code",
   "execution_count": 13,
   "id": "e25b88eb",
   "metadata": {},
   "outputs": [
    {
     "name": "stderr",
     "output_type": "stream",
     "text": [
      "100%|███████████████████████████| 100/100 [00:17<00:00,  5.80it/s]\n"
     ]
    }
   ],
   "source": [
    "Qs, agent_policies, (policy_history, Qs_history, is_BR_history) = q_learning_alg1(n_Us, n_states, reward_funcs, betas,\n",
    "                                                                    get_initial_state, transition_state, \n",
    "                                                                    n_exploration_phases, T, experimentation_probs,\n",
    "                                                                    calc_alpha, deltas, inertias)"
   ]
  },
  {
   "cell_type": "code",
   "execution_count": 14,
   "id": "89680c51",
   "metadata": {},
   "outputs": [
    {
     "data": {
      "text/plain": [
       "[(0, 1), (1, 0), (1, 0), (1, 0), (0, 0)]"
      ]
     },
     "execution_count": 14,
     "metadata": {},
     "output_type": "execute_result"
    }
   ],
   "source": [
    "agent_policies"
   ]
  },
  {
   "cell_type": "code",
   "execution_count": 15,
   "id": "2861e0c1",
   "metadata": {},
   "outputs": [
    {
     "data": {
      "text/plain": [
       "True"
      ]
     },
     "execution_count": 15,
     "metadata": {},
     "output_type": "execute_result"
    }
   ],
   "source": [
    "is_solution(agent_policies)"
   ]
  },
  {
   "cell_type": "code",
   "execution_count": 16,
   "id": "912c3200",
   "metadata": {},
   "outputs": [
    {
     "data": {
      "text/plain": [
       "[array([[4.39605526, 0.        ],\n",
       "        [5.63385177, 5.37018495]]),\n",
       " array([[0.        , 4.64136554],\n",
       "        [5.90917197, 5.61060177]]),\n",
       " array([[0.        , 4.26106302],\n",
       "        [5.26925633, 3.41403899]]),\n",
       " array([[0.        , 4.18302523],\n",
       "        [5.1888442 , 4.55361192]]),\n",
       " array([[4.21709082, 0.        ],\n",
       "        [5.22068507, 4.38969588]])]"
      ]
     },
     "execution_count": 16,
     "metadata": {},
     "output_type": "execute_result"
    }
   ],
   "source": [
    "Qs"
   ]
  },
  {
   "cell_type": "code",
   "execution_count": 22,
   "id": "f9ef88d6",
   "metadata": {},
   "outputs": [
    {
     "data": {
      "text/plain": [
       "[<generator object <listcomp>.<genexpr> at 0x000002DDF4675BA0>,\n",
       " <generator object <listcomp>.<genexpr> at 0x000002DDF4675890>,\n",
       " <generator object <listcomp>.<genexpr> at 0x000002DDF4675820>,\n",
       " <generator object <listcomp>.<genexpr> at 0x000002DDF4675C80>,\n",
       " <generator object <listcomp>.<genexpr> at 0x000002DDF4675AC0>]"
      ]
     },
     "execution_count": 22,
     "metadata": {},
     "output_type": "execute_result"
    }
   ],
   "source": [
    "[(np.argmax(Qs[i][x,:]) for x in range(n_states)) for i in range(n_agents)]"
   ]
  },
  {
   "cell_type": "code",
   "execution_count": 17,
   "id": "33b5c667",
   "metadata": {},
   "outputs": [
    {
     "data": {
      "text/plain": [
       "[False, False, True, True, True]"
      ]
     },
     "execution_count": 17,
     "metadata": {},
     "output_type": "execute_result"
    }
   ],
   "source": [
    "is_BR_history[-1]"
   ]
  },
  {
   "cell_type": "code",
   "execution_count": 18,
   "id": "ae068ace",
   "metadata": {},
   "outputs": [
    {
     "data": {
      "text/plain": [
       "[[(1, 0), (1, 0), (1, 1), (1, 1), (0, 1)],\n",
       " [(1, 0), (1, 0), (1, 0), (0, 0), (1, 0)],\n",
       " [(1, 0), (1, 0), (1, 0), (0, 0), (1, 0)],\n",
       " [(1, 0), (1, 1), (1, 0), (0, 0), (1, 0)],\n",
       " [(1, 1), (1, 1), (1, 1), (0, 0), (1, 0)],\n",
       " [(0, 0), (0, 0), (1, 0), (1, 0), (0, 0)],\n",
       " [(0, 0), (0, 1), (1, 1), (1, 0), (0, 0)],\n",
       " [(0, 0), (1, 1), (1, 0), (1, 0), (0, 0)],\n",
       " [(0, 1), (1, 1), (1, 0), (1, 0), (0, 0)],\n",
       " [(0, 1), (1, 1), (1, 0), (1, 0), (0, 0)]]"
      ]
     },
     "execution_count": 18,
     "metadata": {},
     "output_type": "execute_result"
    }
   ],
   "source": [
    "policy_history[-10:]"
   ]
  },
  {
   "cell_type": "code",
   "execution_count": 19,
   "id": "a900b129",
   "metadata": {},
   "outputs": [
    {
     "data": {
      "text/plain": [
       "array([False, False, False,  True, False, False,  True, False, False,\n",
       "       False, False,  True,  True, False, False, False, False, False,\n",
       "        True, False, False, False, False, False,  True, False, False,\n",
       "       False, False, False,  True, False, False, False, False, False,\n",
       "       False, False, False, False, False, False, False, False, False,\n",
       "       False, False,  True,  True, False, False, False, False, False,\n",
       "       False, False, False, False, False, False, False, False, False,\n",
       "       False, False, False, False, False, False, False, False,  True,\n",
       "       False, False, False,  True, False, False,  True, False, False,\n",
       "       False, False,  True, False, False, False, False, False, False,\n",
       "       False, False, False, False, False, False, False, False, False,\n",
       "       False])"
      ]
     },
     "execution_count": 19,
     "metadata": {},
     "output_type": "execute_result"
    }
   ],
   "source": [
    "np.all(is_BR_history, axis=1)"
   ]
  },
  {
   "cell_type": "code",
   "execution_count": 20,
   "id": "4efdda0e",
   "metadata": {},
   "outputs": [],
   "source": [
    "policies_check = np.array(policy_history)[np.all(is_BR_history, axis=1)]\n",
    "is_correct = [is_solution(p) for p in policies_check]"
   ]
  },
  {
   "cell_type": "code",
   "execution_count": 21,
   "id": "33e46b5a",
   "metadata": {},
   "outputs": [
    {
     "data": {
      "text/plain": [
       "[True, True, True, True, True, True, True, True, True, True, True, True, True]"
      ]
     },
     "execution_count": 21,
     "metadata": {},
     "output_type": "execute_result"
    }
   ],
   "source": [
    "is_correct"
   ]
  }
 ],
 "metadata": {
  "kernelspec": {
   "display_name": "Python 3",
   "language": "python",
   "name": "python3"
  },
  "language_info": {
   "codemirror_mode": {
    "name": "ipython",
    "version": 3
   },
   "file_extension": ".py",
   "mimetype": "text/x-python",
   "name": "python",
   "nbconvert_exporter": "python",
   "pygments_lexer": "ipython3",
   "version": "3.8.5"
  }
 },
 "nbformat": 4,
 "nbformat_minor": 5
}
